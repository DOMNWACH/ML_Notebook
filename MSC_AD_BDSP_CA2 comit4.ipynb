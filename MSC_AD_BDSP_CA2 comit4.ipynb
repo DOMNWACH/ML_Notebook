{
 "cells": [
  {
   "cell_type": "markdown",
   "metadata": {
    "_cell_guid": "b1076dfc-b9ad-4769-8c92-a6c4dae69d19",
    "_uuid": "8f2839f25d086af736a60e9eeb907d3b93b6e0e5"
   },
   "source": [
    "<h2 align=\"center\" style=\"background-color:#2D3436;color:white;border-radius:8px;padding:15px\">Forecasting Stock Prices using Sentiment Analysis and Time Series Models: An Advanced Data Analytics Approach</h2>"
   ]
  },
  {
   "cell_type": "markdown",
   "metadata": {},
   "source": [
    "### **Table of Contents**\n",
    "\n",
    "- [Introduction](#Introduction)\n",
    "   - Assessment Overview\n",
    "   - Objectives\n",
    "   - Data Source and Storage\n",
    "- [Install and Import Required Libraries](#Install-and-Import-Required-Libraries)\n",
    "- [Load Dataset](#Load-Dataset)"
   ]
  },
  {
   "cell_type": "markdown",
   "metadata": {
    "execution": {
     "iopub.execute_input": "2025-02-28T08:23:52.241021Z",
     "iopub.status.busy": "2025-02-28T08:23:52.240719Z",
     "iopub.status.idle": "2025-02-28T08:23:52.247331Z",
     "shell.execute_reply": "2025-02-28T08:23:52.246134Z",
     "shell.execute_reply.started": "2025-02-28T08:23:52.240997Z"
    }
   },
   "source": [
    "<h3 style=\"background-color:#2D3436;color:white;border-radius:8px;padding:15px\">Introduction</h3>"
   ]
  },
  {
   "cell_type": "markdown",
   "metadata": {},
   "source": [
    "### Assessment Overview"
   ]
  },
  {
   "cell_type": "code",
   "execution_count": null,
   "metadata": {
    "trusted": true
   },
   "outputs": [],
   "source": []
  },
  {
   "cell_type": "markdown",
   "metadata": {
    "execution": {
     "iopub.execute_input": "2025-02-28T08:26:12.008598Z",
     "iopub.status.busy": "2025-02-28T08:26:12.008322Z",
     "iopub.status.idle": "2025-02-28T08:26:12.011797Z",
     "shell.execute_reply": "2025-02-28T08:26:12.010942Z",
     "shell.execute_reply.started": "2025-02-28T08:26:12.008574Z"
    }
   },
   "source": [
    "### Objectives"
   ]
  },
  {
   "cell_type": "code",
   "execution_count": null,
   "metadata": {
    "trusted": true
   },
   "outputs": [],
   "source": []
  },
  {
   "cell_type": "markdown",
   "metadata": {},
   "source": [
    "### Data Source and Storage"
   ]
  },
  {
   "cell_type": "code",
   "execution_count": null,
   "metadata": {
    "trusted": true
   },
   "outputs": [],
   "source": []
  },
  {
   "cell_type": "markdown",
   "metadata": {},
   "source": [
    "<h3 style=\"background-color:#2D3436;color:white;border-radius:8px;padding:15px\">Install and Import Required Libraries</h3>"
   ]
  },
  {
   "cell_type": "code",
   "execution_count": 1,
   "metadata": {
    "execution": {
     "iopub.execute_input": "2025-04-21T10:21:08.080390Z",
     "iopub.status.busy": "2025-04-21T10:21:08.079989Z",
     "iopub.status.idle": "2025-04-21T10:21:11.930077Z",
     "shell.execute_reply": "2025-04-21T10:21:11.928745Z",
     "shell.execute_reply.started": "2025-04-21T10:21:08.080359Z"
    },
    "trusted": true
   },
   "outputs": [],
   "source": [
    "!pip install -q pyspark pandas"
   ]
  },
  {
   "cell_type": "code",
   "execution_count": 2,
   "metadata": {
    "execution": {
     "iopub.execute_input": "2025-04-21T10:21:11.932766Z",
     "iopub.status.busy": "2025-04-21T10:21:11.932416Z",
     "iopub.status.idle": "2025-04-21T10:21:13.377485Z",
     "shell.execute_reply": "2025-04-21T10:21:13.376294Z",
     "shell.execute_reply.started": "2025-04-21T10:21:11.932728Z"
    },
    "trusted": true
   },
   "outputs": [],
   "source": [
    "import os\n",
    "from datetime import datetime, timedelta\n",
    "\n",
    "import sqlite3\n",
    "from pyspark.sql import SparkSession\n",
    "from pyspark.sql.functions import col, count, when, lit, to_date, avg, stddev, desc, first\n",
    "from pyspark.sql.types import StructType, StructField, StringType, DoubleType, LongType\n",
    "from pyspark.sql.window import Window\n",
    "\n",
    "import numpy as np\n",
    "import pandas as pd\n",
    "\n",
    "import matplotlib.pyplot as plt\n",
    "import seaborn as sns\n",
    "import plotly.express as px\n",
    "\n",
    "import warnings\n",
    "warnings.filterwarnings('ignore')"
   ]
  },
  {
   "cell_type": "markdown",
   "metadata": {},
   "source": [
    "<h3 style=\"background-color:#2D3436;color:white;border-radius:8px;padding:15px\">Load Dataset</h3>"
   ]
  },
  {
   "cell_type": "markdown",
   "metadata": {
    "execution": {
     "iopub.execute_input": "2025-04-21T08:52:42.600571Z",
     "iopub.status.busy": "2025-04-21T08:52:42.600276Z",
     "iopub.status.idle": "2025-04-21T08:52:42.605321Z",
     "shell.execute_reply": "2025-04-21T08:52:42.604154Z",
     "shell.execute_reply.started": "2025-04-21T08:52:42.600543Z"
    }
   },
   "source": [
    "#### **Initialize Spark Session and Define Data Paths**"
   ]
  },
  {
   "cell_type": "code",
   "execution_count": 3,
   "metadata": {
    "execution": {
     "iopub.execute_input": "2025-04-21T10:21:13.379523Z",
     "iopub.status.busy": "2025-04-21T10:21:13.378863Z",
     "iopub.status.idle": "2025-04-21T10:21:18.579067Z",
     "shell.execute_reply": "2025-04-21T10:21:18.577708Z",
     "shell.execute_reply.started": "2025-04-21T10:21:13.379486Z"
    },
    "trusted": true
   },
   "outputs": [
    {
     "name": "stderr",
     "output_type": "stream",
     "text": [
      "Setting default log level to \"WARN\".\n",
      "To adjust logging level use sc.setLogLevel(newLevel). For SparkR, use setLogLevel(newLevel).\n",
      "25/04/21 10:21:16 WARN NativeCodeLoader: Unable to load native-hadoop library for your platform... using builtin-java classes where applicable\n"
     ]
    }
   ],
   "source": [
    "spark = SparkSession.builder \\\n",
    "    .appName(\"Stock Tweet Analysis\") \\\n",
    "    .config(\"spark.memory.offHeap.enabled\", \"true\") \\\n",
    "    .config(\"spark.memory.offHeap.size\", \"10g\") \\\n",
    "    .getOrCreate()"
   ]
  },
  {
   "cell_type": "code",
   "execution_count": 4,
   "metadata": {
    "execution": {
     "iopub.execute_input": "2025-04-21T10:21:18.582094Z",
     "iopub.status.busy": "2025-04-21T10:21:18.581719Z",
     "iopub.status.idle": "2025-04-21T10:21:18.589853Z",
     "shell.execute_reply": "2025-04-21T10:21:18.588745Z",
     "shell.execute_reply.started": "2025-04-21T10:21:18.582064Z"
    },
    "trusted": true
   },
   "outputs": [],
   "source": [
    "spark.sparkContext.setLogLevel(\"ERROR\")"
   ]
  },
  {
   "cell_type": "code",
   "execution_count": 5,
   "metadata": {
    "execution": {
     "iopub.execute_input": "2025-04-21T10:21:18.591500Z",
     "iopub.status.busy": "2025-04-21T10:21:18.591145Z",
     "iopub.status.idle": "2025-04-21T10:21:18.613497Z",
     "shell.execute_reply": "2025-04-21T10:21:18.612685Z",
     "shell.execute_reply.started": "2025-04-21T10:21:18.591474Z"
    },
    "trusted": true
   },
   "outputs": [],
   "source": [
    "tweet_data_path = \"/kaggle/input/stock-tweet-and-price/stock-tweet-and-price/stocktweet/stocktweet.csv\"\n",
    "stock_price_folder = \"/kaggle/input/stock-tweet-and-price/stock-tweet-and-price/stockprice\"\n",
    "db_path = \"stock_analysis.db\""
   ]
  },
  {
   "cell_type": "markdown",
   "metadata": {},
   "source": [
    "#### **Define Data Schemas**"
   ]
  },
  {
   "cell_type": "code",
   "execution_count": 6,
   "metadata": {
    "execution": {
     "iopub.execute_input": "2025-04-21T10:21:18.615167Z",
     "iopub.status.busy": "2025-04-21T10:21:18.614632Z",
     "iopub.status.idle": "2025-04-21T10:21:18.635955Z",
     "shell.execute_reply": "2025-04-21T10:21:18.634093Z",
     "shell.execute_reply.started": "2025-04-21T10:21:18.615136Z"
    },
    "trusted": true
   },
   "outputs": [],
   "source": [
    "# Define the companies to analyze\n",
    "companies = ['AAPL', 'AMZN', 'MSFT', 'TSLA', 'GOOGL', 'FB']"
   ]
  },
  {
   "cell_type": "code",
   "execution_count": 7,
   "metadata": {
    "execution": {
     "iopub.execute_input": "2025-04-21T10:21:18.638158Z",
     "iopub.status.busy": "2025-04-21T10:21:18.637753Z",
     "iopub.status.idle": "2025-04-21T10:21:18.658930Z",
     "shell.execute_reply": "2025-04-21T10:21:18.657130Z",
     "shell.execute_reply.started": "2025-04-21T10:21:18.638125Z"
    },
    "trusted": true
   },
   "outputs": [],
   "source": [
    "# Define schema for tweet data\n",
    "tweet_schema = StructType([\n",
    "    StructField(\"id\", StringType(), True),\n",
    "    StructField(\"date\", StringType(), True),\n",
    "    StructField(\"ticker\", StringType(), True),\n",
    "    StructField(\"tweet\", StringType(), True)\n",
    "])"
   ]
  },
  {
   "cell_type": "code",
   "execution_count": 8,
   "metadata": {
    "execution": {
     "iopub.execute_input": "2025-04-21T10:21:18.661224Z",
     "iopub.status.busy": "2025-04-21T10:21:18.660829Z",
     "iopub.status.idle": "2025-04-21T10:21:18.683564Z",
     "shell.execute_reply": "2025-04-21T10:21:18.682389Z",
     "shell.execute_reply.started": "2025-04-21T10:21:18.661178Z"
    },
    "trusted": true
   },
   "outputs": [],
   "source": [
    "# Define schema for stock price data\n",
    "stock_schema = StructType([\n",
    "    StructField(\"Date\", StringType(), True),\n",
    "    StructField(\"Open\", DoubleType(), True),\n",
    "    StructField(\"High\", DoubleType(), True),\n",
    "    StructField(\"Low\", DoubleType(), True),\n",
    "    StructField(\"Close\", DoubleType(), True),\n",
    "    StructField(\"Adj Close\", DoubleType(), True),\n",
    "    StructField(\"Volume\", LongType(), True)\n",
    "])"
   ]
  },
  {
   "cell_type": "markdown",
   "metadata": {},
   "source": [
    "#### **Define Helper Functions for Loading Data**"
   ]
  },
  {
   "cell_type": "code",
   "execution_count": 9,
   "metadata": {
    "execution": {
     "iopub.execute_input": "2025-04-21T10:21:18.685162Z",
     "iopub.status.busy": "2025-04-21T10:21:18.684802Z",
     "iopub.status.idle": "2025-04-21T10:21:18.705345Z",
     "shell.execute_reply": "2025-04-21T10:21:18.704080Z",
     "shell.execute_reply.started": "2025-04-21T10:21:18.685127Z"
    },
    "trusted": true
   },
   "outputs": [],
   "source": [
    "def load_tweet_data():\n",
    "    df = spark.read.csv(tweet_data_path, header=True, schema=tweet_schema)\n",
    "    # Convert date string to standard format\n",
    "    df = df.withColumn(\"date\", to_date(col(\"date\"), \"MM/dd/yyyy\"))\n",
    "    # Filter tweets for selected companies\n",
    "    df = df.filter(col(\"ticker\").isin(companies))\n",
    "    return df"
   ]
  },
  {
   "cell_type": "code",
   "execution_count": 10,
   "metadata": {
    "execution": {
     "iopub.execute_input": "2025-04-21T10:21:18.711052Z",
     "iopub.status.busy": "2025-04-21T10:21:18.709918Z",
     "iopub.status.idle": "2025-04-21T10:21:18.728703Z",
     "shell.execute_reply": "2025-04-21T10:21:18.727631Z",
     "shell.execute_reply.started": "2025-04-21T10:21:18.710999Z"
    },
    "trusted": true
   },
   "outputs": [],
   "source": [
    "def load_stock_data(ticker):\n",
    "    file_path = os.path.join(stock_price_folder, f\"{ticker}.csv\")\n",
    "    df = spark.read.csv(file_path, header=True, schema=stock_schema)\n",
    "    # Convert date string to standard format\n",
    "    df = df.withColumn(\"Date\", to_date(col(\"Date\"), \"yyyy-MM-dd\"))\n",
    "    # Add ticker column\n",
    "    df = df.withColumn(\"ticker\", lit(ticker))\n",
    "    return df"
   ]
  },
  {
   "cell_type": "markdown",
   "metadata": {
    "execution": {
     "iopub.execute_input": "2025-04-21T09:00:34.661605Z",
     "iopub.status.busy": "2025-04-21T09:00:34.661221Z",
     "iopub.status.idle": "2025-04-21T09:00:34.666682Z",
     "shell.execute_reply": "2025-04-21T09:00:34.665667Z",
     "shell.execute_reply.started": "2025-04-21T09:00:34.661560Z"
    }
   },
   "source": [
    "#### **Load Datasets using Helper Functions**"
   ]
  },
  {
   "cell_type": "code",
   "execution_count": 11,
   "metadata": {
    "execution": {
     "iopub.execute_input": "2025-04-21T10:21:18.730357Z",
     "iopub.status.busy": "2025-04-21T10:21:18.730009Z",
     "iopub.status.idle": "2025-04-21T10:21:22.083258Z",
     "shell.execute_reply": "2025-04-21T10:21:22.080963Z",
     "shell.execute_reply.started": "2025-04-21T10:21:18.730331Z"
    },
    "trusted": true
   },
   "outputs": [
    {
     "name": "stdout",
     "output_type": "stream",
     "text": [
      "Loading tweet data...\n",
      "Tweet data loaded\n"
     ]
    }
   ],
   "source": [
    "print(\"Loading tweet data...\")\n",
    "tweets_df = load_tweet_data()\n",
    "print(\"Tweet data loaded\")"
   ]
  },
  {
   "cell_type": "code",
   "execution_count": 12,
   "metadata": {
    "execution": {
     "iopub.execute_input": "2025-04-21T10:21:22.084750Z",
     "iopub.status.busy": "2025-04-21T10:21:22.084352Z",
     "iopub.status.idle": "2025-04-21T10:21:22.710721Z",
     "shell.execute_reply": "2025-04-21T10:21:22.709560Z",
     "shell.execute_reply.started": "2025-04-21T10:21:22.084721Z"
    },
    "trusted": true
   },
   "outputs": [
    {
     "name": "stdout",
     "output_type": "stream",
     "text": [
      "Loading stock price data...\n",
      "Stock price data loaded\n"
     ]
    }
   ],
   "source": [
    "print(\"Loading stock price data...\")\n",
    "stock_dfs = {}\n",
    "for company in companies:\n",
    "    stock_dfs[company] = load_stock_data(company)\n",
    "print(\"Stock price data loaded\")"
   ]
  },
  {
   "cell_type": "markdown",
   "metadata": {},
   "source": [
    "<h3 style=\"background-color:#2D3436;color:white;border-radius:8px;padding:15px\">Data Exploration</h3>"
   ]
  },
  {
   "cell_type": "markdown",
   "metadata": {},
   "source": [
    "#### **Viewing First 5 Rows of Each Stock DataFrame**"
   ]
  },
  {
   "cell_type": "code",
   "execution_count": 13,
   "metadata": {
    "execution": {
     "iopub.execute_input": "2025-04-21T10:21:22.712199Z",
     "iopub.status.busy": "2025-04-21T10:21:22.711858Z",
     "iopub.status.idle": "2025-04-21T10:21:22.717997Z",
     "shell.execute_reply": "2025-04-21T10:21:22.716780Z",
     "shell.execute_reply.started": "2025-04-21T10:21:22.712173Z"
    },
    "trusted": true
   },
   "outputs": [],
   "source": [
    "def show_top_rows(df, name):\n",
    "    \"\"\"Display the top 5 rows of a DataFrame\"\"\"\n",
    "    print(f\"\\n{name} Top 5 Rows:\")\n",
    "    df.show(5, truncate=False)"
   ]
  },
  {
   "cell_type": "code",
   "execution_count": 14,
   "metadata": {
    "execution": {
     "iopub.execute_input": "2025-04-21T10:21:22.719810Z",
     "iopub.status.busy": "2025-04-21T10:21:22.719442Z",
     "iopub.status.idle": "2025-04-21T10:21:28.163902Z",
     "shell.execute_reply": "2025-04-21T10:21:28.162682Z",
     "shell.execute_reply.started": "2025-04-21T10:21:22.719774Z"
    },
    "trusted": true
   },
   "outputs": [
    {
     "name": "stdout",
     "output_type": "stream",
     "text": [
      "\n",
      "AAPL Top 5 Rows:\n"
     ]
    },
    {
     "name": "stderr",
     "output_type": "stream",
     "text": [
      "                                                                                                    \r"
     ]
    },
    {
     "name": "stdout",
     "output_type": "stream",
     "text": [
      "+----------+-----------------+-----------------+-----------------+-----------------+-----------------+---------+------+\n",
      "|Date      |Open             |High             |Low              |Close            |Adj Close        |Volume   |ticker|\n",
      "+----------+-----------------+-----------------+-----------------+-----------------+-----------------+---------+------+\n",
      "|2019-12-31|72.48249816894531|73.41999816894531|72.37999725341797|73.4124984741211 |71.52082061767578|100805600|AAPL  |\n",
      "|2020-01-02|74.05999755859375|75.1500015258789 |73.79750061035156|75.0875015258789 |73.15264892578125|135480400|AAPL  |\n",
      "|2020-01-03|74.2874984741211 |75.1449966430664 |74.125           |74.35749816894531|72.44145965576172|146322800|AAPL  |\n",
      "|2020-01-06|73.44750213623047|74.98999786376953|73.1875          |74.94999694824219|73.0186767578125 |118387200|AAPL  |\n",
      "|2020-01-07|74.95999908447266|75.2249984741211 |74.37000274658203|74.59750366210938|72.67527770996094|108872000|AAPL  |\n",
      "+----------+-----------------+-----------------+-----------------+-----------------+-----------------+---------+------+\n",
      "only showing top 5 rows\n",
      "\n",
      "\n",
      "AMZN Top 5 Rows:\n",
      "+----------+----------------+-----------------+-----------------+-----------------+-----------------+--------+------+\n",
      "|Date      |Open            |High             |Low              |Close            |Adj Close        |Volume  |ticker|\n",
      "+----------+----------------+-----------------+-----------------+-----------------+-----------------+--------+------+\n",
      "|2019-12-31|92.0999984741211|92.66300201416016|91.61150360107422|92.39199829101562|92.39199829101562|50130000|AMZN  |\n",
      "|2020-01-02|93.75           |94.90049743652344|93.2074966430664 |94.90049743652344|94.90049743652344|80580000|AMZN  |\n",
      "|2020-01-03|93.2249984741211|94.30999755859375|93.2249984741211 |93.74849700927734|93.74849700927734|75288000|AMZN  |\n",
      "|2020-01-06|93.0            |95.18450164794922|93.0             |95.14399719238281|95.14399719238281|81236000|AMZN  |\n",
      "|2020-01-07|95.2249984741211|95.69450378417969|94.60199737548828|95.34300231933594|95.34300231933594|80898000|AMZN  |\n",
      "+----------+----------------+-----------------+-----------------+-----------------+-----------------+--------+------+\n",
      "only showing top 5 rows\n",
      "\n",
      "\n",
      "MSFT Top 5 Rows:\n",
      "+----------+------------------+------------------+------------------+------------------+------------------+--------+------+\n",
      "|Date      |Open              |High              |Low               |Close             |Adj Close         |Volume  |ticker|\n",
      "+----------+------------------+------------------+------------------+------------------+------------------+--------+------+\n",
      "|2019-12-31|156.77000427246094|157.77000427246094|156.4499969482422 |157.6999969482422 |151.96568298339844|18369400|MSFT  |\n",
      "|2020-01-02|158.77999877929688|160.72999572753906|158.3300018310547 |160.6199951171875 |154.7794952392578 |22622100|MSFT  |\n",
      "|2020-01-03|158.32000732421875|159.9499969482422 |158.05999755859375|158.6199951171875 |152.8522491455078 |21116200|MSFT  |\n",
      "|2020-01-06|157.0800018310547 |159.10000610351562|156.50999450683594|159.02999877929688|153.24732971191406|20813700|MSFT  |\n",
      "|2020-01-07|159.32000732421875|159.6699981689453 |157.32000732421875|157.5800018310547 |151.85008239746094|21634100|MSFT  |\n",
      "+----------+------------------+------------------+------------------+------------------+------------------+--------+------+\n",
      "only showing top 5 rows\n",
      "\n",
      "\n",
      "TSLA Top 5 Rows:\n",
      "+----------+------------------+------------------+------------------+------------------+------------------+---------+------+\n",
      "|Date      |Open              |High              |Low               |Close             |Adj Close         |Volume   |ticker|\n",
      "+----------+------------------+------------------+------------------+------------------+------------------+---------+------+\n",
      "|2019-12-31|27.0              |28.086000442504883|26.80533218383789 |27.8886661529541  |27.8886661529541  |154285500|TSLA  |\n",
      "|2020-01-02|28.299999237060547|28.713333129882812|28.11400032043457 |28.68400001525879 |28.68400001525879 |142981500|TSLA  |\n",
      "|2020-01-03|29.366666793823242|30.266666412353516|29.128000259399414|29.534000396728516|29.534000396728516|266677500|TSLA  |\n",
      "|2020-01-06|29.364667892456055|30.104000091552734|29.333332061767578|30.1026668548584  |30.1026668548584  |151995000|TSLA  |\n",
      "|2020-01-07|30.760000228881836|31.441999435424805|30.224000930786133|31.270666122436523|31.270666122436523|268231500|TSLA  |\n",
      "+----------+------------------+------------------+------------------+------------------+------------------+---------+------+\n",
      "only showing top 5 rows\n",
      "\n",
      "\n",
      "GOOGL Top 5 Rows:\n",
      "+----------+-----------------+-----------------+-----------------+-----------------+-----------------+--------+------+\n",
      "|Date      |Open             |High             |Low              |Close            |Adj Close        |Volume  |ticker|\n",
      "+----------+-----------------+-----------------+-----------------+-----------------+-----------------+--------+------+\n",
      "|2019-12-31|66.78949737548828|67.03299713134766|66.60649871826172|66.96949768066406|66.96949768066406|19514000|GOOGL |\n",
      "|2020-01-02|67.42050170898438|68.43399810791016|67.32450103759766|68.43399810791016|68.43399810791016|27278000|GOOGL |\n",
      "|2020-01-03|67.4000015258789 |68.6875          |67.36599731445312|68.07599639892578|68.07599639892578|23408000|GOOGL |\n",
      "|2020-01-06|67.58149719238281|69.91600036621094|67.55000305175781|69.8905029296875 |69.8905029296875 |46768000|GOOGL |\n",
      "|2020-01-07|70.02300262451172|70.17500305175781|69.5780029296875 |69.75550079345703|69.75550079345703|34330000|GOOGL |\n",
      "+----------+-----------------+-----------------+-----------------+-----------------+-----------------+--------+------+\n",
      "only showing top 5 rows\n",
      "\n",
      "\n",
      "FB Top 5 Rows:\n",
      "+----------+------------------+------------------+------------------+------------------+------------------+--------+------+\n",
      "|Date      |Open              |High              |Low               |Close             |Adj Close         |Volume  |ticker|\n",
      "+----------+------------------+------------------+------------------+------------------+------------------+--------+------+\n",
      "|2019-12-31|204.0             |205.55999755859375|203.60000610351562|205.25            |205.25            |8953500 |FB    |\n",
      "|2020-01-02|206.75            |209.7899932861328 |206.27000427246094|209.77999877929688|209.77999877929688|12077100|FB    |\n",
      "|2020-01-03|207.2100067138672 |210.39999389648438|206.9499969482422 |208.6699981689453 |208.6699981689453 |11188400|FB    |\n",
      "|2020-01-06|206.6999969482422 |212.77999877929688|206.52000427246094|212.60000610351562|212.60000610351562|17058900|FB    |\n",
      "|2020-01-07|212.82000732421875|214.5800018310547 |211.75            |213.05999755859375|213.05999755859375|14912400|FB    |\n",
      "+----------+------------------+------------------+------------------+------------------+------------------+--------+------+\n",
      "only showing top 5 rows\n",
      "\n"
     ]
    }
   ],
   "source": [
    "for ticker, df in stock_dfs.items():\n",
    "    show_top_rows(df, ticker)"
   ]
  },
  {
   "cell_type": "markdown",
   "metadata": {},
   "source": [
    "#### **Statistical Summary of Each Stock DataFrame**"
   ]
  },
  {
   "cell_type": "code",
   "execution_count": 15,
   "metadata": {
    "execution": {
     "iopub.execute_input": "2025-04-21T10:21:28.166768Z",
     "iopub.status.busy": "2025-04-21T10:21:28.166195Z",
     "iopub.status.idle": "2025-04-21T10:21:28.173253Z",
     "shell.execute_reply": "2025-04-21T10:21:28.172333Z",
     "shell.execute_reply.started": "2025-04-21T10:21:28.166720Z"
    },
    "trusted": true
   },
   "outputs": [],
   "source": [
    "def show_summary(df, name):\n",
    "    \"\"\"Display statistical summary of a DataFrame\"\"\"\n",
    "    print(f\"\\n{name} Statistical Summary:\")\n",
    "    df.describe().show()"
   ]
  },
  {
   "cell_type": "code",
   "execution_count": 16,
   "metadata": {
    "execution": {
     "iopub.execute_input": "2025-04-21T10:21:28.175463Z",
     "iopub.status.busy": "2025-04-21T10:21:28.174633Z",
     "iopub.status.idle": "2025-04-21T10:21:28.194719Z",
     "shell.execute_reply": "2025-04-21T10:21:28.193682Z",
     "shell.execute_reply.started": "2025-04-21T10:21:28.175425Z"
    },
    "trusted": true
   },
   "outputs": [],
   "source": [
    "# spark.conf.set(\"spark.sql.debug.maxToStringFields\", 10)"
   ]
  },
  {
   "cell_type": "code",
   "execution_count": 17,
   "metadata": {
    "execution": {
     "iopub.execute_input": "2025-04-21T10:21:28.196326Z",
     "iopub.status.busy": "2025-04-21T10:21:28.195495Z",
     "iopub.status.idle": "2025-04-21T10:21:33.499831Z",
     "shell.execute_reply": "2025-04-21T10:21:33.498762Z",
     "shell.execute_reply.started": "2025-04-21T10:21:28.196287Z"
    },
    "trusted": true
   },
   "outputs": [
    {
     "name": "stdout",
     "output_type": "stream",
     "text": [
      "\n",
      "AAPL Statistical Summary:\n"
     ]
    },
    {
     "name": "stderr",
     "output_type": "stream",
     "text": [
      "                                                                                                    \r"
     ]
    },
    {
     "name": "stdout",
     "output_type": "stream",
     "text": [
      "+-------+------------------+-----------------+------------------+------------------+------------------+--------------------+------+\n",
      "|summary|              Open|             High|               Low|             Close|         Adj Close|              Volume|ticker|\n",
      "+-------+------------------+-----------------+------------------+------------------+------------------+--------------------+------+\n",
      "|  count|               254|              254|               254|               254|               254|                 254|   254|\n",
      "|   mean| 95.17796276122566|96.57026571739377| 93.82802144748958| 95.26071827805887| 93.30824790413924|1.5734118582677165E8|  NULL|\n",
      "| stddev|22.014833707521472|22.09909824629524| 21.57955997463146|21.810136925990065|21.574201492769824| 6.978351522681883E7|  NULL|\n",
      "|    min| 57.02000045776367|           57.125| 53.15250015258789|56.092498779296875| 54.77680206298828|            46691300|  AAPL|\n",
      "|    max| 138.0500030517578|138.7899932861328|134.33999633789062|136.69000244140625| 134.3178253173828|           426510000|  AAPL|\n",
      "+-------+------------------+-----------------+------------------+------------------+------------------+--------------------+------+\n",
      "\n",
      "\n",
      "AMZN Statistical Summary:\n",
      "+-------+------------------+------------------+------------------+------------------+------------------+-------------------+------+\n",
      "|summary|              Open|              High|               Low|             Close|         Adj Close|             Volume|ticker|\n",
      "+-------+------------------+------------------+------------------+------------------+------------------+-------------------+------+\n",
      "|  count|               254|               254|               254|               254|               254|                254|   254|\n",
      "|   mean|133.88505121666614|135.67705322626068|131.95363773135688| 133.8787751685916| 133.8787751685916|9.842891338582677E7|  NULL|\n",
      "| stddev| 27.62961704267552|27.792147498113245|27.046225766961737|27.359174221901437|27.359174221901437| 3.95622016782286E7|  NULL|\n",
      "|    min| 82.07550048828125| 87.97250366210938| 81.30149841308594| 83.83049774169922| 83.83049774169922|           29038000|  AMZN|\n",
      "|    max|177.35000610351562| 177.6125030517578|174.33450317382812|176.57249450683594|176.57249450683594|          311346000|  AMZN|\n",
      "+-------+------------------+------------------+------------------+------------------+------------------+-------------------+------+\n",
      "\n",
      "\n",
      "MSFT Statistical Summary:\n",
      "+-------+------------------+------------------+------------------+------------------+------------------+-------------------+------+\n",
      "|summary|              Open|              High|               Low|             Close|         Adj Close|             Volume|ticker|\n",
      "+-------+------------------+------------------+------------------+------------------+------------------+-------------------+------+\n",
      "|  count|               254|               254|               254|               254|               254|                254|   254|\n",
      "|   mean| 192.7679526862197|195.31673239159772| 190.2438582172544|192.88704717440868|186.92000441663848| 3.75836468503937E7|  NULL|\n",
      "| stddev| 23.16768405915008|22.713204927171535|23.334310693488213| 23.05686271793817| 22.82084106711771|1.691520934381799E7|  NULL|\n",
      "|    min|137.00999450683594|140.57000732421875|132.52000427246094| 135.4199981689453|  130.852294921875|           10550600|  MSFT|\n",
      "|    max|229.27000427246094|232.86000061035156|227.35000610351562|231.64999389648438|225.00242614746094|           97012700|  MSFT|\n",
      "+-------+------------------+------------------+------------------+------------------+------------------+-------------------+------+\n",
      "\n",
      "\n",
      "TSLA Statistical Summary:\n",
      "+-------+------------------+------------------+------------------+------------------+------------------+--------------------+------+\n",
      "|summary|              Open|              High|               Low|             Close|         Adj Close|              Volume|ticker|\n",
      "+-------+------------------+------------------+------------------+------------------+------------------+--------------------+------+\n",
      "|  count|               254|               254|               254|               254|               254|                 254|   254|\n",
      "|   mean|   96.096367362916| 98.81656916310467| 93.30314175913654| 96.39491312522588| 96.39491312522588| 2.256418216535433E8|  NULL|\n",
      "| stddev|55.947472465056784|57.294581790589966| 54.50356135693554| 56.38581517832388| 56.38581517832388|1.2025701933114815E8|  NULL|\n",
      "|    min|24.979999542236328| 26.99066734313965|23.367332458496094| 24.08133316040039| 24.08133316040039|            52073100|  TSLA|\n",
      "|    max| 233.3300018310547|239.57333374023438| 230.3733367919922|235.22332763671875|235.22332763671875|           914082000|  TSLA|\n",
      "+-------+------------------+------------------+------------------+------------------+------------------+--------------------+------+\n",
      "\n",
      "\n",
      "GOOGL Statistical Summary:\n",
      "+-------+-----------------+-----------------+-----------------+-----------------+-----------------+--------------------+------+\n",
      "|summary|             Open|             High|              Low|            Close|        Adj Close|              Volume|ticker|\n",
      "+-------+-----------------+-----------------+-----------------+-----------------+-----------------+--------------------+------+\n",
      "|  count|              254|              254|              254|              254|              254|                 254|   254|\n",
      "|   mean|73.85554546446312| 74.8010038390873|72.95521057309128|73.92217511454905|73.92217511454905| 3.987264566929134E7|  NULL|\n",
      "| stddev| 8.77697777683909|8.695941718335597| 8.89842004669258|8.751801629758587|8.751801629758587|1.8196579042399302E7|  NULL|\n",
      "|    min|52.81850051879883|53.34550094604492|50.44350051879883|52.70650100708008|52.70650100708008|             9312000| GOOGL|\n",
      "|    max| 91.0270004272461|92.19149780273438| 90.8499984741211|91.24849700927734|91.24849700927734|           108358000| GOOGL|\n",
      "+-------+-----------------+-----------------+-----------------+-----------------+-----------------+--------------------+------+\n",
      "\n",
      "\n",
      "FB Statistical Summary:\n",
      "+-------+------------------+------------------+------------------+------------------+------------------+--------------------+------+\n",
      "|summary|              Open|              High|               Low|             Close|         Adj Close|              Volume|ticker|\n",
      "+-------+------------------+------------------+------------------+------------------+------------------+--------------------+------+\n",
      "|  count|               254|               254|               254|               254|               254|                 254|   254|\n",
      "|   mean|234.22921278345302|237.81244160809854| 230.6829926498293| 234.4355120921698| 234.4355120921698|2.2393174409448817E7|  NULL|\n",
      "| stddev|38.753804305447474| 38.85538549738971| 38.49134932572285| 38.53334065267878| 38.53334065267878|1.0414879188782338E7|  NULL|\n",
      "|    min|            139.75|148.17999267578125|137.10000610351562|146.00999450683594|146.00999450683594|             6702000|    FB|\n",
      "|    max| 300.1600036621094| 304.6700134277344|293.04998779296875| 303.9100036621094| 303.9100036621094|            76343900|    FB|\n",
      "+-------+------------------+------------------+------------------+------------------+------------------+--------------------+------+\n",
      "\n"
     ]
    }
   ],
   "source": [
    "for ticker, df in stock_dfs.items():\n",
    "    show_summary(df, ticker)"
   ]
  },
  {
   "cell_type": "markdown",
   "metadata": {},
   "source": [
    "#### **Checking for Missing Values**"
   ]
  },
  {
   "cell_type": "code",
   "execution_count": 18,
   "metadata": {
    "execution": {
     "iopub.execute_input": "2025-04-21T10:21:33.501696Z",
     "iopub.status.busy": "2025-04-21T10:21:33.501296Z",
     "iopub.status.idle": "2025-04-21T10:21:33.508552Z",
     "shell.execute_reply": "2025-04-21T10:21:33.507077Z",
     "shell.execute_reply.started": "2025-04-21T10:21:33.501656Z"
    },
    "trusted": true
   },
   "outputs": [],
   "source": [
    "def check_missing_values(df, name):\n",
    "    \"\"\"Check missing values in a Dataframe\"\"\"\n",
    "    print(f\"\\nMissing Values in {name}:\")\n",
    "    df.select([count(when(col(c).isNull(), c)).alias(c) for c in df.columns]).show()"
   ]
  },
  {
   "cell_type": "code",
   "execution_count": 19,
   "metadata": {
    "execution": {
     "iopub.execute_input": "2025-04-21T10:21:33.510452Z",
     "iopub.status.busy": "2025-04-21T10:21:33.509851Z",
     "iopub.status.idle": "2025-04-21T10:21:35.766639Z",
     "shell.execute_reply": "2025-04-21T10:21:35.765694Z",
     "shell.execute_reply.started": "2025-04-21T10:21:33.510411Z"
    },
    "trusted": true
   },
   "outputs": [
    {
     "name": "stdout",
     "output_type": "stream",
     "text": [
      "\n",
      "Missing Values in AAPL:\n",
      "+----+----+----+---+-----+---------+------+------+\n",
      "|Date|Open|High|Low|Close|Adj Close|Volume|ticker|\n",
      "+----+----+----+---+-----+---------+------+------+\n",
      "|   0|   0|   0|  0|    0|        0|     0|     0|\n",
      "+----+----+----+---+-----+---------+------+------+\n",
      "\n",
      "\n",
      "Missing Values in AMZN:\n",
      "+----+----+----+---+-----+---------+------+------+\n",
      "|Date|Open|High|Low|Close|Adj Close|Volume|ticker|\n",
      "+----+----+----+---+-----+---------+------+------+\n",
      "|   0|   0|   0|  0|    0|        0|     0|     0|\n",
      "+----+----+----+---+-----+---------+------+------+\n",
      "\n",
      "\n",
      "Missing Values in MSFT:\n",
      "+----+----+----+---+-----+---------+------+------+\n",
      "|Date|Open|High|Low|Close|Adj Close|Volume|ticker|\n",
      "+----+----+----+---+-----+---------+------+------+\n",
      "|   0|   0|   0|  0|    0|        0|     0|     0|\n",
      "+----+----+----+---+-----+---------+------+------+\n",
      "\n",
      "\n",
      "Missing Values in TSLA:\n",
      "+----+----+----+---+-----+---------+------+------+\n",
      "|Date|Open|High|Low|Close|Adj Close|Volume|ticker|\n",
      "+----+----+----+---+-----+---------+------+------+\n",
      "|   0|   0|   0|  0|    0|        0|     0|     0|\n",
      "+----+----+----+---+-----+---------+------+------+\n",
      "\n",
      "\n",
      "Missing Values in GOOGL:\n",
      "+----+----+----+---+-----+---------+------+------+\n",
      "|Date|Open|High|Low|Close|Adj Close|Volume|ticker|\n",
      "+----+----+----+---+-----+---------+------+------+\n",
      "|   0|   0|   0|  0|    0|        0|     0|     0|\n",
      "+----+----+----+---+-----+---------+------+------+\n",
      "\n",
      "\n",
      "Missing Values in FB:\n",
      "+----+----+----+---+-----+---------+------+------+\n",
      "|Date|Open|High|Low|Close|Adj Close|Volume|ticker|\n",
      "+----+----+----+---+-----+---------+------+------+\n",
      "|   0|   0|   0|  0|    0|        0|     0|     0|\n",
      "+----+----+----+---+-----+---------+------+------+\n",
      "\n"
     ]
    }
   ],
   "source": [
    "for ticker, df in stock_dfs.items():\n",
    "    check_missing_values(df, ticker)"
   ]
  },
  {
   "cell_type": "markdown",
   "metadata": {},
   "source": [
    "#### **Explore tweet data**"
   ]
  },
  {
   "cell_type": "code",
   "execution_count": 20,
   "metadata": {
    "execution": {
     "iopub.execute_input": "2025-04-21T10:21:35.767915Z",
     "iopub.status.busy": "2025-04-21T10:21:35.767498Z",
     "iopub.status.idle": "2025-04-21T10:21:38.038689Z",
     "shell.execute_reply": "2025-04-21T10:21:38.037895Z",
     "shell.execute_reply.started": "2025-04-21T10:21:35.767882Z"
    },
    "trusted": true
   },
   "outputs": [
    {
     "name": "stdout",
     "output_type": "stream",
     "text": [
      "\n",
      "Tweet Data Top 5 Rows:\n",
      "+------+----------+------+-------------------------------------------------------------------------------------------------------------------------------------------+\n",
      "|id    |date      |ticker|tweet                                                                                                                                      |\n",
      "+------+----------+------+-------------------------------------------------------------------------------------------------------------------------------------------+\n",
      "|100001|2020-01-01|AMZN  |$AMZN Dow futures up by 100 points already 🥳                                                                                              |\n",
      "|100002|2020-01-01|TSLA  |$TSLA Daddy's drinkin' eArly tonight! Here's to a PT of ohhhhh $1000 in 2020! 🍻                                                           |\n",
      "|100003|2020-01-01|AAPL  |$AAPL We’ll been riding since last December from $172.12 what to do. Decisions decisions hmm 🤔. I have 20 mins to decide. Any suggestions?|\n",
      "|100004|2020-01-01|TSLA  |$TSLA happy new year, 2020, everyone🍷🎉🙏                                                                                                 |\n",
      "|100005|2020-01-01|TSLA  |\"$TSLA haha just a collection of greats...\"\"Mars\"\" rofl 😈😎🌠⏫🔮💸👏💪🚀🎆🎇📣🎉🎊 *bork*\"                                                |\n",
      "+------+----------+------+-------------------------------------------------------------------------------------------------------------------------------------------+\n",
      "only showing top 5 rows\n",
      "\n",
      "\n",
      "Tweet Data Statistical Summary:\n",
      "+-------+------------------+------+--------------------+\n",
      "|summary|                id|ticker|               tweet|\n",
      "+-------+------------------+------+--------------------+\n",
      "|  count|              6961|  6961|                6961|\n",
      "|   mean|105071.75621318776|  NULL|                NULL|\n",
      "| stddev| 2864.122087245054|  NULL|                NULL|\n",
      "|    min|            100001|  AAPL| Bummer that $TSL...|\n",
      "|    max|            110000|  TSLA|🚨🔥☆☆☆ $TSLA ☆☆☆...|\n",
      "+-------+------------------+------+--------------------+\n",
      "\n",
      "\n",
      "Missing Values in Tweets:\n"
     ]
    },
    {
     "name": "stderr",
     "output_type": "stream",
     "text": [
      "[Stage 46:>                                                                             (0 + 1) / 1]\r"
     ]
    },
    {
     "name": "stdout",
     "output_type": "stream",
     "text": [
      "+---+----+------+-----+\n",
      "| id|date|ticker|tweet|\n",
      "+---+----+------+-----+\n",
      "|  0|4177|     0|    0|\n",
      "+---+----+------+-----+\n",
      "\n"
     ]
    },
    {
     "name": "stderr",
     "output_type": "stream",
     "text": [
      "                                                                                                    \r"
     ]
    }
   ],
   "source": [
    "show_top_rows(tweets_df, \"Tweet Data\")\n",
    "show_summary(tweets_df, \"Tweet Data\")\n",
    "check_missing_values(tweets_df, \"Tweets\")"
   ]
  },
  {
   "cell_type": "code",
   "execution_count": 21,
   "metadata": {
    "execution": {
     "iopub.execute_input": "2025-04-21T10:21:38.039891Z",
     "iopub.status.busy": "2025-04-21T10:21:38.039452Z",
     "iopub.status.idle": "2025-04-21T10:21:39.542509Z",
     "shell.execute_reply": "2025-04-21T10:21:39.541496Z",
     "shell.execute_reply.started": "2025-04-21T10:21:38.039857Z"
    },
    "trusted": true
   },
   "outputs": [
    {
     "name": "stdout",
     "output_type": "stream",
     "text": [
      "\n",
      "Tweet Count by Company:\n",
      "+------+-----+\n",
      "|ticker|count|\n",
      "+------+-----+\n",
      "|  TSLA| 4341|\n",
      "|  AAPL| 1721|\n",
      "|  AMZN|  407|\n",
      "|  MSFT|  271|\n",
      "|    FB|  204|\n",
      "| GOOGL|   17|\n",
      "+------+-----+\n",
      "\n",
      "\n",
      "Tweet Count by Date (Top 10):\n",
      "+----------+-----+\n",
      "|      date|count|\n",
      "+----------+-----+\n",
      "|      NULL| 4177|\n",
      "|2020-03-09|  137|\n",
      "|2020-01-09|  114|\n",
      "|2020-01-05|  108|\n",
      "|2020-02-09|  102|\n",
      "|2020-04-09|  101|\n",
      "|2020-08-09|   78|\n",
      "|2020-09-09|   65|\n",
      "|2020-10-09|   63|\n",
      "|2020-03-03|   60|\n",
      "+----------+-----+\n",
      "only showing top 10 rows\n",
      "\n"
     ]
    }
   ],
   "source": [
    "# Tweet counts\n",
    "print(\"\\nTweet Count by Company:\")\n",
    "tweets_df.groupBy(\"ticker\").count().orderBy(desc(\"count\")).show()\n",
    "\n",
    "print(\"\\nTweet Count by Date (Top 10):\")\n",
    "tweets_df.groupBy(\"date\").count().orderBy(desc(\"count\")).show(10)"
   ]
  },
  {
   "cell_type": "markdown",
   "metadata": {
    "execution": {
     "iopub.execute_input": "2025-04-21T09:57:14.429643Z",
     "iopub.status.busy": "2025-04-21T09:57:14.429238Z",
     "iopub.status.idle": "2025-04-21T09:57:14.436164Z",
     "shell.execute_reply": "2025-04-21T09:57:14.435040Z",
     "shell.execute_reply.started": "2025-04-21T09:57:14.429616Z"
    }
   },
   "source": [
    "<h3 style=\"background-color:#2D3436;color:white;border-radius:8px;padding:15px\">Data Preprocessing</h3>"
   ]
  },
  {
   "cell_type": "code",
   "execution_count": null,
   "metadata": {
    "trusted": true
   },
   "outputs": [],
   "source": []
  }
 ],
 "metadata": {
  "kaggle": {
   "accelerator": "none",
   "dataSources": [
    {
     "datasetId": 7150469,
     "sourceId": 11417157,
     "sourceType": "datasetVersion"
    }
   ],
   "dockerImageVersionId": 31012,
   "isGpuEnabled": false,
   "isInternetEnabled": true,
   "language": "python",
   "sourceType": "notebook"
  },
  "kernelspec": {
   "display_name": "Python 3",
   "language": "python",
   "name": "python3"
  },
  "language_info": {
   "codemirror_mode": {
    "name": "ipython",
    "version": 3
   },
   "file_extension": ".py",
   "mimetype": "text/x-python",
   "name": "python",
   "nbconvert_exporter": "python",
   "pygments_lexer": "ipython3",
   "version": "3.11.11"
  }
 },
 "nbformat": 4,
 "nbformat_minor": 4
}
