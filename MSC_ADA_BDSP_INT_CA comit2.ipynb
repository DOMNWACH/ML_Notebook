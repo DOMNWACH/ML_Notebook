{
 "cells": [
  {
   "cell_type": "markdown",
   "metadata": {
    "_cell_guid": "b1076dfc-b9ad-4769-8c92-a6c4dae69d19",
    "_uuid": "8f2839f25d086af736a60e9eeb907d3b93b6e0e5"
   },
   "source": [
    "<h2 align=\"center\" style=\"background-color:#2c3e54;color:#ecf0f1;border-radius: 8px; padding:15px\">Time-Series Forecasting in Financial Markets: Integrating Attention Mechanisms with Traditional Neural Networks for High-Frequency Trading Data</h2>"
   ]
  },
  {
   "cell_type": "markdown",
   "metadata": {},
   "source": [
    "### **Table of Contents**\n",
    "\n",
    "- [Introduction](#Introduction)\n",
    "   - Research Overview\n",
    "   - Objectives\n",
    "   - Data Source and Storage\n",
    "- [Install and Import Required Libraries](#Install-and-Import-Required-Libraries)\n",
    "- [Download and Load Dataset](#Download-and-Load-Dataset)\n",
    "- [Data Exploration](#Data-Exploration)\n",
    "   - View First Five Rows\n",
    "   - Inspect Shape\n",
    "   - Investigate Missing data, duplicates and so on"
   ]
  },
  {
   "cell_type": "markdown",
   "metadata": {
    "execution": {
     "iopub.execute_input": "2025-02-28T08:23:52.241021Z",
     "iopub.status.busy": "2025-02-28T08:23:52.240719Z",
     "iopub.status.idle": "2025-02-28T08:23:52.247331Z",
     "shell.execute_reply": "2025-02-28T08:23:52.246134Z",
     "shell.execute_reply.started": "2025-02-28T08:23:52.240997Z"
    }
   },
   "source": [
    "<h3 style=\"background-color:#2c3e54;color:#ecf0f1;border-radius: 8px; padding:15px\">Introduction</h3>"
   ]
  },
  {
   "cell_type": "markdown",
   "metadata": {},
   "source": [
    "### Research Overview"
   ]
  },
  {
   "cell_type": "code",
   "execution_count": null,
   "metadata": {
    "trusted": true
   },
   "outputs": [],
   "source": []
  },
  {
   "cell_type": "markdown",
   "metadata": {
    "execution": {
     "iopub.execute_input": "2025-02-28T08:26:12.008598Z",
     "iopub.status.busy": "2025-02-28T08:26:12.008322Z",
     "iopub.status.idle": "2025-02-28T08:26:12.011797Z",
     "shell.execute_reply": "2025-02-28T08:26:12.010942Z",
     "shell.execute_reply.started": "2025-02-28T08:26:12.008574Z"
    }
   },
   "source": [
    "### Objectives"
   ]
  },
  {
   "cell_type": "code",
   "execution_count": null,
   "metadata": {
    "trusted": true
   },
   "outputs": [],
   "source": []
  },
  {
   "cell_type": "markdown",
   "metadata": {},
   "source": [
    "### Data Source and Storage"
   ]
  },
  {
   "cell_type": "code",
   "execution_count": null,
   "metadata": {
    "trusted": true
   },
   "outputs": [],
   "source": []
  },
  {
   "cell_type": "markdown",
   "metadata": {},
   "source": [
    "<h3 style=\"background-color:#2c3e54;color:#ecf0f1;border-radius: 8px; padding:15px\">Install and Import Required Libraries</h3>"
   ]
  },
  {
   "cell_type": "code",
   "execution_count": null,
   "metadata": {
    "trusted": true
   },
   "outputs": [],
   "source": [
    "\n",
    "!pip install --upgrade -q yfinance"
   ]
  },
  {
   "cell_type": "code",
   "execution_count": null,
   "metadata": {
    "trusted": true
   },
   "outputs": [],
   "source": [
    "import os\n",
    "import yfinance as yf\n",
    "\n",
    "import pandas as pd"
   ]
  },
  {
   "cell_type": "markdown",
   "metadata": {},
   "source": [
    "<h3 style=\"background-color:#2c3e54;color:#ecf0f1;border-radius: 8px; padding:15px\">Download and Load Dataset</h3>"
   ]
  },
  {
   "cell_type": "markdown",
   "metadata": {},
   "source": [
    "#### Download and Store Finance Data using Y-Finance API"
   ]
  },
  {
   "cell_type": "code",
   "execution_count": null,
   "metadata": {
    "trusted": true
   },
   "outputs": [],
   "source": [
    "# Define stock symbols\n",
    "stocks = [\"GOOG\", \"AMZN\", \"MSFT\", \"TSLA\"]"
   ]
  },
  {
   "cell_type": "code",
   "execution_count": null,
   "metadata": {
    "trusted": true
   },
   "outputs": [],
   "source": [
    "def download_stock_data(storage_path):\n",
    "    # Fetch, store, and load data\n",
    "    for stock in stocks:\n",
    "        # Fetch max available stock data with 1-day interval\n",
    "        dat = yf.Ticker(stock)\n",
    "        df = dat.history(period=\"max\", interval=\"1d\", end=\"2025-02-28\", auto_adjust=False)\n",
    "\n",
    "        # Reset index to move Date column\n",
    "        df.reset_index(inplace=True)\n",
    "\n",
    "        # Convert Date column to string (YYYY-MM-DD format)\n",
    "        df[\"Date\"] = df[\"Date\"].dt.strftime(\"%Y-%m-%d\")\n",
    "\n",
    "        # Save as CSV\n",
    "        stock_path = os.path.join(storage_path, f\"{stock}.csv\")\n",
    "        df.to_csv(stock_path, index=False)\n",
    "\n",
    "        print(f\"Stored {stock} data at {stock_path}\")"
   ]
  },
  {
   "cell_type": "code",
   "execution_count": null,
   "metadata": {},
   "outputs": [],
   "source": [
    "# Define storage path\n",
    "storage_path = \"pandas_stock_data/\"\n",
    "\n",
    "# Ensure storage directory exists\n",
    "os.makedirs(storage_path, exist_ok=True)\n",
    "\n",
    "# Download and store stock data\n",
    "download_stock_data(storage_path)"
   ]
  },
  {
   "cell_type": "markdown",
   "metadata": {},
   "source": [
    "#### Load data into Pandas DataFrames\n",
    " "
   ]
  },
  {
   "cell_type": "code",
   "execution_count": null,
   "metadata": {
    "trusted": true
   },
   "outputs": [],
   "source": [
    "goog_df = pd.read_csv(os.path.join(storage_path, \"GOOG.csv\"))\n",
    "amzn_df = pd.read_csv(os.path.join(storage_path, \"AMZN.csv\"))\n",
    "msft_df = pd.read_csv(os.path.join(storage_path, \"MSFT.csv\"))\n",
    "tsla_df = pd.read_csv(os.path.join(storage_path, \"TSLA.csv\"))"
   ]
  },
  {
   "cell_type": "markdown",
   "metadata": {},
   "source": [
    "<h3 style=\"background-color:#2c3e54;color:#ecf0f1;border-radius: 8px; padding:15px\">Data Exploration</h3>"
   ]
  },
  {
   "cell_type": "code",
   "execution_count": null,
   "metadata": {
    "trusted": true
   },
   "outputs": [],
   "source": []
  }
 ],
 "metadata": {
  "kaggle": {
   "accelerator": "none",
   "dataSources": [],
   "dockerImageVersionId": 30918,
   "isGpuEnabled": false,
   "isInternetEnabled": true,
   "language": "python",
   "sourceType": "notebook"
  },
  "kernelspec": {
   "display_name": "Python 3",
   "language": "python",
   "name": "python3"
  },
  "language_info": {
   "codemirror_mode": {
    "name": "ipython",
    "version": 3
   },
   "file_extension": ".py",
   "mimetype": "text/x-python",
   "name": "python",
   "nbconvert_exporter": "python",
   "pygments_lexer": "ipython3",
   "version": "3.10.12"
  }
 },
 "nbformat": 4,
 "nbformat_minor": 4
}
