{
 "cells": [
  {
   "cell_type": "markdown",
   "metadata": {
    "_cell_guid": "b1076dfc-b9ad-4769-8c92-a6c4dae69d19",
    "_uuid": "8f2839f25d086af736a60e9eeb907d3b93b6e0e5"
   },
   "source": [
    "<h1 align=\"center\" style=\"background-color:black;color:white;border-radius: 8px; padding:15px\">Comprehensive Analysis of Ireland's Agriculture and Global Comparisons</h1>"
   ]
  },
  {
   "cell_type": "markdown",
   "metadata": {},
   "source": [
    "## Table of Contents\n",
    "\n",
    "- [Introduction](#Introduction)\n",
    "   - Overview\n",
    "   - Objective\n",
    "- [Dataset Overview](#Dataset-Overview)\n",
    "   - Data Sources\n",
    "   - Key Variables\n",
    "- [Preliminary Data Exploration](#Preliminary-Data-Exploration)\n",
    "   - Import Libraries\n",
    "   - Load Datasets\n",
    "   - View First Five Rows of Each Dataframe\n",
    "- [Data Cleaning and Preprocessing](#Data-Cleaning-and-Preprocessing)\n",
    "   - Missing Values\n",
    "   - Data Transformation\n",
    "- [Exploratory Data Analysis (EDA)](#Exploratory-Data-Analysis)\n",
    "   - Descriptive Statistics\n",
    "   - Inferential Statistics\n",
    "   - Visualization of Trends\n",
    "- [Machine Learning Analysis](#Machine-Learning-Analysis)\n",
    "   - Model Selection\n",
    "   - Predictions\n",
    "- [Key Findings and Insights](#Key-Findings-and-Insights)\n",
    "   - Summary\n",
    "   - Actionable Recommendations\n",
    "- [Conclusion](#Conclusion)\n",
    "- [References](#References)"
   ]
  },
  {
   "cell_type": "markdown",
   "metadata": {},
   "source": [
    "<h2 style=\"background-color:black;color:white;border-radius: 8px; padding:15px\">Introduction</h2>"
   ]
  },
  {
   "cell_type": "markdown",
   "metadata": {},
   "source": [
    "### **Overview**"
   ]
  },
  {
   "cell_type": "markdown",
   "metadata": {},
   "source": [
    "Agriculture has been fundamental to human civilization, evolving with modern technologies like data analytics, machine learning, and artificial intelligence to enhance productivity and sustainability. This exercise investigates Ireland’s agricultural sector, with a focus on key crops — **maize and potatoes** — and livestock — **cattle, chickens, and sheep** — as a baseline for comparative analysis against global trends..\n",
    "\n",
    "Using data from FAOSTAT, maintained by the Food and Agriculture Organization (FAO), this exercise evaluates production trends, trade dynamics, and livestock statistics. By employing methodologies such as forecasting, it aims to uncover actionable insights and provide recommendations to optimize Ireland's agricultural standing."
   ]
  },
  {
   "cell_type": "markdown",
   "metadata": {},
   "source": [
    "### **Objective**"
   ]
  },
  {
   "cell_type": "markdown",
   "metadata": {},
   "source": [
    "The primary objective of this exercise is to evaluate Ireland’s agricultural performance in the context of global trends and provide evidence-based recommendations for improvement. By focusing on specific crops (maize and potatoes) and livestock (cattle, chickens, and sheep), the exercise seeks to:\n",
    "\n",
    "1. **Analyze Agricultural Production Trends**:\n",
    "\n",
    "    - Investigate historical and current production data for the selected crops and livestock.\n",
    "    - Identify patterns, anomalies, and growth trends to provide a clear understanding of Ireland's agricultural landscape.\n",
    "\n",
    "2. **Compare Ireland’s Agricultural Sector Globally**:\n",
    "    - Benchmark Ireland's agricultural performance against other countries using key metrics such as yield, production efficiency, and trade volumes.\n",
    "\n",
    "3. **Conduct Forecasting and Predictive Analysis**:\n",
    "    - Utilize machine learning models to predict future production trends and identify potential risks and opportunities.\n",
    "\n",
    "4. **Provide Evidence-Based Recommendations**:\n",
    "    - Develop actionable recommendations for policymakers, farmers, and stakeholders to improve productivity, trade balance, and economic outcomes in the sector."
   ]
  },
  {
   "cell_type": "markdown",
   "metadata": {},
   "source": [
    "<h2 style=\"background-color:black;color:white;border-radius: 8px; padding:15px\">Dataset Overview</h2>"
   ]
  },
  {
   "cell_type": "markdown",
   "metadata": {},
   "source": [
    "### **Data Source**  \n",
    "\n",
    "The primary dataset for this research was downloaded from the **FAOSTAT** database provided by the Food and Agriculture Organization (FAO) at [https://www.fao.org/faostat/en/#data/QCL](https://www.fao.org/faostat/en/#data/QCL). The dataset covers agricultural data from **1961 to 2023** for all countries, identified using the **M49 coding system**. The selected focus areas include **Cattle, Chickens, Sheep, Maize (corn), and Potatoes**, providing a comprehensive view of these key agricultural products.  \n",
    "\n",
    "To complement this primary dataset, an additional dataset, **Unit Definitions**, from the **FAOSTAT Definitions** section (https://www.fao.org/faostat/en/#definitions) was downloaded to provide essential metadata and standardizations. This data includes unit names and descriptions, such as \"ha/cap\" representing hectares per capita.  \n",
    "\n",
    "This additional dataset will be merged with the primary dataset during the data cleaning process to enhance data clarity and usability."
   ]
  },
  {
   "cell_type": "markdown",
   "metadata": {},
   "source": [
    "### **Key Variables**  \n",
    "The primary dataset contains the following key variables:  \n",
    "\n",
    "- **Domain Code/Domain**: Represents the data category, e.g., \"QCL\" stands for \"Crops and livestock products.\"  \n",
    "- **Area Code (M49)/Area**: Identifies countries using the M49 coding system and their corresponding names.  \n",
    "- **Element Code/Element**: Indicates the type of measurement or data recorded, such as \"Stocks\" for livestock.  \n",
    "- **Item Code (CPC)/Item**: Refers to the specific agricultural product, e.g., \"Cattle,\" \"Maize,\" or \"Potatoes.\"  \n",
    "- **Year Code/Year**: Specifies the year of data collection.  \n",
    "- **Unit**: Describes the unit of measurement, such as \"An\" (Animal numbers) or metric tons.  \n",
    "- **Value**: Records the numerical value for the corresponding year, item, and element.  \n",
    "- **Flag/Flag Description**: Provides additional metadata about the data, e.g., \"A\" for official figures or \"E\" for estimated values.  \n",
    "- **Note**: Contains supplementary remarks or observations about the data entry.  \n",
    "\n",
    "These variables, along with the definitions from the additional datasets, will form the basis for data analysis, ensuring consistency and accuracy throughout the study."
   ]
  },
  {
   "cell_type": "markdown",
   "metadata": {},
   "source": [
    "<h2 style=\"background-color:black;color:white;border-radius: 8px; padding:15px\">Preliminary Data Exploration</h2>"
   ]
  },
  {
   "cell_type": "markdown",
   "metadata": {},
   "source": [
    "### **Import Libraries**"
   ]
  },
  {
   "cell_type": "code",
   "execution_count": 1,
   "metadata": {
    "execution": {
     "iopub.execute_input": "2024-12-25T05:56:07.420591Z",
     "iopub.status.busy": "2024-12-25T05:56:07.420225Z",
     "iopub.status.idle": "2024-12-25T05:56:07.424815Z",
     "shell.execute_reply": "2024-12-25T05:56:07.423844Z",
     "shell.execute_reply.started": "2024-12-25T05:56:07.420566Z"
    }
   },
   "outputs": [],
   "source": [
    "# !pip install seaborn pandas matplotlib plotly scikit-learn prophet"
   ]
  },
  {
   "cell_type": "code",
   "execution_count": 2,
   "metadata": {
    "execution": {
     "iopub.execute_input": "2024-12-25T05:56:07.529077Z",
     "iopub.status.busy": "2024-12-25T05:56:07.528715Z",
     "iopub.status.idle": "2024-12-25T05:56:08.739678Z",
     "shell.execute_reply": "2024-12-25T05:56:08.738352Z",
     "shell.execute_reply.started": "2024-12-25T05:56:07.529049Z"
    }
   },
   "outputs": [],
   "source": [
    "# Data Manipulation libraries\n",
    "import numpy as np\n",
    "import pandas as pd\n",
    "\n",
    "# Data Visualization libraries\n",
    "import matplotlib.pyplot as plt\n",
    "import seaborn as sns\n",
    "\n",
    "# Machine Learning libraries\n",
    "from sklearn.model_selection import train_test_split\n",
    "from sklearn.linear_model import LinearRegression\n",
    "from sklearn.metrics import mean_squared_error, r2_score\n",
    "from sklearn.ensemble import RandomForestRegressor\n",
    "from sklearn.preprocessing import StandardScaler\n",
    "\n",
    "# Time Series Forecasting\n",
    "from statsmodels.tsa.arima.model import ARIMA\n",
    "from prophet import Prophet\n",
    "\n",
    "# Optimization\n",
    "import time\n",
    "import multiprocessing"
   ]
  },
  {
   "cell_type": "markdown",
   "metadata": {},
   "source": [
    "### **Load Datasets**"
   ]
  },
  {
   "cell_type": "code",
   "execution_count": 3,
   "metadata": {
    "execution": {
     "iopub.execute_input": "2024-12-25T05:56:08.741986Z",
     "iopub.status.busy": "2024-12-25T05:56:08.741334Z",
     "iopub.status.idle": "2024-12-25T05:56:08.983743Z",
     "shell.execute_reply": "2024-12-25T05:56:08.982217Z",
     "shell.execute_reply.started": "2024-12-25T05:56:08.741944Z"
    }
   },
   "outputs": [],
   "source": [
    "# Primary dataset\n",
    "df = pd.read_csv('/kaggle/input/cct-project-datasets/datasets/FAOSTAT_data_en_12-24-2024.csv')\n",
    "\n",
    "# Definitions and Standards\n",
    "unit_df = pd.read_csv('/kaggle/input/cct-project-datasets/datasets/FAOSTAT_data_units_12-24-2024.csv')"
   ]
  },
  {
   "cell_type": "markdown",
   "metadata": {},
   "source": [
    "### **View First Five Rows of Each Dataframe**"
   ]
  },
  {
   "cell_type": "code",
   "execution_count": 4,
   "metadata": {
    "execution": {
     "iopub.execute_input": "2024-12-25T05:56:08.985762Z",
     "iopub.status.busy": "2024-12-25T05:56:08.985416Z",
     "iopub.status.idle": "2024-12-25T05:56:09.014316Z",
     "shell.execute_reply": "2024-12-25T05:56:09.013265Z",
     "shell.execute_reply.started": "2024-12-25T05:56:08.985720Z"
    }
   },
   "outputs": [
    {
     "data": {
      "text/html": [
       "<div>\n",
       "<style scoped>\n",
       "    .dataframe tbody tr th:only-of-type {\n",
       "        vertical-align: middle;\n",
       "    }\n",
       "\n",
       "    .dataframe tbody tr th {\n",
       "        vertical-align: top;\n",
       "    }\n",
       "\n",
       "    .dataframe thead th {\n",
       "        text-align: right;\n",
       "    }\n",
       "</style>\n",
       "<table border=\"1\" class=\"dataframe\">\n",
       "  <thead>\n",
       "    <tr style=\"text-align: right;\">\n",
       "      <th></th>\n",
       "      <th>Domain Code</th>\n",
       "      <th>Domain</th>\n",
       "      <th>Area Code (M49)</th>\n",
       "      <th>Area</th>\n",
       "      <th>Element Code</th>\n",
       "      <th>Element</th>\n",
       "      <th>Item Code (CPC)</th>\n",
       "      <th>Item</th>\n",
       "      <th>Year Code</th>\n",
       "      <th>Year</th>\n",
       "      <th>Unit</th>\n",
       "      <th>Value</th>\n",
       "      <th>Flag</th>\n",
       "      <th>Flag Description</th>\n",
       "      <th>Note</th>\n",
       "    </tr>\n",
       "  </thead>\n",
       "  <tbody>\n",
       "    <tr>\n",
       "      <th>0</th>\n",
       "      <td>QCL</td>\n",
       "      <td>Crops and livestock products</td>\n",
       "      <td>4</td>\n",
       "      <td>Afghanistan</td>\n",
       "      <td>5111</td>\n",
       "      <td>Stocks</td>\n",
       "      <td>2111</td>\n",
       "      <td>Cattle</td>\n",
       "      <td>1961</td>\n",
       "      <td>1961</td>\n",
       "      <td>An</td>\n",
       "      <td>2900000.0</td>\n",
       "      <td>A</td>\n",
       "      <td>Official figure</td>\n",
       "      <td>NaN</td>\n",
       "    </tr>\n",
       "    <tr>\n",
       "      <th>1</th>\n",
       "      <td>QCL</td>\n",
       "      <td>Crops and livestock products</td>\n",
       "      <td>4</td>\n",
       "      <td>Afghanistan</td>\n",
       "      <td>5111</td>\n",
       "      <td>Stocks</td>\n",
       "      <td>2111</td>\n",
       "      <td>Cattle</td>\n",
       "      <td>1962</td>\n",
       "      <td>1962</td>\n",
       "      <td>An</td>\n",
       "      <td>3200000.0</td>\n",
       "      <td>E</td>\n",
       "      <td>Estimated value</td>\n",
       "      <td>NaN</td>\n",
       "    </tr>\n",
       "    <tr>\n",
       "      <th>2</th>\n",
       "      <td>QCL</td>\n",
       "      <td>Crops and livestock products</td>\n",
       "      <td>4</td>\n",
       "      <td>Afghanistan</td>\n",
       "      <td>5111</td>\n",
       "      <td>Stocks</td>\n",
       "      <td>2111</td>\n",
       "      <td>Cattle</td>\n",
       "      <td>1963</td>\n",
       "      <td>1963</td>\n",
       "      <td>An</td>\n",
       "      <td>3300000.0</td>\n",
       "      <td>E</td>\n",
       "      <td>Estimated value</td>\n",
       "      <td>NaN</td>\n",
       "    </tr>\n",
       "    <tr>\n",
       "      <th>3</th>\n",
       "      <td>QCL</td>\n",
       "      <td>Crops and livestock products</td>\n",
       "      <td>4</td>\n",
       "      <td>Afghanistan</td>\n",
       "      <td>5111</td>\n",
       "      <td>Stocks</td>\n",
       "      <td>2111</td>\n",
       "      <td>Cattle</td>\n",
       "      <td>1964</td>\n",
       "      <td>1964</td>\n",
       "      <td>An</td>\n",
       "      <td>3350000.0</td>\n",
       "      <td>E</td>\n",
       "      <td>Estimated value</td>\n",
       "      <td>NaN</td>\n",
       "    </tr>\n",
       "    <tr>\n",
       "      <th>4</th>\n",
       "      <td>QCL</td>\n",
       "      <td>Crops and livestock products</td>\n",
       "      <td>4</td>\n",
       "      <td>Afghanistan</td>\n",
       "      <td>5111</td>\n",
       "      <td>Stocks</td>\n",
       "      <td>2111</td>\n",
       "      <td>Cattle</td>\n",
       "      <td>1965</td>\n",
       "      <td>1965</td>\n",
       "      <td>An</td>\n",
       "      <td>3400000.0</td>\n",
       "      <td>E</td>\n",
       "      <td>Estimated value</td>\n",
       "      <td>NaN</td>\n",
       "    </tr>\n",
       "  </tbody>\n",
       "</table>\n",
       "</div>"
      ],
      "text/plain": [
       "  Domain Code                        Domain  Area Code (M49)         Area  \\\n",
       "0         QCL  Crops and livestock products                4  Afghanistan   \n",
       "1         QCL  Crops and livestock products                4  Afghanistan   \n",
       "2         QCL  Crops and livestock products                4  Afghanistan   \n",
       "3         QCL  Crops and livestock products                4  Afghanistan   \n",
       "4         QCL  Crops and livestock products                4  Afghanistan   \n",
       "\n",
       "   Element Code Element  Item Code (CPC)    Item  Year Code  Year Unit  \\\n",
       "0          5111  Stocks             2111  Cattle       1961  1961   An   \n",
       "1          5111  Stocks             2111  Cattle       1962  1962   An   \n",
       "2          5111  Stocks             2111  Cattle       1963  1963   An   \n",
       "3          5111  Stocks             2111  Cattle       1964  1964   An   \n",
       "4          5111  Stocks             2111  Cattle       1965  1965   An   \n",
       "\n",
       "       Value Flag Flag Description Note  \n",
       "0  2900000.0    A  Official figure  NaN  \n",
       "1  3200000.0    E  Estimated value  NaN  \n",
       "2  3300000.0    E  Estimated value  NaN  \n",
       "3  3350000.0    E  Estimated value  NaN  \n",
       "4  3400000.0    E  Estimated value  NaN  "
      ]
     },
     "metadata": {},
     "output_type": "display_data"
    },
    {
     "data": {
      "text/html": [
       "<div>\n",
       "<style scoped>\n",
       "    .dataframe tbody tr th:only-of-type {\n",
       "        vertical-align: middle;\n",
       "    }\n",
       "\n",
       "    .dataframe tbody tr th {\n",
       "        vertical-align: top;\n",
       "    }\n",
       "\n",
       "    .dataframe thead th {\n",
       "        text-align: right;\n",
       "    }\n",
       "</style>\n",
       "<table border=\"1\" class=\"dataframe\">\n",
       "  <thead>\n",
       "    <tr style=\"text-align: right;\">\n",
       "      <th></th>\n",
       "      <th>Unit Name</th>\n",
       "      <th>Description</th>\n",
       "    </tr>\n",
       "  </thead>\n",
       "  <tbody>\n",
       "    <tr>\n",
       "      <th>0</th>\n",
       "      <td>%</td>\n",
       "      <td>Percent</td>\n",
       "    </tr>\n",
       "    <tr>\n",
       "      <th>1</th>\n",
       "      <td>%LSU</td>\n",
       "      <td>Percent of Total Livestock Units</td>\n",
       "    </tr>\n",
       "    <tr>\n",
       "      <th>2</th>\n",
       "      <td>°c</td>\n",
       "      <td>Degrees celsius</td>\n",
       "    </tr>\n",
       "    <tr>\n",
       "      <th>3</th>\n",
       "      <td>0.1 g/An</td>\n",
       "      <td>tenth Grams per animal</td>\n",
       "    </tr>\n",
       "    <tr>\n",
       "      <th>4</th>\n",
       "      <td>100 g</td>\n",
       "      <td>hundred Grams</td>\n",
       "    </tr>\n",
       "  </tbody>\n",
       "</table>\n",
       "</div>"
      ],
      "text/plain": [
       "  Unit Name                       Description\n",
       "0         %                           Percent\n",
       "1      %LSU  Percent of Total Livestock Units\n",
       "2        °c                   Degrees celsius\n",
       "3  0.1 g/An            tenth Grams per animal\n",
       "4     100 g                     hundred Grams"
      ]
     },
     "metadata": {},
     "output_type": "display_data"
    }
   ],
   "source": [
    "all_dfs = [df, unit_df]\n",
    "\n",
    "for dataframe in all_dfs:\n",
    "    display(dataframe.head())"
   ]
  },
  {
   "cell_type": "markdown",
   "metadata": {},
   "source": [
    "### **Use `info` Function to get Insights on Memory Usage and Missing Values**"
   ]
  },
  {
   "cell_type": "code",
   "execution_count": 5,
   "metadata": {
    "execution": {
     "iopub.execute_input": "2024-12-25T05:56:09.017131Z",
     "iopub.status.busy": "2024-12-25T05:56:09.016824Z",
     "iopub.status.idle": "2024-12-25T05:56:09.087284Z",
     "shell.execute_reply": "2024-12-25T05:56:09.086252Z",
     "shell.execute_reply.started": "2024-12-25T05:56:09.017104Z"
    }
   },
   "outputs": [
    {
     "name": "stdout",
     "output_type": "stream",
     "text": [
      "<class 'pandas.core.frame.DataFrame'>\n",
      "RangeIndex: 90710 entries, 0 to 90709\n",
      "Data columns (total 15 columns):\n",
      " #   Column            Non-Null Count  Dtype  \n",
      "---  ------            --------------  -----  \n",
      " 0   Domain Code       90710 non-null  object \n",
      " 1   Domain            90710 non-null  object \n",
      " 2   Area Code (M49)   90710 non-null  int64  \n",
      " 3   Area              90710 non-null  object \n",
      " 4   Element Code      90710 non-null  int64  \n",
      " 5   Element           90710 non-null  object \n",
      " 6   Item Code (CPC)   90710 non-null  int64  \n",
      " 7   Item              90710 non-null  object \n",
      " 8   Year Code         90710 non-null  int64  \n",
      " 9   Year              90710 non-null  int64  \n",
      " 10  Unit              90710 non-null  object \n",
      " 11  Value             89610 non-null  float64\n",
      " 12  Flag              90710 non-null  object \n",
      " 13  Flag Description  90710 non-null  object \n",
      " 14  Note              2603 non-null   object \n",
      "dtypes: float64(1), int64(5), object(9)\n",
      "memory usage: 10.4+ MB\n"
     ]
    },
    {
     "data": {
      "text/plain": [
       "None"
      ]
     },
     "metadata": {},
     "output_type": "display_data"
    },
    {
     "name": "stdout",
     "output_type": "stream",
     "text": [
      "<class 'pandas.core.frame.DataFrame'>\n",
      "RangeIndex: 65 entries, 0 to 64\n",
      "Data columns (total 2 columns):\n",
      " #   Column       Non-Null Count  Dtype \n",
      "---  ------       --------------  ----- \n",
      " 0   Unit Name    65 non-null     object\n",
      " 1   Description  65 non-null     object\n",
      "dtypes: object(2)\n",
      "memory usage: 1.1+ KB\n"
     ]
    },
    {
     "data": {
      "text/plain": [
       "None"
      ]
     },
     "metadata": {},
     "output_type": "display_data"
    }
   ],
   "source": [
    "for dataframe in all_dfs:\n",
    "    display(dataframe.info())"
   ]
  },
  {
   "cell_type": "markdown",
   "metadata": {},
   "source": [
    "**Observation:**\n",
    "\n",
    "There seems to be missing values in **`df`**. This will be explored in-depth in the data cleaning section. In addition, some datatypes are best represented using object in **`df`** e.g. **year**, **Element Code** and so on. Even though some of the columns might be dropped later, it is a usually best to have data in a correct format when performing analysis."
   ]
  },
  {
   "cell_type": "markdown",
   "metadata": {},
   "source": [
    "<h2 style=\"background-color:black;color:white;border-radius: 8px; padding:15px\">Data Cleaning and Preprocessing</h2>"
   ]
  },
  {
   "cell_type": "markdown",
   "metadata": {},
   "source": [
    "### **Correct Erroneous Datatypes**"
   ]
  },
  {
   "cell_type": "code",
   "execution_count": 6,
   "metadata": {
    "execution": {
     "iopub.execute_input": "2024-12-25T05:56:09.088714Z",
     "iopub.status.busy": "2024-12-25T05:56:09.088355Z",
     "iopub.status.idle": "2024-12-25T05:56:09.302880Z",
     "shell.execute_reply": "2024-12-25T05:56:09.301660Z",
     "shell.execute_reply.started": "2024-12-25T05:56:09.088678Z"
    }
   },
   "outputs": [],
   "source": [
    "# Convert specified columns to object type in main dataframe\n",
    "int_to_object_cols = [\n",
    "    'Area Code (M49)', 'Element Code', 'Item Code (CPC)', 'Year Code', 'Year'\n",
    "]\n",
    "for col in int_to_object_cols:\n",
    "    df[col] = df[col].astype(str)"
   ]
  },
  {
   "cell_type": "markdown",
   "metadata": {},
   "source": [
    "### **Data Merging**"
   ]
  },
  {
   "cell_type": "code",
   "execution_count": 7,
   "metadata": {
    "execution": {
     "iopub.execute_input": "2024-12-25T05:56:09.304262Z",
     "iopub.status.busy": "2024-12-25T05:56:09.303916Z",
     "iopub.status.idle": "2024-12-25T05:56:09.388711Z",
     "shell.execute_reply": "2024-12-25T05:56:09.387622Z",
     "shell.execute_reply.started": "2024-12-25T05:56:09.304230Z"
    }
   },
   "outputs": [],
   "source": [
    "# Merge df with unit_df on Unit and Unit Name\n",
    "merged_df = df.merge(unit_df,\n",
    "                    left_on='Unit',\n",
    "                    right_on='Unit Name',\n",
    "                    how='left')"
   ]
  },
  {
   "cell_type": "code",
   "execution_count": 8,
   "metadata": {
    "execution": {
     "iopub.execute_input": "2024-12-25T05:56:09.390243Z",
     "iopub.status.busy": "2024-12-25T05:56:09.389884Z",
     "iopub.status.idle": "2024-12-25T05:56:09.412558Z",
     "shell.execute_reply": "2024-12-25T05:56:09.411339Z",
     "shell.execute_reply.started": "2024-12-25T05:56:09.390205Z"
    }
   },
   "outputs": [
    {
     "data": {
      "text/html": [
       "<div>\n",
       "<style scoped>\n",
       "    .dataframe tbody tr th:only-of-type {\n",
       "        vertical-align: middle;\n",
       "    }\n",
       "\n",
       "    .dataframe tbody tr th {\n",
       "        vertical-align: top;\n",
       "    }\n",
       "\n",
       "    .dataframe thead th {\n",
       "        text-align: right;\n",
       "    }\n",
       "</style>\n",
       "<table border=\"1\" class=\"dataframe\">\n",
       "  <thead>\n",
       "    <tr style=\"text-align: right;\">\n",
       "      <th></th>\n",
       "      <th>Domain Code</th>\n",
       "      <th>Domain</th>\n",
       "      <th>Area Code (M49)</th>\n",
       "      <th>Area</th>\n",
       "      <th>Element Code</th>\n",
       "      <th>Element</th>\n",
       "      <th>Item Code (CPC)</th>\n",
       "      <th>Item</th>\n",
       "      <th>Year Code</th>\n",
       "      <th>Year</th>\n",
       "      <th>Unit</th>\n",
       "      <th>Value</th>\n",
       "      <th>Flag</th>\n",
       "      <th>Flag Description</th>\n",
       "      <th>Note</th>\n",
       "      <th>Unit Name</th>\n",
       "      <th>Description</th>\n",
       "    </tr>\n",
       "  </thead>\n",
       "  <tbody>\n",
       "    <tr>\n",
       "      <th>0</th>\n",
       "      <td>QCL</td>\n",
       "      <td>Crops and livestock products</td>\n",
       "      <td>4</td>\n",
       "      <td>Afghanistan</td>\n",
       "      <td>5111</td>\n",
       "      <td>Stocks</td>\n",
       "      <td>2111</td>\n",
       "      <td>Cattle</td>\n",
       "      <td>1961</td>\n",
       "      <td>1961</td>\n",
       "      <td>An</td>\n",
       "      <td>2900000.0</td>\n",
       "      <td>A</td>\n",
       "      <td>Official figure</td>\n",
       "      <td>NaN</td>\n",
       "      <td>An</td>\n",
       "      <td>Animals</td>\n",
       "    </tr>\n",
       "    <tr>\n",
       "      <th>1</th>\n",
       "      <td>QCL</td>\n",
       "      <td>Crops and livestock products</td>\n",
       "      <td>4</td>\n",
       "      <td>Afghanistan</td>\n",
       "      <td>5111</td>\n",
       "      <td>Stocks</td>\n",
       "      <td>2111</td>\n",
       "      <td>Cattle</td>\n",
       "      <td>1962</td>\n",
       "      <td>1962</td>\n",
       "      <td>An</td>\n",
       "      <td>3200000.0</td>\n",
       "      <td>E</td>\n",
       "      <td>Estimated value</td>\n",
       "      <td>NaN</td>\n",
       "      <td>An</td>\n",
       "      <td>Animals</td>\n",
       "    </tr>\n",
       "    <tr>\n",
       "      <th>2</th>\n",
       "      <td>QCL</td>\n",
       "      <td>Crops and livestock products</td>\n",
       "      <td>4</td>\n",
       "      <td>Afghanistan</td>\n",
       "      <td>5111</td>\n",
       "      <td>Stocks</td>\n",
       "      <td>2111</td>\n",
       "      <td>Cattle</td>\n",
       "      <td>1963</td>\n",
       "      <td>1963</td>\n",
       "      <td>An</td>\n",
       "      <td>3300000.0</td>\n",
       "      <td>E</td>\n",
       "      <td>Estimated value</td>\n",
       "      <td>NaN</td>\n",
       "      <td>An</td>\n",
       "      <td>Animals</td>\n",
       "    </tr>\n",
       "    <tr>\n",
       "      <th>3</th>\n",
       "      <td>QCL</td>\n",
       "      <td>Crops and livestock products</td>\n",
       "      <td>4</td>\n",
       "      <td>Afghanistan</td>\n",
       "      <td>5111</td>\n",
       "      <td>Stocks</td>\n",
       "      <td>2111</td>\n",
       "      <td>Cattle</td>\n",
       "      <td>1964</td>\n",
       "      <td>1964</td>\n",
       "      <td>An</td>\n",
       "      <td>3350000.0</td>\n",
       "      <td>E</td>\n",
       "      <td>Estimated value</td>\n",
       "      <td>NaN</td>\n",
       "      <td>An</td>\n",
       "      <td>Animals</td>\n",
       "    </tr>\n",
       "    <tr>\n",
       "      <th>4</th>\n",
       "      <td>QCL</td>\n",
       "      <td>Crops and livestock products</td>\n",
       "      <td>4</td>\n",
       "      <td>Afghanistan</td>\n",
       "      <td>5111</td>\n",
       "      <td>Stocks</td>\n",
       "      <td>2111</td>\n",
       "      <td>Cattle</td>\n",
       "      <td>1965</td>\n",
       "      <td>1965</td>\n",
       "      <td>An</td>\n",
       "      <td>3400000.0</td>\n",
       "      <td>E</td>\n",
       "      <td>Estimated value</td>\n",
       "      <td>NaN</td>\n",
       "      <td>An</td>\n",
       "      <td>Animals</td>\n",
       "    </tr>\n",
       "  </tbody>\n",
       "</table>\n",
       "</div>"
      ],
      "text/plain": [
       "  Domain Code                        Domain Area Code (M49)         Area  \\\n",
       "0         QCL  Crops and livestock products               4  Afghanistan   \n",
       "1         QCL  Crops and livestock products               4  Afghanistan   \n",
       "2         QCL  Crops and livestock products               4  Afghanistan   \n",
       "3         QCL  Crops and livestock products               4  Afghanistan   \n",
       "4         QCL  Crops and livestock products               4  Afghanistan   \n",
       "\n",
       "  Element Code Element Item Code (CPC)    Item Year Code  Year Unit  \\\n",
       "0         5111  Stocks            2111  Cattle      1961  1961   An   \n",
       "1         5111  Stocks            2111  Cattle      1962  1962   An   \n",
       "2         5111  Stocks            2111  Cattle      1963  1963   An   \n",
       "3         5111  Stocks            2111  Cattle      1964  1964   An   \n",
       "4         5111  Stocks            2111  Cattle      1965  1965   An   \n",
       "\n",
       "       Value Flag Flag Description Note Unit Name Description  \n",
       "0  2900000.0    A  Official figure  NaN        An     Animals  \n",
       "1  3200000.0    E  Estimated value  NaN        An     Animals  \n",
       "2  3300000.0    E  Estimated value  NaN        An     Animals  \n",
       "3  3350000.0    E  Estimated value  NaN        An     Animals  \n",
       "4  3400000.0    E  Estimated value  NaN        An     Animals  "
      ]
     },
     "execution_count": 8,
     "metadata": {},
     "output_type": "execute_result"
    }
   ],
   "source": [
    "# Show first five rows of merged data\n",
    "merged_df.head()"
   ]
  },
  {
   "cell_type": "markdown",
   "metadata": {},
   "source": [
    "### **Drop Irrelevant Columns**"
   ]
  },
  {
   "cell_type": "markdown",
   "metadata": {
    "execution": {
     "iopub.execute_input": "2024-12-25T05:45:05.961642Z",
     "iopub.status.busy": "2024-12-25T05:45:05.961245Z",
     "iopub.status.idle": "2024-12-25T05:45:05.970568Z",
     "shell.execute_reply": "2024-12-25T05:45:05.969143Z",
     "shell.execute_reply.started": "2024-12-25T05:45:05.961613Z"
    }
   },
   "source": [
    "After merging our datasets, we need to clean up the dataframe by removing redundant and unnecessary columns. Here's why we're removing specific columns:\n",
    "\n",
    "**Redundant Identifier Columns**\n",
    "* `Domain Code` → Redundant with `Domain` which provides the same information in a more readable format\n",
    "* `Area Code (M49)` → Redundant with `Area` column which provides location in text format\n",
    "* `Item Code (CPC)` → Redundant with `Item` column which gives the name directly\n",
    "* `Year Code` → Redundant with `Year` column (same information)\n",
    "* `Unit Name` → Redundant with `Unit` column after our merge\n",
    "\n",
    "**Empty/Unnecessary Columns**\n",
    "* `Note` → Contains mostly NaN values and not useful for our analysis\n",
    "* Flag and Flag Description → Data quality indicators not needed for our current analysis\n",
    "\n",
    "**Columns We're Keeping**\n",
    "* `Domain` - Category of data\n",
    "* `Area` - Geographic location\n",
    "* `Element` - Type of measurement\n",
    "* `Item` - Specific item being measured\n",
    "* `Year` - Time period\n",
    "* `Unit` - Measurement unit\n",
    "* `Value` - Actual measurement\n",
    "\n",
    "These changes will give us a cleaner, more focused dataset while maintaining all essential information for our analysis."
   ]
  },
  {
   "cell_type": "code",
   "execution_count": 9,
   "metadata": {
    "execution": {
     "iopub.execute_input": "2024-12-25T05:56:09.414008Z",
     "iopub.status.busy": "2024-12-25T05:56:09.413673Z",
     "iopub.status.idle": "2024-12-25T05:56:09.435910Z",
     "shell.execute_reply": "2024-12-25T05:56:09.434851Z",
     "shell.execute_reply.started": "2024-12-25T05:56:09.413966Z"
    }
   },
   "outputs": [],
   "source": [
    "# Drop redundant and unnecessary columns\n",
    "merged_df = merged_df.drop(columns=[\n",
    "    'Domain Code',\n",
    "    'Area Code (M49)',\n",
    "    'Item Code (CPC)',\n",
    "    'Year Code',\n",
    "    'Unit Name',\n",
    "    'Note',\n",
    "    'Flag',\n",
    "    'Flag Description'\n",
    "])"
   ]
  },
  {
   "cell_type": "code",
   "execution_count": 10,
   "metadata": {
    "execution": {
     "iopub.execute_input": "2024-12-25T05:56:09.438952Z",
     "iopub.status.busy": "2024-12-25T05:56:09.438573Z",
     "iopub.status.idle": "2024-12-25T05:56:09.456411Z",
     "shell.execute_reply": "2024-12-25T05:56:09.455133Z",
     "shell.execute_reply.started": "2024-12-25T05:56:09.438920Z"
    }
   },
   "outputs": [
    {
     "data": {
      "text/html": [
       "<div>\n",
       "<style scoped>\n",
       "    .dataframe tbody tr th:only-of-type {\n",
       "        vertical-align: middle;\n",
       "    }\n",
       "\n",
       "    .dataframe tbody tr th {\n",
       "        vertical-align: top;\n",
       "    }\n",
       "\n",
       "    .dataframe thead th {\n",
       "        text-align: right;\n",
       "    }\n",
       "</style>\n",
       "<table border=\"1\" class=\"dataframe\">\n",
       "  <thead>\n",
       "    <tr style=\"text-align: right;\">\n",
       "      <th></th>\n",
       "      <th>Domain</th>\n",
       "      <th>Area</th>\n",
       "      <th>Element Code</th>\n",
       "      <th>Element</th>\n",
       "      <th>Item</th>\n",
       "      <th>Year</th>\n",
       "      <th>Unit</th>\n",
       "      <th>Value</th>\n",
       "      <th>Description</th>\n",
       "    </tr>\n",
       "  </thead>\n",
       "  <tbody>\n",
       "    <tr>\n",
       "      <th>0</th>\n",
       "      <td>Crops and livestock products</td>\n",
       "      <td>Afghanistan</td>\n",
       "      <td>5111</td>\n",
       "      <td>Stocks</td>\n",
       "      <td>Cattle</td>\n",
       "      <td>1961</td>\n",
       "      <td>An</td>\n",
       "      <td>2900000.0</td>\n",
       "      <td>Animals</td>\n",
       "    </tr>\n",
       "    <tr>\n",
       "      <th>1</th>\n",
       "      <td>Crops and livestock products</td>\n",
       "      <td>Afghanistan</td>\n",
       "      <td>5111</td>\n",
       "      <td>Stocks</td>\n",
       "      <td>Cattle</td>\n",
       "      <td>1962</td>\n",
       "      <td>An</td>\n",
       "      <td>3200000.0</td>\n",
       "      <td>Animals</td>\n",
       "    </tr>\n",
       "    <tr>\n",
       "      <th>2</th>\n",
       "      <td>Crops and livestock products</td>\n",
       "      <td>Afghanistan</td>\n",
       "      <td>5111</td>\n",
       "      <td>Stocks</td>\n",
       "      <td>Cattle</td>\n",
       "      <td>1963</td>\n",
       "      <td>An</td>\n",
       "      <td>3300000.0</td>\n",
       "      <td>Animals</td>\n",
       "    </tr>\n",
       "    <tr>\n",
       "      <th>3</th>\n",
       "      <td>Crops and livestock products</td>\n",
       "      <td>Afghanistan</td>\n",
       "      <td>5111</td>\n",
       "      <td>Stocks</td>\n",
       "      <td>Cattle</td>\n",
       "      <td>1964</td>\n",
       "      <td>An</td>\n",
       "      <td>3350000.0</td>\n",
       "      <td>Animals</td>\n",
       "    </tr>\n",
       "    <tr>\n",
       "      <th>4</th>\n",
       "      <td>Crops and livestock products</td>\n",
       "      <td>Afghanistan</td>\n",
       "      <td>5111</td>\n",
       "      <td>Stocks</td>\n",
       "      <td>Cattle</td>\n",
       "      <td>1965</td>\n",
       "      <td>An</td>\n",
       "      <td>3400000.0</td>\n",
       "      <td>Animals</td>\n",
       "    </tr>\n",
       "  </tbody>\n",
       "</table>\n",
       "</div>"
      ],
      "text/plain": [
       "                         Domain         Area Element Code Element    Item  \\\n",
       "0  Crops and livestock products  Afghanistan         5111  Stocks  Cattle   \n",
       "1  Crops and livestock products  Afghanistan         5111  Stocks  Cattle   \n",
       "2  Crops and livestock products  Afghanistan         5111  Stocks  Cattle   \n",
       "3  Crops and livestock products  Afghanistan         5111  Stocks  Cattle   \n",
       "4  Crops and livestock products  Afghanistan         5111  Stocks  Cattle   \n",
       "\n",
       "   Year Unit      Value Description  \n",
       "0  1961   An  2900000.0     Animals  \n",
       "1  1962   An  3200000.0     Animals  \n",
       "2  1963   An  3300000.0     Animals  \n",
       "3  1964   An  3350000.0     Animals  \n",
       "4  1965   An  3400000.0     Animals  "
      ]
     },
     "execution_count": 10,
     "metadata": {},
     "output_type": "execute_result"
    }
   ],
   "source": [
    "merged_df.head()"
   ]
  },
  {
   "cell_type": "code",
   "execution_count": null,
   "metadata": {},
   "outputs": [],
   "source": []
  }
 ],
 "metadata": {
  "kaggle": {
   "accelerator": "none",
   "dataSources": [
    {
     "datasetId": 6368806,
     "sourceId": 10290687,
     "sourceType": "datasetVersion"
    }
   ],
   "dockerImageVersionId": 30822,
   "isGpuEnabled": false,
   "isInternetEnabled": true,
   "language": "python",
   "sourceType": "notebook"
  },
  "kernelspec": {
   "display_name": "Python 3 (ipykernel)",
   "language": "python",
   "name": "python3"
  },
  "language_info": {
   "codemirror_mode": {
    "name": "ipython",
    "version": 3
   },
   "file_extension": ".py",
   "mimetype": "text/x-python",
   "name": "python",
   "nbconvert_exporter": "python",
   "pygments_lexer": "ipython3",
   "version": "3.12.4"
  }
 },
 "nbformat": 4,
 "nbformat_minor": 4
}
