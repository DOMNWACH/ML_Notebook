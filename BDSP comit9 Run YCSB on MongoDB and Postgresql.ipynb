{
 "cells": [
  {
   "cell_type": "markdown",
   "id": "923bcb38",
   "metadata": {},
   "source": [
    "<h1 align=\"center\" style=\"background-color:#2c3e54;color:#ecf0f1;border-radius: 8px; padding:15px\">MSc in Data Analytics: Big Data Storage and Processing</h1>"
   ]
  },
  {
   "cell_type": "markdown",
   "id": "1d805034",
   "metadata": {},
   "source": [
    "### Table of Contents\n",
    "\n",
    "- [Introduction](#Introduction)\n",
    "    - [Assessment Overview](#Assessment-Overview)\n",
    "    - [Project Summary](#Project-Summary)"
   ]
  },
  {
   "cell_type": "markdown",
   "id": "f2e0502b",
   "metadata": {},
   "source": [
    "<h2 style=\"background-color:#2c3e54;color:#ecf0f1;border-radius: 8px; padding:15px\">Introduction</h2>"
   ]
  },
  {
   "cell_type": "markdown",
   "id": "1fcb5eed",
   "metadata": {},
   "source": [
    "### **Assessment Overview**"
   ]
  },
  {
   "cell_type": "code",
   "execution_count": null,
   "id": "ef855670",
   "metadata": {},
   "outputs": [],
   "source": []
  },
  {
   "cell_type": "markdown",
   "id": "db0a1465",
   "metadata": {},
   "source": [
    "### Project Summary"
   ]
  },
  {
   "cell_type": "code",
   "execution_count": null,
   "id": "184e2659",
   "metadata": {},
   "outputs": [],
   "source": []
  },
  {
   "cell_type": "markdown",
   "id": "bce8a253",
   "metadata": {},
   "source": [
    "<h2 style=\"background-color:#2c3e54;color:#ecf0f1;border-radius: 8px; padding:15px\">Install and Import Required Libraries</h2>"
   ]
  },
  {
   "cell_type": "code",
   "execution_count": 1,
   "id": "302fe9f3",
   "metadata": {
    "execution": {
     "iopub.execute_input": "2025-07-14T18:39:32.666380Z",
     "iopub.status.busy": "2025-07-14T18:39:32.665981Z",
     "iopub.status.idle": "2025-07-14T18:39:32.672666Z",
     "shell.execute_reply": "2025-07-14T18:39:32.671542Z",
     "shell.execute_reply.started": "2025-07-14T18:39:32.666350Z"
    }
   },
   "outputs": [],
   "source": [
    "# !pip install -q pyspark pymongo"
   ]
  },
  {
   "cell_type": "code",
   "execution_count": 2,
   "id": "709169ef",
   "metadata": {
    "execution": {
     "iopub.execute_input": "2025-07-14T18:39:32.707810Z",
     "iopub.status.busy": "2025-07-14T18:39:32.707395Z",
     "iopub.status.idle": "2025-07-14T18:39:33.477834Z",
     "shell.execute_reply": "2025-07-14T18:39:33.476330Z",
     "shell.execute_reply.started": "2025-07-14T18:39:32.707774Z"
    }
   },
   "outputs": [],
   "source": [
    "import glob\n",
    "import os\n",
    "from datetime import datetime\n",
    "import logging\n",
    "\n",
    "import numpy as np\n",
    "import pandas as pd\n",
    "\n",
    "import pymongo\n",
    "from pymongo import MongoClient\n",
    "\n",
    "\n",
    "from pyspark.sql import SparkSession\n",
    "from pyspark.sql.functions import *\n",
    "from pyspark.sql.types import *\n",
    "from pyspark.sql.functions import lit\n",
    "\n",
    "from kaggle_secrets import UserSecretsClient\n",
    "\n",
    "import warnings"
   ]
  },
  {
   "cell_type": "code",
   "execution_count": 3,
   "id": "56b8b63c",
   "metadata": {
    "execution": {
     "iopub.execute_input": "2025-07-14T18:39:33.481458Z",
     "iopub.status.busy": "2025-07-14T18:39:33.480131Z",
     "iopub.status.idle": "2025-07-14T18:39:33.487510Z",
     "shell.execute_reply": "2025-07-14T18:39:33.486279Z",
     "shell.execute_reply.started": "2025-07-14T18:39:33.481407Z"
    }
   },
   "outputs": [],
   "source": [
    "# Configure logging\n",
    "logging.basicConfig(level=logging.INFO, format='%(asctime)s — %(levelname)s %(message)s', force=True)\n",
    "logger = logging.getLogger(__name__)\n",
    "\n",
    "# Disable warnings\n",
    "warnings.filterwarnings(action='ignore')"
   ]
  },
  {
   "cell_type": "markdown",
   "id": "8f1b1730",
   "metadata": {},
   "source": [
    "<h2 style=\"background-color:#2c3e54;color:#ecf0f1;border-radius: 8px; padding:15px\">Define Data Paths</h2>"
   ]
  },
  {
   "cell_type": "code",
   "execution_count": 4,
   "id": "264f9050",
   "metadata": {
    "execution": {
     "iopub.execute_input": "2025-07-14T18:39:33.489524Z",
     "iopub.status.busy": "2025-07-14T18:39:33.489031Z",
     "iopub.status.idle": "2025-07-14T18:39:33.511870Z",
     "shell.execute_reply": "2025-07-14T18:39:33.510572Z",
     "shell.execute_reply.started": "2025-07-14T18:39:33.489471Z"
    }
   },
   "outputs": [],
   "source": [
    "STOCKPRICE_FOLDER = \"/kaggle/input/stock-tweet-and-price/stock-tweet-and-price/stockprice\"\n",
    "STOCKTWEET_CSV = \"/kaggle/input/stock-tweet-and-price/stock-tweet-and-price/stocktweet/stocktweet.csv\""
   ]
  },
  {
   "cell_type": "markdown",
   "id": "c158e95c",
   "metadata": {},
   "source": [
    "<h2 style=\"background-color:#2c3e54;color:#ecf0f1;border-radius: 8px; padding:15px\">Set MongoDB Connection</h2>"
   ]
  },
  {
   "cell_type": "code",
   "execution_count": 5,
   "id": "a8393259",
   "metadata": {
    "execution": {
     "iopub.execute_input": "2025-07-14T18:39:33.514598Z",
     "iopub.status.busy": "2025-07-14T18:39:33.514017Z",
     "iopub.status.idle": "2025-07-14T18:39:33.710304Z",
     "shell.execute_reply": "2025-07-14T18:39:33.708598Z",
     "shell.execute_reply.started": "2025-07-14T18:39:33.514560Z"
    }
   },
   "outputs": [],
   "source": [
    "user_secrets = UserSecretsClient()\n",
    "mongodb_uri = user_secrets.get_secret(\"mongodb-atlas-uri\")"
   ]
  },
  {
   "cell_type": "code",
   "execution_count": 6,
   "id": "9e8afdbc",
   "metadata": {
    "execution": {
     "iopub.execute_input": "2025-07-14T18:39:33.712587Z",
     "iopub.status.busy": "2025-07-14T18:39:33.712223Z",
     "iopub.status.idle": "2025-07-14T18:39:34.454531Z",
     "shell.execute_reply": "2025-07-14T18:39:34.453590Z",
     "shell.execute_reply.started": "2025-07-14T18:39:33.712558Z"
    }
   },
   "outputs": [
    {
     "name": "stderr",
     "output_type": "stream",
     "text": [
      "2025-07-14 18:39:34,449 — INFO Connected to MongoDB database: stock_analytics\n"
     ]
    },
    {
     "name": "stdout",
     "output_type": "stream",
     "text": [
      "MongoDB version: 8.0.11\n"
     ]
    }
   ],
   "source": [
    "def create_mongodb_connection(uri, db_name='stock_analytics'):\n",
    "    \"\"\"\n",
    "    Connect to MongoDB and return database instance\n",
    "    \n",
    "    Args:\n",
    "        uri (str): Database URI\n",
    "        db_name (str): Database name\n",
    "    \n",
    "    Returns:\n",
    "        pymongo.database.Database: MongoDB database instance\n",
    "    \"\"\"\n",
    "    try:\n",
    "        client = MongoClient(uri)\n",
    "        db = client[db_name]\n",
    "        print(\"MongoDB version:\", client.server_info()[\"version\"])\n",
    "        logger.info(f\"Connected to MongoDB database: {db_name}\")\n",
    "        return db\n",
    "    except Exception as e:\n",
    "        logger.error(f\"Failed to connect to MongoDB: {e}\")\n",
    "        raise\n",
    "\n",
    "db = create_mongodb_connection(mongodb_uri, 'stock_analytics')"
   ]
  },
  {
   "cell_type": "markdown",
   "id": "2bff3ec8",
   "metadata": {},
   "source": [
    "### MongoDB Selection Rationale\n",
    "\n",
    "**Why MongoDB was chosen over other NoSQL options:**\n",
    "\n",
    "\n",
    "* **Document-oriented structure**\n",
    "\n",
    "  * MongoDB’s JSON-like document model naturally accommodates the semi-structured `stocktweet.csv` data (e.g., tweet text, ticker, and timestamp).\n",
    "  * No need for complex schema definitions or rigid table structures.\n",
    "\n",
    "* **Ease of use and developer-friendliness**\n",
    "  * It is easy to get started with MongoDB. The installation process is easy as well as connecting to the database\n",
    "  * MongoDB’s query language (MQL) is intuitive and similar to JSON syntax, which makes it easy to write.\n",
    "  * Rich developer tools such as MongoDB Compass which helps me visualize the database. E.g when I have created a collection, inserted a data, and so on.\n",
    "  * Extensive support for multiple programming languages (e.g., Python, Java, Scala).\n",
    "\n",
    "* **Seamless integration with Apache Spark**\n",
    "\n",
    "  * The `mongo-spark-connector` enables direct read/write access between MongoDB and Spark DataFrames.\n",
    "  * Simplifies data ingestion, distributed transformation, and analytics within the Spark environment.\n",
    "\n",
    "* **Efficient for read-heavy analytical workloads**\n",
    "\n",
    "  * MongoDB supports secondary indexing and text search—ideal for querying tweets by ticker symbol or date.\n",
    "  * Aggregation pipelines allow for efficient summarization and filtering of large datasets.\n",
    "\n",
    "* **Cloud accessibility and scalability**\n",
    "\n",
    "  * MongoDB Atlas provides a fully managed cloud database service that allows me to connect securely from anywhere.\n",
    "  * I can easily deploy and scale MongoDB clusters in the cloud and integrate them with my local Spark environment.\n",
    "  * Atlas ensures high availability, backup, and monitoring, which is ideal for handling large-scale, real-time tweet and stock data."
   ]
  },
  {
   "cell_type": "markdown",
   "id": "009c1e26",
   "metadata": {},
   "source": [
    "<h2 style=\"background-color:#2c3e54;color:#ecf0f1;border-radius: 8px; padding:15px\">Create Spark Session</h2>"
   ]
  },
  {
   "cell_type": "markdown",
   "id": "a539daeb-e1f7-4a8d-91fb-baf1b342f382",
   "metadata": {},
   "source": [
    "**Note:** The original MongoDB URI had the format `<mongodb+srv://<user>:<password>@cluster.mongodb.net/?...>`, which lacks a target database. Since Spark requires a database to be explicitly defined in the connection URI, the string was programmatically updated to include the `/stock_analytics` path before the query string."
   ]
  },
  {
   "cell_type": "code",
   "execution_count": 7,
   "id": "ac55e975-9d04-4be3-ae84-a21d95d7cccc",
   "metadata": {
    "execution": {
     "iopub.execute_input": "2025-07-14T18:39:34.456786Z",
     "iopub.status.busy": "2025-07-14T18:39:34.455994Z",
     "iopub.status.idle": "2025-07-14T18:39:34.462218Z",
     "shell.execute_reply": "2025-07-14T18:39:34.461016Z",
     "shell.execute_reply.started": "2025-07-14T18:39:34.456756Z"
    }
   },
   "outputs": [],
   "source": [
    "# Insert 'stock_analytics' before the query string\n",
    "spark_mongodb_uri = mongodb_uri.replace(\".net/\", \".net/stock_analytics?\")"
   ]
  },
  {
   "cell_type": "code",
   "execution_count": 8,
   "id": "2cee31d5",
   "metadata": {
    "execution": {
     "iopub.execute_input": "2025-07-14T18:39:34.463984Z",
     "iopub.status.busy": "2025-07-14T18:39:34.463703Z",
     "iopub.status.idle": "2025-07-14T18:39:34.497587Z",
     "shell.execute_reply": "2025-07-14T18:39:34.496036Z",
     "shell.execute_reply.started": "2025-07-14T18:39:34.463958Z"
    }
   },
   "outputs": [],
   "source": [
    "def create_spark_session(app_name=\"StockAnalytics\"):\n",
    "    \"\"\"\n",
    "    Create Spark session with MongoDB connector\n",
    "    \n",
    "    Args:\n",
    "        app_name (str): Spark application name\n",
    "    \n",
    "    Returns:\n",
    "        pyspark.sql.SparkSession: Spark session instance\n",
    "    \"\"\"\n",
    "    try:\n",
    "        spark = SparkSession.builder \\\n",
    "            .appName(app_name) \\\n",
    "            .config(\"spark.jars.packages\", \"org.mongodb.spark:mongo-spark-connector_2.12:3.0.1\") \\\n",
    "            .config(\"spark.mongodb.input.uri\", spark_mongodb_uri) \\\n",
    "            .config(\"spark.mongodb.output.uri\", spark_mongodb_uri) \\\n",
    "            .getOrCreate()\n",
    "        \n",
    "        logger.info(f\"Spark session created: {app_name}\")\n",
    "        return spark\n",
    "    except Exception as e:\n",
    "        logger.error(f\"Failed to create Spark session: {e}\")\n",
    "        raise"
   ]
  },
  {
   "cell_type": "code",
   "execution_count": 9,
   "id": "5b4ed8b5",
   "metadata": {
    "execution": {
     "iopub.execute_input": "2025-07-14T18:39:34.501490Z",
     "iopub.status.busy": "2025-07-14T18:39:34.501136Z",
     "iopub.status.idle": "2025-07-14T18:39:40.620207Z",
     "shell.execute_reply": "2025-07-14T18:39:40.618984Z",
     "shell.execute_reply.started": "2025-07-14T18:39:34.501463Z"
    }
   },
   "outputs": [
    {
     "name": "stdout",
     "output_type": "stream",
     "text": [
      ":: loading settings :: url = jar:file:/usr/local/lib/python3.11/dist-packages/pyspark/jars/ivy-2.5.1.jar!/org/apache/ivy/core/settings/ivysettings.xml\n"
     ]
    },
    {
     "name": "stderr",
     "output_type": "stream",
     "text": [
      "Ivy Default Cache set to: /root/.ivy2/cache\n",
      "The jars for the packages stored in: /root/.ivy2/jars\n",
      "org.mongodb.spark#mongo-spark-connector_2.12 added as a dependency\n",
      ":: resolving dependencies :: org.apache.spark#spark-submit-parent-e3ef89fe-374c-4de1-a492-75380e04545c;1.0\n",
      "\tconfs: [default]\n",
      "\tfound org.mongodb.spark#mongo-spark-connector_2.12;3.0.1 in central\n",
      "\tfound org.mongodb#mongodb-driver-sync;4.0.5 in central\n",
      "\tfound org.mongodb#bson;4.0.5 in central\n",
      "\tfound org.mongodb#mongodb-driver-core;4.0.5 in central\n",
      ":: resolution report :: resolve 317ms :: artifacts dl 18ms\n",
      "\t:: modules in use:\n",
      "\torg.mongodb#bson;4.0.5 from central in [default]\n",
      "\torg.mongodb#mongodb-driver-core;4.0.5 from central in [default]\n",
      "\torg.mongodb#mongodb-driver-sync;4.0.5 from central in [default]\n",
      "\torg.mongodb.spark#mongo-spark-connector_2.12;3.0.1 from central in [default]\n",
      "\t---------------------------------------------------------------------\n",
      "\t|                  |            modules            ||   artifacts   |\n",
      "\t|       conf       | number| search|dwnlded|evicted|| number|dwnlded|\n",
      "\t---------------------------------------------------------------------\n",
      "\t|      default     |   4   |   0   |   0   |   0   ||   4   |   0   |\n",
      "\t---------------------------------------------------------------------\n",
      ":: retrieving :: org.apache.spark#spark-submit-parent-e3ef89fe-374c-4de1-a492-75380e04545c\n",
      "\tconfs: [default]\n",
      "\t0 artifacts copied, 4 already retrieved (0kB/14ms)\n",
      "25/07/14 18:39:37 WARN NativeCodeLoader: Unable to load native-hadoop library for your platform... using builtin-java classes where applicable\n",
      "Setting default log level to \"WARN\".\n",
      "To adjust logging level use sc.setLogLevel(newLevel). For SparkR, use setLogLevel(newLevel).\n",
      "2025-07-14 18:39:40,613 — INFO Spark session created: StockAnalytics\n"
     ]
    }
   ],
   "source": [
    "spark = create_spark_session()\n",
    "\n",
    "# Suppress Warnings in PySpark\n",
    "spark.sparkContext.setLogLevel(\"ERROR\")"
   ]
  },
  {
   "cell_type": "markdown",
   "id": "ebdde128-0041-45c1-84c5-c56e83dc3805",
   "metadata": {
    "execution": {
     "iopub.execute_input": "2025-07-14T15:13:18.749667Z",
     "iopub.status.busy": "2025-07-14T15:13:18.749227Z",
     "iopub.status.idle": "2025-07-14T15:13:18.759738Z",
     "shell.execute_reply": "2025-07-14T15:13:18.758192Z",
     "shell.execute_reply.started": "2025-07-14T15:13:18.749636Z"
    }
   },
   "source": [
    "### Spark Selection Rationale\n",
    "\n",
    "**Why Spark instead of Hadoop MapReduce:**\n",
    "\n",
    "* Spark performs in-memory processing, making it much faster than Hadoop MapReduce—especially for repeated operations like filtering, joining, and aggregation.\n",
    "* It provides simpler, higher-level APIs (e.g., DataFrames and SQL) that are easier to use and more readable than the verbose MapReduce code.\n",
    "* Spark includes powerful built-in libraries for SQL, machine learning, and streaming, which are not natively available in MapReduce.\n",
    "\n",
    "**Why PySpark:**\n",
    "\n",
    "* PySpark allows me to use Python—making it easier to integrate with pandas, matplotlib, and other familiar libraries.\n",
    "* Its syntax is concise and readable, improving development speed and code clarity.\n",
    "* Strong community support and documentation simplify implementation and troubleshooting.\n",
    "\n",
    "**MongoDB Integration:**\n",
    "\n",
    "* The Spark session is configured with the MongoDB connector, allowing direct read/write access between Spark and MongoDB.\n",
    "* This setup creates a seamless pipeline from storage to distributed processing without intermediate conversions."
   ]
  },
  {
   "cell_type": "markdown",
   "id": "5cf30a13-9272-4ae3-af14-81c1d2a03e11",
   "metadata": {
    "execution": {
     "iopub.execute_input": "2025-07-14T16:10:13.749924Z",
     "iopub.status.busy": "2025-07-14T16:10:13.749542Z",
     "iopub.status.idle": "2025-07-14T16:10:13.758266Z",
     "shell.execute_reply": "2025-07-14T16:10:13.756232Z",
     "shell.execute_reply.started": "2025-07-14T16:10:13.749894Z"
    }
   },
   "source": [
    "<h2 style=\"background-color:#2c3e54;color:#ecf0f1;border-radius: 8px; padding:15px\">Store Source Datasets into NoSQL Database using Spark</h2>"
   ]
  },
  {
   "cell_type": "code",
   "execution_count": 10,
   "id": "5c0b7252-24ec-404a-be65-a2ad91cae1a3",
   "metadata": {
    "execution": {
     "iopub.execute_input": "2025-07-14T18:39:40.621844Z",
     "iopub.status.busy": "2025-07-14T18:39:40.621487Z",
     "iopub.status.idle": "2025-07-14T18:39:40.658480Z",
     "shell.execute_reply": "2025-07-14T18:39:40.657350Z",
     "shell.execute_reply.started": "2025-07-14T18:39:40.621802Z"
    }
   },
   "outputs": [],
   "source": [
    "# Clear existing data\n",
    "for collection_name in db.list_collection_names():\n",
    "    db[collection_name].drop()"
   ]
  },
  {
   "cell_type": "code",
   "execution_count": 11,
   "id": "33035061-ce6d-4f44-8f1c-13fd3a959e88",
   "metadata": {
    "execution": {
     "iopub.execute_input": "2025-07-14T18:39:40.659835Z",
     "iopub.status.busy": "2025-07-14T18:39:40.659561Z",
     "iopub.status.idle": "2025-07-14T18:40:33.269559Z",
     "shell.execute_reply": "2025-07-14T18:40:33.268133Z",
     "shell.execute_reply.started": "2025-07-14T18:39:40.659809Z"
    }
   },
   "outputs": [
    {
     "name": "stderr",
     "output_type": "stream",
     "text": [
      "2025-07-14 18:40:33,264 — INFO Loaded stock tweets into MongoDB using Spark     \n"
     ]
    }
   ],
   "source": [
    "def store_stock_tweets_to_mongodb_spark(spark, csv_path):\n",
    "    \"\"\"\n",
    "    Load stock tweet data from CSV to MongoDB using Spark\n",
    "    \n",
    "    Args:\n",
    "        spark (SparkSession): Spark session instance\n",
    "        csv_path (str): Path to stocktweet.csv file\n",
    "    \"\"\"\n",
    "    try:\n",
    "        df = spark.read.option(\"header\", True).csv(csv_path)\n",
    "        df.write.format(\"mongo\") \\\n",
    "            .mode(\"overwrite\") \\\n",
    "            .option(\"collection\", \"stock_tweets\") \\\n",
    "            .save()\n",
    "        \n",
    "        logger.info(f\"Loaded stock tweets into MongoDB using Spark\")\n",
    "    except Exception as e:\n",
    "        logger.error(f\"Failed to load stock tweets via Spark: {e}\")\n",
    "        raise\n",
    "\n",
    "store_stock_tweets_to_mongodb_spark(spark, STOCKTWEET_CSV)"
   ]
  },
  {
   "cell_type": "code",
   "execution_count": 12,
   "id": "150ad1c6-9cf3-4af1-8f5d-0dc8de8f1b2d",
   "metadata": {
    "execution": {
     "iopub.execute_input": "2025-07-14T18:40:33.271535Z",
     "iopub.status.busy": "2025-07-14T18:40:33.271154Z",
     "iopub.status.idle": "2025-07-14T18:40:46.370503Z",
     "shell.execute_reply": "2025-07-14T18:40:46.369376Z",
     "shell.execute_reply.started": "2025-07-14T18:40:33.271506Z"
    }
   },
   "outputs": [
    {
     "name": "stderr",
     "output_type": "stream",
     "text": [
      "2025-07-14 18:40:46,366 — INFO Loaded stock prices into MongoDB using Spark     \n"
     ]
    }
   ],
   "source": [
    "def store_stock_prices_to_mongodb_spark(spark, stockprice_folder):\n",
    "    \"\"\"\n",
    "    Load stock price data from multiple CSVs to MongoDB using Spark\n",
    "    \n",
    "    Args:\n",
    "        spark (SparkSession): Spark session instance\n",
    "        stockprice_folder (str): Path to folder containing stock price CSV files\n",
    "    \"\"\"\n",
    "    try:\n",
    "        # Load all CSVs from the folder\n",
    "        df = spark.read.option(\"header\", True).csv(f\"{stockprice_folder}/*.csv\")\n",
    "        df.write.format(\"mongo\") \\\n",
    "            .mode(\"overwrite\") \\\n",
    "            .option(\"collection\", \"stock_prices\") \\\n",
    "            .save()\n",
    "\n",
    "        logger.info(f\"Loaded stock prices into MongoDB using Spark\")\n",
    "    except Exception as e:\n",
    "        logger.error(f\"Failed to load stock prices via Spark: {e}\")\n",
    "        raise\n",
    "\n",
    "store_stock_prices_to_mongodb_spark(spark, STOCKPRICE_FOLDER)"
   ]
  },
  {
   "cell_type": "markdown",
   "id": "da33948c-a62c-4310-b555-bbd1a2355b12",
   "metadata": {
    "execution": {
     "iopub.execute_input": "2025-07-14T15:58:52.140546Z",
     "iopub.status.busy": "2025-07-14T15:58:52.140199Z",
     "iopub.status.idle": "2025-07-14T15:59:48.904390Z",
     "shell.execute_reply": "2025-07-14T15:59:48.903237Z",
     "shell.execute_reply.started": "2025-07-14T15:58:52.140513Z"
    }
   },
   "source": [
    "### Rationale for Using Spark to Populate MongoDB\n",
    "\n",
    "The source datasets (`stocktweet.csv` and stock price files) were loaded using **PySpark**, and written directly into a MongoDB NoSQL database using the **MongoDB Spark Connector**. This approach leverages Spark’s distributed capabilities to handle large data volumes efficiently and meets the requirement to populate the NoSQL database using a big data processing tool. Each dataset was written to a separate collection (`stock_tweets`, `stock_prices`) for streamlined querying and integration with further Spark-based analytics."
   ]
  },
  {
   "cell_type": "markdown",
   "id": "aac6aab3-f7e6-4e4b-a406-fead8b77c847",
   "metadata": {},
   "source": [
    "<h2 style=\"background-color:#2c3e54;color:#ecf0f1;border-radius: 8px; padding:15px\">Read Source Datasets into NoSQL Database using Spark</h2>"
   ]
  },
  {
   "cell_type": "code",
   "execution_count": 13,
   "id": "9ce04a73-5002-475d-90c3-8a41e2cce9a1",
   "metadata": {
    "execution": {
     "iopub.execute_input": "2025-07-14T18:40:46.372168Z",
     "iopub.status.busy": "2025-07-14T18:40:46.371785Z",
     "iopub.status.idle": "2025-07-14T18:40:49.845820Z",
     "shell.execute_reply": "2025-07-14T18:40:49.837887Z",
     "shell.execute_reply.started": "2025-07-14T18:40:46.372130Z"
    }
   },
   "outputs": [
    {
     "name": "stderr",
     "output_type": "stream",
     "text": [
      "2025-07-14 18:40:49,819 — INFO Read 11149 tweets from MongoDB                   \n"
     ]
    }
   ],
   "source": [
    "def read_tweets_from_mongodb(spark):\n",
    "    \"\"\"\n",
    "    Read tweet data from MongoDB using Spark\n",
    "    \n",
    "    Args:\n",
    "        spark: Spark session instance\n",
    "    \n",
    "    Returns:\n",
    "        pyspark.sql.DataFrame: Spark DataFrame containing tweet data\n",
    "    \"\"\"\n",
    "    try:\n",
    "        df = spark.read \\\n",
    "            .format(\"mongo\") \\\n",
    "            .option(\"collection\", \"stock_tweets\") \\\n",
    "            .load()\n",
    "        \n",
    "        logger.info(f\"Read {df.count()} tweets from MongoDB\")\n",
    "        return df\n",
    "        \n",
    "    except Exception as e:\n",
    "        logger.error(f\"Failed to read tweets from MongoDB: {e}\")\n",
    "        raise\n",
    "\n",
    "tweets_df = read_tweets_from_mongodb(spark)"
   ]
  },
  {
   "cell_type": "code",
   "execution_count": 14,
   "id": "8c2381b8-21b9-47dc-b5e3-21ed78f2db05",
   "metadata": {
    "execution": {
     "iopub.execute_input": "2025-07-14T18:40:49.847180Z",
     "iopub.status.busy": "2025-07-14T18:40:49.846804Z",
     "iopub.status.idle": "2025-07-14T18:40:51.816237Z",
     "shell.execute_reply": "2025-07-14T18:40:51.815160Z",
     "shell.execute_reply.started": "2025-07-14T18:40:49.847150Z"
    }
   },
   "outputs": [
    {
     "name": "stderr",
     "output_type": "stream",
     "text": [
      "2025-07-14 18:40:51,809 — INFO Read 10175 price records from MongoDB\n"
     ]
    }
   ],
   "source": [
    "def read_prices_from_mongodb(spark):\n",
    "    \"\"\"\n",
    "    Read stock price data from MongoDB using Spark\n",
    "    \n",
    "    Args:\n",
    "        spark: Spark session instance\n",
    "    \n",
    "    Returns:\n",
    "        pyspark.sql.DataFrame: Spark DataFrame containing price data\n",
    "    \"\"\"\n",
    "    try:\n",
    "        df = spark.read \\\n",
    "            .format(\"mongo\") \\\n",
    "            .option(\"collection\", \"stock_prices\") \\\n",
    "            .load()\n",
    "        \n",
    "        logger.info(f\"Read {df.count()} price records from MongoDB\")\n",
    "        return df\n",
    "        \n",
    "    except Exception as e:\n",
    "        logger.error(f\"Failed to read prices from MongoDB: {e}\")\n",
    "        raise\n",
    "\n",
    "prices_df = read_prices_from_mongodb(spark)"
   ]
  },
  {
   "cell_type": "markdown",
   "id": "33a121ad-3cb1-44ec-b476-e27891799970",
   "metadata": {},
   "source": [
    "### Rationale for Using Spark to Read from MongoDB\n",
    "\n",
    "**Data Retrieval (Read):**\n",
    "The `read_tweets_from_mongodb()` and `read_prices_from_mongodb()` functions use Spark’s MongoDB connector to directly query collections into Spark DataFrames. This enables seamless integration for downstream analytics, leveraging Spark’s speed and MongoDB’s flexible document storage.\n",
    "\n",
    "**Why this matters:**\n",
    "Using Spark for both reading and writing ensures a **unified, high-performance pipeline** between storage (MongoDB) and processing (Spark), ideal for handling large-scale tweet and stock data."
   ]
  },
  {
   "cell_type": "markdown",
   "id": "857d0d68-79bd-4c44-8291-48372b2eba26",
   "metadata": {},
   "source": [
    "<h2 style=\"background-color:#2c3e54;color:#ecf0f1;border-radius: 8px; padding:15px\">Process tweet sentiment</h2>"
   ]
  },
  {
   "cell_type": "code",
   "execution_count": 15,
   "id": "9918ac81-569d-496f-8fb2-436165f1f16f",
   "metadata": {
    "execution": {
     "iopub.execute_input": "2025-07-14T18:40:51.817473Z",
     "iopub.status.busy": "2025-07-14T18:40:51.817114Z",
     "iopub.status.idle": "2025-07-14T18:40:51.827857Z",
     "shell.execute_reply": "2025-07-14T18:40:51.825930Z",
     "shell.execute_reply.started": "2025-07-14T18:40:51.817438Z"
    }
   },
   "outputs": [],
   "source": [
    "positive_keywords = [\n",
    "    \"up\", \"bull\", \"bullish\", \"gain\", \"gains\", \"rise\", \"rising\", \"high\", \"higher\", \"buy\", \"strong\", \n",
    "    \"positive\", \"green\", \"profit\", \"profits\", \"surge\", \"surging\", \"beat\", \"beats\", \"boom\", \"breakout\",\n",
    "    \"support\", \"soar\", \"soaring\", \"rocket\", \"growth\", \"rebound\", \"optimistic\", \"win\", \"wins\", \"recovery\"\n",
    "]\n",
    "\n",
    "negative_keywords = [\n",
    "    \"down\", \"bear\", \"bearish\", \"loss\", \"losses\", \"fall\", \"falling\", \"low\", \"lower\", \"sell\", \"selling\", \n",
    "    \"weak\", \"negative\", \"red\", \"drop\", \"dropped\", \"dip\", \"dipping\", \"miss\", \"missed\", \"crash\", \"plunge\",\n",
    "    \"resistance\", \"collapse\", \"tank\", \"tanking\", \"uncertain\", \"volatile\", \"recession\", \"fear\", \"panic\"\n",
    "]"
   ]
  },
  {
   "cell_type": "code",
   "execution_count": 16,
   "id": "51b11a66-ffe6-44ec-9416-46c163a73065",
   "metadata": {
    "execution": {
     "iopub.execute_input": "2025-07-14T18:40:51.829353Z",
     "iopub.status.busy": "2025-07-14T18:40:51.828813Z",
     "iopub.status.idle": "2025-07-14T18:40:51.859862Z",
     "shell.execute_reply": "2025-07-14T18:40:51.858533Z",
     "shell.execute_reply.started": "2025-07-14T18:40:51.829301Z"
    }
   },
   "outputs": [],
   "source": [
    "def process_tweet_sentiment_analysis(tweets_df, positive_keywords, negative_keywords):\n",
    "    \"\"\"\n",
    "    Process tweets for basic sentiment analysis and aggregation\n",
    "    \n",
    "    Args:\n",
    "        tweets_df (pyspark.sql.DataFrame): Spark DataFrame containing tweet data\n",
    "    \n",
    "    Returns:\n",
    "        pyspark.sql.DataFrame: Processed tweet data with sentiment indicators\n",
    "    \"\"\"\n",
    "    try:\n",
    "        # Ensure date column is in proper format\n",
    "        tweets_df = tweets_df.withColumn(\"date\", to_date(col(\"date\"), \"MM/dd/yyyy\"))\n",
    "    \n",
    "        # Normalize tweet text\n",
    "        tweets_df = tweets_df.withColumn(\"tweet_clean\", lower(regexp_replace(col(\"tweet\"), r\"[^a-zA-Z\\s]\", \"\")))\n",
    "    \n",
    "        # Use regex for case-insensitive keyword matching\n",
    "        pos_regex = r\"\\b(\" + \"|\".join(positive_keywords) + r\")\\b\"\n",
    "        neg_regex = r\"\\b(\" + \"|\".join(negative_keywords) + r\")\\b\"\n",
    "    \n",
    "        # Compute sentiment scores\n",
    "        tweets_df = tweets_df.withColumn(\"positive_sentiment\", when(col(\"tweet_clean\").rlike(pos_regex), 1).otherwise(0))\n",
    "        tweets_df = tweets_df.withColumn(\"negative_sentiment\", when(col(\"tweet_clean\").rlike(neg_regex), 1).otherwise(0))\n",
    "        tweets_df = tweets_df.withColumn(\"net_sentiment\", col(\"positive_sentiment\") - col(\"negative_sentiment\"))\n",
    "    \n",
    "        # Sentiment label for readability\n",
    "        tweets_df = tweets_df.withColumn(\n",
    "            \"sentiment_label\",\n",
    "            when(col(\"net_sentiment\") > 0, \"positive\")\n",
    "            .when(col(\"net_sentiment\") < 0, \"negative\")\n",
    "            .otherwise(\"neutral\")\n",
    "        )\n",
    "    \n",
    "        # Drop temporary columns\n",
    "        tweets_df = tweets_df.drop(\"tweet_clean\")\n",
    "    \n",
    "        logger.info(\"Enhanced tweet sentiment analysis completed\")\n",
    "        return tweets_df\n",
    "\n",
    "    except Exception as e:\n",
    "        logger.error(f\"Failed to process tweet sentiment: {e}\")\n",
    "        raise"
   ]
  },
  {
   "cell_type": "code",
   "execution_count": 17,
   "id": "69aff71e-aeb1-4de0-92df-5340954cde31",
   "metadata": {
    "execution": {
     "iopub.execute_input": "2025-07-14T18:40:51.861888Z",
     "iopub.status.busy": "2025-07-14T18:40:51.861350Z",
     "iopub.status.idle": "2025-07-14T18:40:52.133653Z",
     "shell.execute_reply": "2025-07-14T18:40:52.132383Z",
     "shell.execute_reply.started": "2025-07-14T18:40:51.861844Z"
    }
   },
   "outputs": [
    {
     "name": "stderr",
     "output_type": "stream",
     "text": [
      "2025-07-14 18:40:51,891 — INFO Processing tweet sentiment analysis...\n",
      "2025-07-14 18:40:52,128 — INFO Enhanced tweet sentiment analysis completed\n"
     ]
    }
   ],
   "source": [
    "logger.info(\"Processing tweet sentiment analysis...\")\n",
    "processed_tweets = process_tweet_sentiment_analysis(tweets_df, positive_keywords, negative_keywords)"
   ]
  },
  {
   "cell_type": "code",
   "execution_count": 18,
   "id": "e8821035-cad3-48a2-b7d7-06d409cfaea2",
   "metadata": {
    "execution": {
     "iopub.execute_input": "2025-07-14T18:40:52.135536Z",
     "iopub.status.busy": "2025-07-14T18:40:52.135020Z",
     "iopub.status.idle": "2025-07-14T18:40:53.590358Z",
     "shell.execute_reply": "2025-07-14T18:40:53.589276Z",
     "shell.execute_reply.started": "2025-07-14T18:40:52.135495Z"
    }
   },
   "outputs": [
    {
     "name": "stdout",
     "output_type": "stream",
     "text": [
      "+--------------------+----------+------+------+--------------------+------------------+------------------+-------------+---------------+\n",
      "|                 _id|      date|    id|ticker|               tweet|positive_sentiment|negative_sentiment|net_sentiment|sentiment_label|\n",
      "+--------------------+----------+------+------+--------------------+------------------+------------------+-------------+---------------+\n",
      "|{68754ef506c5f159...|2020-01-01|100001|  AMZN|$AMZN Dow futures...|                 1|                 0|            1|       positive|\n",
      "|{68754ef506c5f159...|2020-01-01|100002|  TSLA|$TSLA Daddy's dri...|                 0|                 0|            0|        neutral|\n",
      "|{68754ef506c5f159...|2020-01-01|100003|  AAPL|$AAPL We’ll been ...|                 0|                 0|            0|        neutral|\n",
      "+--------------------+----------+------+------+--------------------+------------------+------------------+-------------+---------------+\n",
      "only showing top 3 rows\n",
      "\n"
     ]
    }
   ],
   "source": [
    "processed_tweets.show(3)"
   ]
  },
  {
   "cell_type": "markdown",
   "id": "2cacf3bf-b590-4bd3-bfb8-262d3683686f",
   "metadata": {
    "execution": {
     "iopub.execute_input": "2025-07-14T16:47:14.021364Z",
     "iopub.status.busy": "2025-07-14T16:47:14.020775Z",
     "iopub.status.idle": "2025-07-14T16:47:14.040944Z",
     "shell.execute_reply": "2025-07-14T16:47:14.038393Z",
     "shell.execute_reply.started": "2025-07-14T16:47:14.021324Z"
    }
   },
   "source": [
    "### Spark-Based Tweet Sentiment Processing: Rationale and Justification\n",
    "\n",
    "To extract actionable insights from unstructured social media content, we implemented a **basic rule-based sentiment analysis pipeline** using **PySpark**, designed to classify tweets related to stock tickers as positive, negative, or neutral. This approach leverages the **distributed computing power of Apache Spark** to handle large-scale textual data efficiently and integrates seamlessly with MongoDB for scalable read-write operations.\n",
    "\n",
    "#### 1. **Why Spark for Sentiment Processing?**\n",
    "\n",
    "* **Scalability and Distributed Execution**: Given the volume of tweet data (>10,000 records), Spark's distributed in-memory processing is optimal for parallelizing transformations such as string cleaning, keyword matching, and column derivation without bottlenecks.\n",
    "* **SQL-like DataFrame API**: Spark DataFrames offer a high-level abstraction that allows expressive, readable, and efficient transformations, well-suited for text pre-processing and sentiment scoring logic.\n",
    "* **Seamless MongoDB Integration**: Since data was stored in MongoDB, Spark's native Mongo connector allows efficient data ingestion and storage without requiring intermediate formats.\n",
    "\n",
    "#### 2. **Justification for Rule-Based Sentiment Analysis**\n",
    "\n",
    "While more complex models like deep learning classifiers could be used, the project prioritizes simplicity and runtime efficiency within a Spark pipeline. A **dictionary-based sentiment approach** using predefined `positive_keywords` and `negative_keywords` allows for:\n",
    "\n",
    "* **Fast pattern matching** using Spark’s `rlike()` method and regular expressions.\n",
    "* **Lightweight processing** suited to the project’s scale and distributed context.\n",
    "* **Transparent results** where each tweet’s label (positive/negative/neutral) can be traced back to keyword presence.\n",
    "\n",
    "#### 3. **Key Design Choices**\n",
    "\n",
    "* **Text Normalization**: Special characters were removed and tweet content was lowercased using `regexp_replace()` and `lower()` to ensure consistent pattern matching.\n",
    "* **Regex-based Classification**: The method supports partial word matches and avoids false positives through word boundary anchors (`\\b`) in the regex pattern.\n",
    "* **Sentiment Scoring Logic**:\n",
    "\n",
    "  * `positive_sentiment` and `negative_sentiment` are binary indicators.\n",
    "  * `net_sentiment` provides a numeric sentiment score.\n",
    "  * `sentiment_label` provides a human-readable category for downstream use (e.g., grouping, visualization).\n",
    "* **Date Conversion**: The `date` column is parsed using `to_date()` to enable accurate time-series grouping or trend analysis.\n",
    "\n",
    "#### 4. **Alignment with Big Data Objectives**\n",
    "\n",
    "This implementation supports **real-time data processing scenarios**, as it can be adapted to Spark Streaming. It also supports **follow-up analytical steps** like joining with stock price data on the `date` and `ticker` fields for correlation analysis or event-driven stock movement prediction."
   ]
  },
  {
   "cell_type": "markdown",
   "id": "fab138d3-6830-4c09-bd33-d172344cdf16",
   "metadata": {},
   "source": [
    "<h2 style=\"background-color:#2c3e54;color:#ecf0f1;border-radius: 8px; padding:15px\">Process stock price metrics</h2>"
   ]
  },
  {
   "cell_type": "code",
   "execution_count": 19,
   "id": "6f1dcd8e-fb90-47fe-8dbd-60784f02bf17",
   "metadata": {
    "execution": {
     "iopub.execute_input": "2025-07-14T18:40:53.591657Z",
     "iopub.status.busy": "2025-07-14T18:40:53.591363Z",
     "iopub.status.idle": "2025-07-14T18:40:53.602155Z",
     "shell.execute_reply": "2025-07-14T18:40:53.601125Z",
     "shell.execute_reply.started": "2025-07-14T18:40:53.591629Z"
    }
   },
   "outputs": [],
   "source": [
    "def process_stock_price_metrics(prices_df):\n",
    "    \"\"\"\n",
    "    Process stock price data to calculate key metrics\n",
    "    \n",
    "    Args:\n",
    "        prices_df: Spark DataFrame containing price data\n",
    "    \n",
    "    Returns:\n",
    "        pyspark.sql.DataFrame: Processed price data with calculated metrics\n",
    "    \"\"\"\n",
    "    try:\n",
    "        # Convert date string to proper date format\n",
    "        prices_df = prices_df.withColumn(\"date\", to_date(col(\"Date\"), \"yyyy-MM-dd\"))\n",
    "        \n",
    "        # Calculate daily price change and percentage change\n",
    "        prices_df = prices_df.withColumn(\"daily_change\", col(\"Close\") - col(\"Open\"))\n",
    "        prices_df = prices_df.withColumn(\"daily_change_pct\", \n",
    "                                       (col(\"daily_change\") / col(\"Open\")) * 100)\n",
    "        \n",
    "        # Calculate daily volatility (High - Low)\n",
    "        prices_df = prices_df.withColumn(\"daily_volatility\", col(\"High\") - col(\"Low\"))\n",
    "        prices_df = prices_df.withColumn(\"volatility_pct\", \n",
    "                                       (col(\"daily_volatility\") / col(\"Open\")) * 100)\n",
    "        \n",
    "        # Calculate volume-weighted average price (VWAP)\n",
    "        prices_df = prices_df.withColumn(\"vwap\", \n",
    "                                       (col(\"High\") + col(\"Low\") + col(\"Close\")) / 3)\n",
    "        \n",
    "        logger.info(\"Stock price metrics calculation completed\")\n",
    "        return prices_df\n",
    "        \n",
    "    except Exception as e:\n",
    "        logger.error(f\"Failed to process stock price metrics: {e}\")\n",
    "        raise"
   ]
  },
  {
   "cell_type": "code",
   "execution_count": 20,
   "id": "1343355b-07bb-439b-a85c-0698e9baea69",
   "metadata": {
    "execution": {
     "iopub.execute_input": "2025-07-14T18:40:53.607540Z",
     "iopub.status.busy": "2025-07-14T18:40:53.606883Z",
     "iopub.status.idle": "2025-07-14T18:40:53.795939Z",
     "shell.execute_reply": "2025-07-14T18:40:53.790591Z",
     "shell.execute_reply.started": "2025-07-14T18:40:53.607503Z"
    }
   },
   "outputs": [
    {
     "name": "stderr",
     "output_type": "stream",
     "text": [
      "2025-07-14 18:40:53,621 — INFO Processing stock price metrics...\n",
      "2025-07-14 18:40:53,785 — INFO Stock price metrics calculation completed\n"
     ]
    }
   ],
   "source": [
    "logger.info(\"Processing stock price metrics...\")\n",
    "processed_prices = process_stock_price_metrics(prices_df)"
   ]
  },
  {
   "cell_type": "code",
   "execution_count": 21,
   "id": "62909050-59fc-4ff4-9926-b2cc8849fbd0",
   "metadata": {
    "execution": {
     "iopub.execute_input": "2025-07-14T18:40:53.799673Z",
     "iopub.status.busy": "2025-07-14T18:40:53.797215Z",
     "iopub.status.idle": "2025-07-14T18:40:54.961873Z",
     "shell.execute_reply": "2025-07-14T18:40:54.960779Z",
     "shell.execute_reply.started": "2025-07-14T18:40:53.799615Z"
    }
   },
   "outputs": [
    {
     "name": "stdout",
     "output_type": "stream",
     "text": [
      "+-----------------+-----------------+----------+-----------------+-----------------+----------------+--------+--------------------+-------------------+-------------------+------------------+------------------+-----------------+\n",
      "|        Adj Close|            Close|      date|             High|              Low|            Open|  Volume|                 _id|       daily_change|   daily_change_pct|  daily_volatility|    volatility_pct|             vwap|\n",
      "+-----------------+-----------------+----------+-----------------+-----------------+----------------+--------+--------------------+-------------------+-------------------+------------------+------------------+-----------------+\n",
      "|92.39199829101562|92.39199829101562|2019-12-31|92.66300201416016|91.61150360107422|92.0999984741211|50130000|{68754f2306c5f159...|0.29199981689453125|0.31704649482331904|1.0514984130859375|1.1416921069563264|   92.22216796875|\n",
      "|94.90049743652344|94.90049743652344|2020-01-02|94.90049743652344| 93.2074966430664|           93.75|80580000|{68754f2306c5f159...| 1.1504974365234375| 1.2271972656249999|1.6930007934570312|1.8058675130208333|94.33616383870442|\n",
      "|93.74849700927734|93.74849700927734|2020-01-03|94.30999755859375| 93.2249984741211|93.2249984741211|75288000|{68754f2306c5f159...|   0.52349853515625| 0.5615430879321186|1.0849990844726562| 1.163849935351673|93.76116434733073|\n",
      "+-----------------+-----------------+----------+-----------------+-----------------+----------------+--------+--------------------+-------------------+-------------------+------------------+------------------+-----------------+\n",
      "only showing top 3 rows\n",
      "\n"
     ]
    }
   ],
   "source": [
    "processed_prices.show(3)"
   ]
  },
  {
   "cell_type": "markdown",
   "id": "5a013960-bb0a-4fa8-be50-e853a20d95da",
   "metadata": {},
   "source": [
    "### Stock Price Metrics Processing: Rationale and Justification\n",
    "\n",
    "To extract meaningful insights from historical stock data, this function computes key financial metrics using **PySpark**, enabling distributed and scalable processing of multiple CSV files across 38 tickers.\n",
    "\n",
    "#### Why PySpark?\n",
    "\n",
    "* **Distributed Efficiency**: PySpark efficiently handles large, multi-file datasets, enabling parallel computation of metrics like volatility and price movement without memory bottlenecks.\n",
    "* **SQL-like API**: PySpark’s DataFrame API simplifies column-wise operations and supports complex transformations in an expressive, readable manner.\n",
    "\n",
    "#### Calculated Metrics\n",
    "\n",
    "* **Daily Change** (`Close - Open`) and **% Change** provide insight into daily stock performance.\n",
    "* **Volatility** (`High - Low`) and **% Volatility** measure market fluctuations.\n",
    "* **VWAP** (Volume Weighted Average Price approximation using `(High + Low + Close)/3`) offers a benchmark for intraday price assessment.\n",
    "\n",
    "#### Practical Use\n",
    "\n",
    "These metrics can support further analysis, such as correlating price movement with tweet sentiment or identifying high-volatility stocks. Processing is aligned with big data principles by avoiding sequential or in-memory operations."
   ]
  },
  {
   "cell_type": "markdown",
   "id": "ce035a56-aecd-4801-9ae4-63ba00dec277",
   "metadata": {},
   "source": [
    "<h2 style=\"background-color:#2c3e54;color:#ecf0f1;border-radius: 8px; padding:15px\">Aggregate sentiment data</h2>"
   ]
  },
  {
   "cell_type": "code",
   "execution_count": 22,
   "id": "64a96aa0-a6af-4d85-9da2-89d7b1b0c385",
   "metadata": {
    "execution": {
     "iopub.execute_input": "2025-07-14T18:40:54.963489Z",
     "iopub.status.busy": "2025-07-14T18:40:54.963116Z",
     "iopub.status.idle": "2025-07-14T18:40:54.970552Z",
     "shell.execute_reply": "2025-07-14T18:40:54.969164Z",
     "shell.execute_reply.started": "2025-07-14T18:40:54.963453Z"
    }
   },
   "outputs": [],
   "source": [
    "def aggregate_daily_tweet_sentiment(tweets_df):\n",
    "    \"\"\"\n",
    "    Aggregate tweet sentiment by ticker and date\n",
    "    \n",
    "    Args:\n",
    "        tweets_df: Spark DataFrame with processed tweet data\n",
    "    \n",
    "    Returns:\n",
    "        pyspark.sql.DataFrame: Aggregated sentiment data\n",
    "    \"\"\"\n",
    "    try:\n",
    "        daily_sentiment = tweets_df.groupBy(\"ticker\", \"date\").agg(\n",
    "            count(\"*\").alias(\"tweet_count\"),\n",
    "            sum(\"positive_sentiment\").alias(\"positive_tweets\"),\n",
    "            sum(\"negative_sentiment\").alias(\"negative_tweets\"),\n",
    "            sum(\"net_sentiment\").alias(\"net_sentiment_score\"),\n",
    "            avg(\"net_sentiment\").alias(\"avg_sentiment_score\")\n",
    "        )\n",
    "        \n",
    "        logger.info(\"Daily tweet sentiment aggregation completed\")\n",
    "        return daily_sentiment\n",
    "        \n",
    "    except Exception as e:\n",
    "        logger.error(f\"Failed to aggregate tweet sentiment: {e}\")\n",
    "        raise"
   ]
  },
  {
   "cell_type": "code",
   "execution_count": 23,
   "id": "a32b9650-5566-48a1-85a3-e57198dc0e41",
   "metadata": {
    "execution": {
     "iopub.execute_input": "2025-07-14T18:40:54.972160Z",
     "iopub.status.busy": "2025-07-14T18:40:54.971751Z",
     "iopub.status.idle": "2025-07-14T18:40:55.066759Z",
     "shell.execute_reply": "2025-07-14T18:40:55.065879Z",
     "shell.execute_reply.started": "2025-07-14T18:40:54.972123Z"
    }
   },
   "outputs": [
    {
     "name": "stderr",
     "output_type": "stream",
     "text": [
      "2025-07-14 18:40:54,995 — INFO Aggregating daily sentiment data...\n",
      "2025-07-14 18:40:55,062 — INFO Daily tweet sentiment aggregation completed\n"
     ]
    }
   ],
   "source": [
    "logger.info(\"Aggregating daily sentiment data...\")\n",
    "daily_sentiment = aggregate_daily_tweet_sentiment(processed_tweets)"
   ]
  },
  {
   "cell_type": "code",
   "execution_count": 24,
   "id": "bbc5cc24-5451-4e25-9288-0ae041ed48c6",
   "metadata": {
    "execution": {
     "iopub.execute_input": "2025-07-14T18:40:55.068940Z",
     "iopub.status.busy": "2025-07-14T18:40:55.068242Z",
     "iopub.status.idle": "2025-07-14T18:40:58.200804Z",
     "shell.execute_reply": "2025-07-14T18:40:58.197253Z",
     "shell.execute_reply.started": "2025-07-14T18:40:55.068897Z"
    }
   },
   "outputs": [
    {
     "name": "stderr",
     "output_type": "stream",
     "text": [
      "[Stage 16:>                                                         (0 + 1) / 1]\r"
     ]
    },
    {
     "name": "stdout",
     "output_type": "stream",
     "text": [
      "+------+----------+-----------+---------------+---------------+-------------------+-------------------+\n",
      "|ticker|      date|tweet_count|positive_tweets|negative_tweets|net_sentiment_score|avg_sentiment_score|\n",
      "+------+----------+-----------+---------------+---------------+-------------------+-------------------+\n",
      "|  AAPL|2020-01-03|          1|              1|              1|                  0|                0.0|\n",
      "|    BA|2020-10-03|          1|              0|              0|                  0|                0.0|\n",
      "|   DIS|2020-03-06|          1|              0|              0|                  0|                0.0|\n",
      "+------+----------+-----------+---------------+---------------+-------------------+-------------------+\n",
      "only showing top 3 rows\n",
      "\n"
     ]
    },
    {
     "name": "stderr",
     "output_type": "stream",
     "text": [
      "                                                                                \r"
     ]
    }
   ],
   "source": [
    "daily_sentiment.show(3)"
   ]
  },
  {
   "cell_type": "markdown",
   "id": "5b981e0c-eb96-4b04-bee7-6f928b550fe6",
   "metadata": {},
   "source": [
    "### Daily Tweet Sentiment Aggregation: Rationale and Justification\n",
    "\n",
    "This function aggregates tweet sentiment scores **per ticker and per day** using PySpark’s `groupBy` and aggregation functions, enabling efficient analysis of public opinion trends over time.\n",
    "\n",
    "#### Why Spark for Aggregation?\n",
    "\n",
    "* **Scalable Grouping**: PySpark efficiently performs group-wise computations on large datasets, making it ideal for summarizing daily tweet activity across multiple companies.\n",
    "* **Performance**: The in-memory execution model supports fast aggregations over thousands of records with minimal latency.\n",
    "\n",
    "#### Key Metrics Calculated\n",
    "\n",
    "* `tweet_count`: Total number of tweets per ticker-date.\n",
    "* `positive_tweets` / `negative_tweets`: Counts of sentiment polarity for basic trend analysis.\n",
    "* `net_sentiment_score`: Sum of net sentiment (positive - negative).\n",
    "* `avg_sentiment_score`: Average sentiment score for more nuanced evaluation.\n",
    "\n",
    "#### Relevance\n",
    "\n",
    "These metrics can contribute to **temporal correlation analysis** with stock price changes and help identify sentiment-driven market movements."
   ]
  },
  {
   "cell_type": "markdown",
   "id": "83fd9926-46e7-4317-81ed-c50586241f06",
   "metadata": {},
   "source": [
    "<h2 style=\"background-color:#2c3e54;color:#ecf0f1;border-radius: 8px; padding:15px\">Merge sentiment with price data</h2>"
   ]
  },
  {
   "cell_type": "code",
   "execution_count": 25,
   "id": "8206474e-1117-4094-a5a2-3df96b52692c",
   "metadata": {
    "execution": {
     "iopub.execute_input": "2025-07-14T18:40:58.203657Z",
     "iopub.status.busy": "2025-07-14T18:40:58.201950Z",
     "iopub.status.idle": "2025-07-14T18:40:58.215450Z",
     "shell.execute_reply": "2025-07-14T18:40:58.214390Z",
     "shell.execute_reply.started": "2025-07-14T18:40:58.203609Z"
    }
   },
   "outputs": [],
   "source": [
    "def load_prices_with_ticker_column(spark, stockprice_folder):\n",
    "    \"\"\"\n",
    "    Load all stock price CSVs into a single Spark DataFrame with a 'ticker' column extracted from filenames.\n",
    "    \n",
    "    Args:\n",
    "        spark (SparkSession): Spark session instance\n",
    "        stockprice_folder (str): Path to folder containing individual stock price CSVs\n",
    "    \n",
    "    Returns:\n",
    "        pyspark.sql.DataFrame: Combined DataFrame with added 'ticker' column\n",
    "    \"\"\"\n",
    "    try:\n",
    "        all_dfs = []\n",
    "        \n",
    "        for filename in os.listdir(stockprice_folder):\n",
    "            if filename.endswith(\".csv\"):\n",
    "                ticker = filename.replace(\".csv\", \"\").upper()\n",
    "                file_path = os.path.join(stockprice_folder, filename)\n",
    "                \n",
    "                df = spark.read.option(\"header\", True).csv(file_path)\n",
    "                df = df.withColumn(\"ticker\", lit(ticker))\n",
    "                all_dfs.append(df)\n",
    "        \n",
    "        if not all_dfs:\n",
    "            raise ValueError(\"No CSV files found in the provided folder.\")\n",
    "\n",
    "        combined_df = all_dfs[0]\n",
    "        for df in all_dfs[1:]:\n",
    "            combined_df = combined_df.unionByName(df)\n",
    "\n",
    "        logger.info(\"Loaded all stock prices with ticker column successfully\")\n",
    "        return combined_df\n",
    "\n",
    "    except Exception as e:\n",
    "        logger.error(f\"Failed to load prices with ticker column: {e}\")\n",
    "        raise\n"
   ]
  },
  {
   "cell_type": "code",
   "execution_count": 26,
   "id": "d2ff3268-b881-459c-aad8-86ee9236adac",
   "metadata": {
    "execution": {
     "iopub.execute_input": "2025-07-14T18:40:58.217916Z",
     "iopub.status.busy": "2025-07-14T18:40:58.216823Z",
     "iopub.status.idle": "2025-07-14T18:41:12.514724Z",
     "shell.execute_reply": "2025-07-14T18:41:12.510116Z",
     "shell.execute_reply.started": "2025-07-14T18:40:58.217875Z"
    }
   },
   "outputs": [
    {
     "name": "stderr",
     "output_type": "stream",
     "text": [
      "2025-07-14 18:41:05,990 — INFO Loaded all stock prices with ticker column successfully\n",
      "2025-07-14 18:41:06,126 — INFO Stock price metrics calculation completed\n",
      "                                                                                \r"
     ]
    },
    {
     "name": "stdout",
     "output_type": "stream",
     "text": [
      "+------+----------+------------------+------------------+------------------+------------------+------------------+---------+-------------------+-------------------+------------------+------------------+------------------+-----------+---------------+---------------+-------------------+-------------------+\n",
      "|ticker|      date|              Open|              High|               Low|             Close|         Adj Close|   Volume|       daily_change|   daily_change_pct|  daily_volatility|    volatility_pct|              vwap|tweet_count|positive_tweets|negative_tweets|net_sentiment_score|avg_sentiment_score|\n",
      "+------+----------+------------------+------------------+------------------+------------------+------------------+---------+-------------------+-------------------+------------------+------------------+------------------+-----------+---------------+---------------+-------------------+-------------------+\n",
      "|  AAPL|2020-01-03|  74.2874984741211|  75.1449966430664|            74.125| 74.35749816894531| 72.44145965576172|146322800|0.06999969482421875|0.09422809525428286|1.0199966430664062| 1.373039426575568| 74.54249827067058|          1|              1|              1|                  0|                0.0|\n",
      "|   DIS|2020-03-06|110.76000213623047|115.87000274658203|110.31999969482422| 115.2699966430664|114.89553833007812| 22899600| 4.5099945068359375|  4.071862061982285|5.5500030517578125| 5.010836894830975|113.81999969482422|          1|              0|              0|                  0|                0.0|\n",
      "|  AAPL|2020-01-09| 76.80999755859375| 77.60749816894531| 76.55000305175781| 77.40750122070312| 75.41287994384766|170108400|  0.597503662109375| 0.7778982959263542|   1.0574951171875|1.3767675443301508| 77.18833414713542|         23|              5|              2|                  3|0.13043478260869565|\n",
      "|    FB|2020-03-06| 178.3300018310547|183.77999877929688|176.25999450683594|181.08999633789062|181.08999633789062| 24559600| 2.7599945068359375| 1.5476893840054387|7.5200042724609375|  4.21690360300966| 180.3766632080078|          1|              1|              1|                  0|                0.0|\n",
      "|  AAPL|2020-04-06|62.724998474121094| 65.77749633789062|62.345001220703125| 65.61750030517578| 64.07838439941406|201820400| 2.8925018310546875|  4.611401995088238|   3.4324951171875|  5.47229206965014| 64.57999928792317|          1|              0|              0|                  0|                0.0|\n",
      "+------+----------+------------------+------------------+------------------+------------------+------------------+---------+-------------------+-------------------+------------------+------------------+------------------+-----------+---------------+---------------+-------------------+-------------------+\n",
      "only showing top 5 rows\n",
      "\n"
     ]
    }
   ],
   "source": [
    "raw_prices_with_ticker = load_prices_with_ticker_column(spark, STOCKPRICE_FOLDER)\n",
    "processed_prices = process_stock_price_metrics(raw_prices_with_ticker)\n",
    "\n",
    "merged_df = processed_prices.join(daily_sentiment, on=[\"ticker\", \"date\"], how=\"inner\")\n",
    "merged_df.show(5)"
   ]
  },
  {
   "cell_type": "markdown",
   "id": "b7342148-9b55-4195-9433-9f4b6b7e1723",
   "metadata": {
    "execution": {
     "iopub.execute_input": "2025-07-14T18:23:16.978255Z",
     "iopub.status.busy": "2025-07-14T18:23:16.977815Z",
     "iopub.status.idle": "2025-07-14T18:23:16.989667Z",
     "shell.execute_reply": "2025-07-14T18:23:16.988270Z",
     "shell.execute_reply.started": "2025-07-14T18:23:16.978223Z"
    }
   },
   "source": [
    "### Merging Tweet Sentiment and Stock Price Data: Rationale and Justification\n",
    "\n",
    "To enable joint analysis of market data and public sentiment, the processed tweet sentiment DataFrame (`daily_sentiment`) was merged with the processed stock price metrics (`processed_prices`) on two shared keys: `ticker` and `date`. This merge operation was implemented using PySpark’s high-level DataFrame API.\n",
    "\n",
    "#### Why Merge These Datasets?\n",
    "\n",
    "* **Cross-domain Insight**: Tweets reflect public perception, while stock prices reflect market behavior. Merging both provides a unified view of how sentiment might influence stock performance.\n",
    "* **Temporal Alignment**: Joining by `date` ensures sentiment metrics (e.g., net sentiment, tweet count) are contextually aligned with daily price movements, enabling time-series correlation and trend analysis.\n",
    "* **Ticker-Based Matching**: Including the `ticker` field in both datasets enables per-stock analysis, making it possible to study sentiment impact on specific companies (e.g., TSLA, AAPL).\n",
    "\n",
    "#### Why PySpark for the Join?\n",
    "\n",
    "* **Scalable Joining**: PySpark’s `DataFrame.join()` method efficiently handles large datasets across distributed partitions, avoiding memory constraints common in single-node environments.\n",
    "* **Expressive Syntax**: PySpark allows easy specification of join keys and join types (e.g., `inner`, `left`), providing flexibility and clarity.\n",
    "* **Performance Optimization**: Under the hood, PySpark optimizes join plans using Catalyst and Tungsten execution engines for efficient merging.\n",
    "\n",
    "#### Resulting Analytical Advantages\n",
    "\n",
    "The merged DataFrame provides a foundation for downstream analytics such as:\n",
    "\n",
    "* **Correlation Studies** between net sentiment scores and daily stock returns.\n",
    "* **Event-driven Analysis**, detecting tweet sentiment spikes before price volatility.\n",
    "* **Visualization and Dashboarding**, enabling time-series charts that integrate both sentiment and market metrics.\n",
    "\n",
    "This integrated dataset aligns with one of the objectives of this project which is to demonstrate how big data pipelines can support real-world financial analytics by combining social and market signals."
   ]
  },
  {
   "cell_type": "markdown",
   "id": "e905dc31-1f29-4e9a-847f-c0f3b20abc1f",
   "metadata": {},
   "source": [
    "<h2 style=\"background-color:#2c3e54;color:#ecf0f1;border-radius: 8px; padding:15px\">Save processed data back to MongoDB</h2>"
   ]
  },
  {
   "cell_type": "code",
   "execution_count": 27,
   "id": "3f8f862b-bde0-4ba7-b35b-be782cb1b9b4",
   "metadata": {
    "execution": {
     "iopub.execute_input": "2025-07-14T18:41:12.515991Z",
     "iopub.status.busy": "2025-07-14T18:41:12.515647Z",
     "iopub.status.idle": "2025-07-14T18:41:12.528117Z",
     "shell.execute_reply": "2025-07-14T18:41:12.525411Z",
     "shell.execute_reply.started": "2025-07-14T18:41:12.515960Z"
    }
   },
   "outputs": [],
   "source": [
    "def save_processed_data_to_mongodb(df, collection_name):\n",
    "    \"\"\"\n",
    "    Save a Spark DataFrame to MongoDB\n",
    "    \n",
    "    Args:\n",
    "        df (pyspark.sql.DataFrame): The DataFrame to save\n",
    "        collection_name (str): Target MongoDB collection name\n",
    "    \"\"\"\n",
    "    try:\n",
    "        df.write \\\n",
    "            .format(\"mongo\") \\\n",
    "            .mode(\"overwrite\") \\\n",
    "            .option(\"collection\", collection_name) \\\n",
    "            .save()\n",
    "        \n",
    "        logger.info(f\"Processed data saved to MongoDB collection: {collection_name}\")\n",
    "    \n",
    "    except Exception as e:\n",
    "        logger.error(f\"Failed to save processed data to MongoDB: {e}\")\n",
    "        raise"
   ]
  },
  {
   "cell_type": "code",
   "execution_count": 28,
   "id": "9bc5543a-2c12-4eb1-ace9-4575a764ed9d",
   "metadata": {
    "execution": {
     "iopub.execute_input": "2025-07-14T18:41:12.529502Z",
     "iopub.status.busy": "2025-07-14T18:41:12.529161Z",
     "iopub.status.idle": "2025-07-14T18:41:46.634671Z",
     "shell.execute_reply": "2025-07-14T18:41:46.633631Z",
     "shell.execute_reply.started": "2025-07-14T18:41:12.529467Z"
    }
   },
   "outputs": [
    {
     "name": "stderr",
     "output_type": "stream",
     "text": [
      "2025-07-14 18:41:32,214 — INFO Processed data saved to MongoDB collection: processed_stock_prices\n",
      "2025-07-14 18:41:38,853 — INFO Processed data saved to MongoDB collection: aggregated_tweet_sentiment\n",
      "2025-07-14 18:41:46,629 — INFO Processed data saved to MongoDB collection: merged_sentiment_price_data\n"
     ]
    }
   ],
   "source": [
    "save_processed_data_to_mongodb(processed_prices, \"processed_stock_prices\")\n",
    "save_processed_data_to_mongodb(daily_sentiment, \"aggregated_tweet_sentiment\")\n",
    "save_processed_data_to_mongodb(merged_df, \"merged_sentiment_price_data\")"
   ]
  },
  {
   "cell_type": "markdown",
   "id": "d6d79461-4e68-4b2d-95ea-2beb9734228c",
   "metadata": {},
   "source": [
    "### Saving Processed Data to MongoDB: Rationale and Justification\n",
    "\n",
    "Processed datasets including sentiment-labeled tweets, calculated stock metrics, and the final merged dataset were saved back to **MongoDB** using Spark’s write interface, powered by the MongoDB Spark Connector.\n",
    "\n",
    "#### Why Save Intermediate and Final Outputs?\n",
    "\n",
    "* **Modular Pipeline Design**: By saving processed data to MongoDB, each stage in the pipeline becomes reusable and decoupled. This supports iterative development and easier debugging.\n",
    "* **Data Reusability**: Downstream applications (e.g., dashboards, APIs, or machine learning models) can directly access clean, ready-to-use collections from MongoDB without rerunning the entire pipeline.\n",
    "* **Checkpointing**: Storing outputs at various stages provides recovery points and ensures data persistence across Spark sessions.\n",
    "\n",
    "#### Why Use Spark to Write to MongoDB?\n",
    "\n",
    "* **Integrated Connector**: The `mongo-spark-connector` allows seamless DataFrame writing using `.write.format(\"mongo\")`, ensuring compatibility and avoiding format conversion overhead.\n",
    "* **Efficiency**: The write operation is distributed across Spark executors, making it fast and suitable for large datasets.\n",
    "* **Collection-Level Control**: Each dataset is saved to a dedicated collection (e.g., `processed_stock_prices`, `aggregated_tweet_sentiment`, `merged_sentiment_price_data`), improving logical organization and query performance.\n",
    "\n",
    "#### Strategic Impact\n",
    "\n",
    "By saving structured, enriched data back into MongoDB, the system supports:\n",
    "\n",
    "* **Efficient querying and visualization** using tools like MongoDB Compass or BI connectors.\n",
    "* **Scalable integration** with other big data tools, including machine learning pipelines, reporting tools, or REST APIs.\n",
    "* **Real-time readiness**: These saved collections can serve as the basis for real-time dashboards or analytics systems in a production environment.\n",
    "\n",
    "This approach reinforces the principles of **big data architecture**: scalable, modular, and accessible storage that supports diverse analytics needs."
   ]
  },
  {
   "cell_type": "markdown",
   "id": "5659da53",
   "metadata": {},
   "source": [
    "<h2 style=\"background-color:#2c3e54;color:#ecf0f1;border-radius: 8px; padding:15px\">Run YCSB on MongoDB and Postgresql</h2>"
   ]
  },
  {
   "cell_type": "code",
   "execution_count": 1,
   "id": "b3bb6480",
   "metadata": {},
   "outputs": [],
   "source": [
    "import warnings\n",
    "warnings.filterwarnings('ignore')"
   ]
  },
  {
   "cell_type": "markdown",
   "id": "f8c6abfd",
   "metadata": {},
   "source": [
    "#### Environment Migration and Setup Rationale\n",
    "\n",
    "The initial data storage and processing phase was conducted on Kaggle and I used MongoDB Atlas as my server due to the computational intensity of PySpark operations on my local hardware, which has limited specifications. For the YCSB benchmarking phase, the analysis was migrated to my local environment for several reasons:\n",
    "\n",
    "**Computational Efficiency**: YCSB benchmarking is significantly less computationally expensive than distributed Spark analytics, making local execution feasible.\n",
    "\n",
    "**Controlled Testing Environment**: Local database instances eliminate network-induced performance variations, ensuring accurate and consistent benchmark measurements.\n",
    "\n",
    "**Connectivity Constraints**: Kaggle does not support connecting to `localhost` or Windows Subsystem for Linux (WSL), which prevents YCSB from interfacing with local or containerized database instances when running on Kaggle."
   ]
  },
  {
   "cell_type": "markdown",
   "id": "ec61bca3",
   "metadata": {},
   "source": [
    "### **Clone Repo**"
   ]
  },
  {
   "cell_type": "code",
   "execution_count": 2,
   "id": "b3722bcd-0729-467d-9821-6a4e23e7c205",
   "metadata": {},
   "outputs": [
    {
     "name": "stderr",
     "output_type": "stream",
     "text": [
      "fatal: destination path 'YCSB' already exists and is not an empty directory.\n"
     ]
    }
   ],
   "source": [
    "!git clone https://github.com/brianfrankcooper/YCSB.git"
   ]
  },
  {
   "cell_type": "code",
   "execution_count": 3,
   "id": "4a554f98",
   "metadata": {},
   "outputs": [
    {
     "name": "stdout",
     "output_type": "stream",
     "text": [
      "C:\\Users\\USER\\Desktop\\CCT2\\YCSB\n"
     ]
    }
   ],
   "source": [
    "cd YCSB"
   ]
  },
  {
   "cell_type": "markdown",
   "id": "932b99da",
   "metadata": {},
   "source": [
    "### **Run on MongoDB**"
   ]
  },
  {
   "cell_type": "code",
   "execution_count": 10,
   "id": "75288b1e",
   "metadata": {},
   "outputs": [
    {
     "name": "stdout",
     "output_type": "stream",
     "text": [
      "[INFO] Scanning for projects...\n",
      "[INFO] ------------------------------------------------------------------------\n",
      "[INFO] Reactor Build Order:\n",
      "[INFO] \n",
      "[INFO] YCSB Root                                                          [pom]\n",
      "[INFO] Core YCSB                                                          [jar]\n",
      "[INFO] Per Datastore Binding descriptor                                   [jar]\n",
      "[INFO] YCSB Datastore Binding Parent                                      [pom]\n",
      "[INFO] JDBC DB Binding                                                    [jar]\n",
      "[INFO] MongoDB Binding                                                    [jar]\n",
      "[INFO] \n",
      "[INFO] ---------------------------< site.ycsb:root >---------------------------\n",
      "[INFO] Building YCSB Root 0.18.0-SNAPSHOT                                 [1/6]\n",
      "[INFO]   from pom.xml\n",
      "[INFO] --------------------------------[ pom ]---------------------------------\n",
      "[INFO] \n",
      "[INFO] --- clean:3.2.0:clean (default-clean) @ root ---\n",
      "[INFO] Deleting C:\\Users\\USER\\Desktop\\CCT2\\YCSB\\target\n",
      "[INFO] \n",
      "[INFO] --- enforcer:3.0.0-M1:enforce (enforce-maven) @ root ---\n",
      "[INFO] \n",
      "[INFO] --- checkstyle:2.16:check (validate) @ root ---\n",
      "[INFO] \n",
      "[INFO] ---------------------------< site.ycsb:core >---------------------------\n",
      "[INFO] Building Core YCSB 0.18.0-SNAPSHOT                                 [2/6]\n",
      "[INFO]   from core\\pom.xml\n",
      "[INFO] --------------------------------[ jar ]---------------------------------\n",
      "[INFO] \n",
      "[INFO] --- clean:3.2.0:clean (default-clean) @ core ---\n",
      "[INFO] Deleting C:\\Users\\USER\\Desktop\\CCT2\\YCSB\\core\\target\n",
      "[INFO] \n",
      "[INFO] --- enforcer:3.0.0-M1:enforce (enforce-maven) @ core ---\n",
      "[INFO] \n",
      "[INFO] --- checkstyle:2.16:check (validate) @ core ---\n",
      "[INFO] \n",
      "[INFO] --- resources:3.3.1:resources (default-resources) @ core ---\n",
      "[INFO] Copying 1 resource from src\\main\\resources to target\\classes\n",
      "[INFO] The encoding used to copy filtered properties files have not been set. This means that the same encoding will be used to copy filtered properties files as when copying other filtered resources. This might not be what you want! Run your build with --debug to see which files might be affected. Read more at https://maven.apache.org/plugins/maven-resources-plugin/examples/filtering-properties-files.html\n",
      "[INFO] \n",
      "[INFO] --- compiler:3.7.0:compile (default-compile) @ core ---\n",
      "[INFO] Changes detected - recompiling the module!\n",
      "[INFO] Compiling 63 source files to C:\\Users\\USER\\Desktop\\CCT2\\YCSB\\core\\target\\classes\n",
      "[INFO] \n",
      "[INFO] --- resources:3.3.1:testResources (default-testResources) @ core ---\n",
      "[INFO] skip non existing resourceDirectory C:\\Users\\USER\\Desktop\\CCT2\\YCSB\\core\\src\\test\\resources\n",
      "[INFO] \n",
      "[INFO] --- compiler:3.7.0:testCompile (default-testCompile) @ core ---\n",
      "[INFO] Changes detected - recompiling the module!\n",
      "[INFO] Compiling 12 source files to C:\\Users\\USER\\Desktop\\CCT2\\YCSB\\core\\target\\test-classes\n",
      "[INFO] \n",
      "[INFO] --- surefire:3.2.5:test (default-test) @ core ---\n",
      "[INFO] Using auto detected provider org.apache.maven.surefire.testng.TestNGProvider\n",
      "[INFO] \n",
      "[INFO] -------------------------------------------------------\n",
      "[INFO]  T E S T S\n",
      "[INFO] -------------------------------------------------------\n",
      "[INFO] Running TestSuite\n",
      "Data integrity is enabled.\n",
      "Data integrity is enabled.\n",
      "Data integrity is enabled.\n",
      "Data integrity is enabled.\n",
      "Data integrity is enabled.\n",
      "Data integrity is enabled.\n",
      "Data integrity is enabled.\n",
      "[INFO] Tests run: 41, Failures: 0, Errors: 0, Skipped: 0, Time elapsed: 1.811 s -- in TestSuite\n",
      "[INFO] \n",
      "[INFO] Results:\n",
      "[INFO] \n",
      "[INFO] Tests run: 41, Failures: 0, Errors: 0, Skipped: 0\n",
      "[INFO] \n",
      "[INFO] \n",
      "[INFO] --- jar:3.4.1:jar (default-jar) @ core ---\n",
      "[INFO] Building jar: C:\\Users\\USER\\Desktop\\CCT2\\YCSB\\core\\target\\core-0.18.0-SNAPSHOT.jar\n",
      "[INFO] \n",
      "[INFO] --------------< site.ycsb:datastore-specific-descriptor >---------------\n",
      "[INFO] Building Per Datastore Binding descriptor 0.18.0-SNAPSHOT          [3/6]\n",
      "[INFO]   from binding-parent\\datastore-specific-descriptor\\pom.xml\n",
      "[INFO] --------------------------------[ jar ]---------------------------------\n",
      "[INFO] \n",
      "[INFO] --- clean:3.2.0:clean (default-clean) @ datastore-specific-descriptor ---\n",
      "[INFO] Deleting C:\\Users\\USER\\Desktop\\CCT2\\YCSB\\binding-parent\\datastore-specific-descriptor\\target\n",
      "[INFO] \n",
      "[INFO] --- enforcer:3.0.0-M1:enforce (enforce-maven) @ datastore-specific-descriptor ---\n",
      "[INFO] \n",
      "[INFO] --- checkstyle:2.16:check (validate) @ datastore-specific-descriptor ---\n",
      "[INFO] \n",
      "[INFO] --- resources:3.3.1:resources (default-resources) @ datastore-specific-descriptor ---\n",
      "[INFO] Copying 1 resource from src\\main\\resources to target\\classes\n",
      "[INFO] \n",
      "[INFO] --- compiler:3.7.0:compile (default-compile) @ datastore-specific-descriptor ---\n",
      "[INFO] No sources to compile\n",
      "[INFO] \n",
      "[INFO] --- resources:3.3.1:testResources (default-testResources) @ datastore-specific-descriptor ---\n",
      "[INFO] skip non existing resourceDirectory C:\\Users\\USER\\Desktop\\CCT2\\YCSB\\binding-parent\\datastore-specific-descriptor\\src\\test\\resources\n",
      "[INFO] \n",
      "[INFO] --- compiler:3.7.0:testCompile (default-testCompile) @ datastore-specific-descriptor ---\n",
      "[INFO] No sources to compile\n",
      "[INFO] \n",
      "[INFO] --- surefire:3.2.5:test (default-test) @ datastore-specific-descriptor ---\n",
      "[INFO] No tests to run.\n",
      "[INFO] \n",
      "[INFO] --- jar:3.4.1:jar (default-jar) @ datastore-specific-descriptor ---\n",
      "[INFO] Building jar: C:\\Users\\USER\\Desktop\\CCT2\\YCSB\\binding-parent\\datastore-specific-descriptor\\target\\datastore-specific-descriptor-0.18.0-SNAPSHOT.jar\n",
      "[INFO] \n",
      "[INFO] ----------------------< site.ycsb:binding-parent >----------------------\n",
      "[INFO] Building YCSB Datastore Binding Parent 0.18.0-SNAPSHOT             [4/6]\n",
      "[INFO]   from binding-parent\\pom.xml\n",
      "[INFO] --------------------------------[ pom ]---------------------------------\n",
      "[INFO] \n",
      "[INFO] --- clean:3.2.0:clean (default-clean) @ binding-parent ---\n",
      "[INFO] Deleting C:\\Users\\USER\\Desktop\\CCT2\\YCSB\\binding-parent\\target\n",
      "[INFO] \n",
      "[INFO] --- enforcer:3.0.0-M1:enforce (enforce-maven) @ binding-parent ---\n",
      "[INFO] \n",
      "[INFO] --- checkstyle:2.16:check (validate) @ binding-parent ---\n",
      "[INFO] \n",
      "[INFO] --- dependency:2.10:copy-dependencies (stage-dependencies) @ binding-parent ---\n",
      "[INFO] \n",
      "[INFO] -----------------------< site.ycsb:jdbc-binding >-----------------------\n",
      "[INFO] Building JDBC DB Binding 0.18.0-SNAPSHOT                           [5/6]\n",
      "[INFO]   from jdbc\\pom.xml\n",
      "[INFO] --------------------------------[ jar ]---------------------------------\n",
      "[INFO] \n",
      "[INFO] --- clean:3.2.0:clean (default-clean) @ jdbc-binding ---\n",
      "[INFO] Deleting C:\\Users\\USER\\Desktop\\CCT2\\YCSB\\jdbc\\target\n",
      "[INFO] \n",
      "[INFO] --- enforcer:3.0.0-M1:enforce (enforce-maven) @ jdbc-binding ---\n",
      "[INFO] \n",
      "[INFO] --- checkstyle:2.16:check (validate) @ jdbc-binding ---\n",
      "[INFO] \n",
      "[INFO] --- resources:3.3.1:resources (default-resources) @ jdbc-binding ---\n",
      "[INFO] Copying 3 resources from src\\main\\resources to target\\classes\n",
      "[INFO] \n",
      "[INFO] --- compiler:3.7.0:compile (default-compile) @ jdbc-binding ---\n",
      "[INFO] Changes detected - recompiling the module!\n",
      "[INFO] Compiling 9 source files to C:\\Users\\USER\\Desktop\\CCT2\\YCSB\\jdbc\\target\\classes\n",
      "[INFO] \n",
      "[INFO] --- resources:3.3.1:testResources (default-testResources) @ jdbc-binding ---\n",
      "[INFO] skip non existing resourceDirectory C:\\Users\\USER\\Desktop\\CCT2\\YCSB\\jdbc\\src\\test\\resources\n",
      "[INFO] \n",
      "[INFO] --- compiler:3.7.0:testCompile (default-testCompile) @ jdbc-binding ---\n",
      "[INFO] Changes detected - recompiling the module!\n",
      "[INFO] Compiling 1 source file to C:\\Users\\USER\\Desktop\\CCT2\\YCSB\\jdbc\\target\\test-classes\n",
      "[INFO] \n",
      "[INFO] --- surefire:3.2.5:test (default-test) @ jdbc-binding ---\n",
      "[INFO] Using auto detected provider org.apache.maven.surefire.junit4.JUnit4Provider\n",
      "[INFO] \n",
      "[INFO] -------------------------------------------------------\n",
      "[INFO]  T E S T S\n",
      "[INFO] -------------------------------------------------------\n",
      "[INFO] Running site.ycsb.db.JdbcDBClientTest\n",
      "Adding shard node URL: jdbc:hsqldb:mem:ycsb\n",
      "Using shards: 1, batchSize:1, fetchSize: -1\n",
      "Adding shard node URL: jdbc:hsqldb:mem:ycsb\n",
      "Using shards: 1, batchSize:10, fetchSize: -1\n",
      "Adding shard node URL: jdbc:hsqldb:mem:ycsb\n",
      "Using shards: 1, batchSize:1, fetchSize: -1\n",
      "Adding shard node URL: jdbc:hsqldb:mem:ycsb\n",
      "Using shards: 1, batchSize:10, fetchSize: -1\n",
      "Adding shard node URL: jdbc:hsqldb:mem:ycsb\n",
      "Using shards: 1, batchSize:1, fetchSize: -1\n",
      "[INFO] Tests run: 7, Failures: 0, Errors: 0, Skipped: 0, Time elapsed: 1.065 s -- in site.ycsb.db.JdbcDBClientTest\n",
      "[INFO] \n",
      "[INFO] Results:\n",
      "[INFO] \n",
      "[INFO] Tests run: 7, Failures: 0, Errors: 0, Skipped: 0\n",
      "[INFO] \n",
      "[INFO] \n",
      "[INFO] --- jar:3.4.1:jar (default-jar) @ jdbc-binding ---\n",
      "[INFO] Building jar: C:\\Users\\USER\\Desktop\\CCT2\\YCSB\\jdbc\\target\\jdbc-binding-0.18.0-SNAPSHOT.jar\n",
      "[INFO] \n",
      "[INFO] --- dependency:2.10:copy-dependencies (stage-dependencies) @ jdbc-binding ---\n",
      "[INFO] Copying geronimo-jta_1.1_spec-1.1.1.jar to C:\\Users\\USER\\Desktop\\CCT2\\YCSB\\jdbc\\target\\dependency\\geronimo-jta_1.1_spec-1.1.1.jar\n",
      "[INFO] Copying serp-1.13.1.jar to C:\\Users\\USER\\Desktop\\CCT2\\YCSB\\jdbc\\target\\dependency\\serp-1.13.1.jar\n",
      "[INFO] Copying openjpa-jdbc-2.1.1.jar to C:\\Users\\USER\\Desktop\\CCT2\\YCSB\\jdbc\\target\\dependency\\openjpa-jdbc-2.1.1.jar\n",
      "[INFO] Copying openjpa-lib-2.1.1.jar to C:\\Users\\USER\\Desktop\\CCT2\\YCSB\\jdbc\\target\\dependency\\openjpa-lib-2.1.1.jar\n",
      "[INFO] Copying commons-pool-1.5.4.jar to C:\\Users\\USER\\Desktop\\CCT2\\YCSB\\jdbc\\target\\dependency\\commons-pool-1.5.4.jar\n",
      "[INFO] Copying geronimo-jms_1.1_spec-1.1.1.jar to C:\\Users\\USER\\Desktop\\CCT2\\YCSB\\jdbc\\target\\dependency\\geronimo-jms_1.1_spec-1.1.1.jar\n",
      "[INFO] Copying openjpa-kernel-2.1.1.jar to C:\\Users\\USER\\Desktop\\CCT2\\YCSB\\jdbc\\target\\dependency\\openjpa-kernel-2.1.1.jar\n",
      "[INFO] Copying commons-collections-3.2.1.jar to C:\\Users\\USER\\Desktop\\CCT2\\YCSB\\jdbc\\target\\dependency\\commons-collections-3.2.1.jar\n",
      "[INFO] Copying commons-lang-2.4.jar to C:\\Users\\USER\\Desktop\\CCT2\\YCSB\\jdbc\\target\\dependency\\commons-lang-2.4.jar\n",
      "[INFO] \n",
      "[INFO] --- assembly:2.5.5:single (default) @ jdbc-binding ---\n",
      "[WARNING] The following patterns were never triggered in this artifact exclusion filter:\n",
      "o  '*:sources'\n",
      "\n",
      "[INFO] Building tar: C:\\Users\\USER\\Desktop\\CCT2\\YCSB\\jdbc\\target\\ycsb-jdbc-binding-0.18.0-SNAPSHOT.tar.gz\n",
      "[INFO] \n",
      "[INFO] ---------------------< site.ycsb:mongodb-binding >----------------------\n",
      "[INFO] Building MongoDB Binding 0.18.0-SNAPSHOT                           [6/6]\n",
      "[INFO]   from mongodb\\pom.xml\n",
      "[INFO] --------------------------------[ jar ]---------------------------------\n",
      "[INFO] \n",
      "[INFO] --- clean:3.2.0:clean (default-clean) @ mongodb-binding ---\n",
      "[INFO] Deleting C:\\Users\\USER\\Desktop\\CCT2\\YCSB\\mongodb\\target\n",
      "[INFO] \n",
      "[INFO] --- enforcer:3.0.0-M1:enforce (enforce-maven) @ mongodb-binding ---\n",
      "[INFO] \n",
      "[INFO] --- checkstyle:2.16:check (validate) @ mongodb-binding ---\n",
      "[INFO] \n",
      "[INFO] --- resources:3.3.1:resources (default-resources) @ mongodb-binding ---\n",
      "[INFO] Copying 2 resources from src\\main\\resources to target\\classes\n",
      "[INFO] \n",
      "[INFO] --- compiler:3.7.0:compile (default-compile) @ mongodb-binding ---\n",
      "[INFO] Changes detected - recompiling the module!\n",
      "[INFO] Compiling 4 source files to C:\\Users\\USER\\Desktop\\CCT2\\YCSB\\mongodb\\target\\classes\n",
      "[INFO] \n",
      "[INFO] --- resources:3.3.1:testResources (default-testResources) @ mongodb-binding ---\n",
      "[INFO] skip non existing resourceDirectory C:\\Users\\USER\\Desktop\\CCT2\\YCSB\\mongodb\\src\\test\\resources\n",
      "[INFO] \n",
      "[INFO] --- compiler:3.7.0:testCompile (default-testCompile) @ mongodb-binding ---\n",
      "[INFO] Changes detected - recompiling the module!\n",
      "[INFO] Compiling 4 source files to C:\\Users\\USER\\Desktop\\CCT2\\YCSB\\mongodb\\target\\test-classes\n",
      "[INFO] \n",
      "[INFO] --- surefire:3.2.5:test (default-test) @ mongodb-binding ---\n",
      "[INFO] Using auto detected provider org.apache.maven.surefire.junit4.JUnit4Provider\n",
      "[INFO] \n",
      "[INFO] -------------------------------------------------------\n",
      "[INFO]  T E S T S\n",
      "[INFO] -------------------------------------------------------\n",
      "[INFO] Running site.ycsb.db.AsyncMongoDbClientTest\n",
      "[WARNING] Tests run: 1, Failures: 0, Errors: 0, Skipped: 1, Time elapsed: 2.414 s -- in site.ycsb.db.AsyncMongoDbClientTest\n",
      "[INFO] Running site.ycsb.db.MongoDbClientTest\n",
      "[WARNING] Tests run: 1, Failures: 0, Errors: 0, Skipped: 1, Time elapsed: 2.008 s -- in site.ycsb.db.MongoDbClientTest\n",
      "[INFO] Running site.ycsb.db.OptionsSupportTest\n",
      "[INFO] Tests run: 4, Failures: 0, Errors: 0, Skipped: 0, Time elapsed: 0.001 s -- in site.ycsb.db.OptionsSupportTest\n",
      "[INFO] \n",
      "[INFO] Results:\n",
      "[INFO] \n",
      "[WARNING] Tests run: 6, Failures: 0, Errors: 0, Skipped: 2\n",
      "[INFO] \n",
      "[INFO] \n",
      "[INFO] --- jar:3.4.1:jar (default-jar) @ mongodb-binding ---\n",
      "[INFO] Building jar: C:\\Users\\USER\\Desktop\\CCT2\\YCSB\\mongodb\\target\\mongodb-binding-0.18.0-SNAPSHOT.jar\n",
      "[INFO] \n",
      "[INFO] --- dependency:2.10:copy-dependencies (stage-dependencies) @ mongodb-binding ---\n",
      "[INFO] Copying slf4j-api-1.7.25.jar to C:\\Users\\USER\\Desktop\\CCT2\\YCSB\\mongodb\\target\\dependency\\slf4j-api-1.7.25.jar\n",
      "[INFO] Copying logback-core-1.1.2.jar to C:\\Users\\USER\\Desktop\\CCT2\\YCSB\\mongodb\\target\\dependency\\logback-core-1.1.2.jar\n",
      "[INFO] Copying mongodb-driver-sync-5.1.0.jar to C:\\Users\\USER\\Desktop\\CCT2\\YCSB\\mongodb\\target\\dependency\\mongodb-driver-sync-5.1.0.jar\n",
      "[INFO] Copying mongodb-driver-core-5.1.0.jar to C:\\Users\\USER\\Desktop\\CCT2\\YCSB\\mongodb\\target\\dependency\\mongodb-driver-core-5.1.0.jar\n",
      "[INFO] Copying snappy-java-1.1.7.1.jar to C:\\Users\\USER\\Desktop\\CCT2\\YCSB\\mongodb\\target\\dependency\\snappy-java-1.1.7.1.jar\n",
      "[INFO] Copying bson-record-codec-5.1.0.jar to C:\\Users\\USER\\Desktop\\CCT2\\YCSB\\mongodb\\target\\dependency\\bson-record-codec-5.1.0.jar\n",
      "[INFO] Copying logback-classic-1.1.2.jar to C:\\Users\\USER\\Desktop\\CCT2\\YCSB\\mongodb\\target\\dependency\\logback-classic-1.1.2.jar\n",
      "[INFO] Copying bson-5.1.0.jar to C:\\Users\\USER\\Desktop\\CCT2\\YCSB\\mongodb\\target\\dependency\\bson-5.1.0.jar\n",
      "[INFO] Copying mongodb-async-driver-2.0.1.jar to C:\\Users\\USER\\Desktop\\CCT2\\YCSB\\mongodb\\target\\dependency\\mongodb-async-driver-2.0.1.jar\n",
      "[INFO] \n",
      "[INFO] --- assembly:2.5.5:single (default) @ mongodb-binding ---\n",
      "[WARNING] The following patterns were never triggered in this artifact exclusion filter:\n",
      "o  '*:sources'\n",
      "\n",
      "[INFO] Building tar: C:\\Users\\USER\\Desktop\\CCT2\\YCSB\\mongodb\\target\\ycsb-mongodb-binding-0.18.0-SNAPSHOT.tar.gz\n",
      "[INFO] ------------------------------------------------------------------------\n",
      "[INFO] Reactor Summary for YCSB Root 0.18.0-SNAPSHOT:\n",
      "[INFO] \n",
      "[INFO] YCSB Root .......................................... SUCCESS [ 14.777 s]\n",
      "[INFO] Core YCSB .......................................... SUCCESS [ 25.784 s]\n",
      "[INFO] Per Datastore Binding descriptor ................... SUCCESS [  0.513 s]\n",
      "[INFO] YCSB Datastore Binding Parent ...................... SUCCESS [  7.021 s]\n",
      "[INFO] JDBC DB Binding .................................... SUCCESS [ 11.536 s]\n",
      "[INFO] MongoDB Binding .................................... SUCCESS [ 13.360 s]\n",
      "[INFO] ------------------------------------------------------------------------\n",
      "[INFO] BUILD SUCCESS\n",
      "[INFO] ------------------------------------------------------------------------\n",
      "[INFO] Total time:  01:17 min\n",
      "[INFO] Finished at: 2025-07-16T05:02:32+01:00\n",
      "[INFO] ------------------------------------------------------------------------\n"
     ]
    }
   ],
   "source": [
    "!mvn -pl site.ycsb:mongodb-binding,site.ycsb:jdbc-binding -am clean package"
   ]
  },
  {
   "cell_type": "code",
   "execution_count": 12,
   "id": "dc0b10e1",
   "metadata": {},
   "outputs": [
    {
     "name": "stdout",
     "output_type": "stream",
     "text": [
      "C:\\Users\\USER\\Desktop\\CCT2\\YCSB\\mongodb\\target\\ycsb-mongodb-binding-0.18.0-SNAPSHOT\n"
     ]
    }
   ],
   "source": [
    "import os\n",
    "os.chdir('mongodb/target/ycsb-mongodb-binding-0.18.0-SNAPSHOT')\n",
    "print(os.getcwd())"
   ]
  },
  {
   "cell_type": "code",
   "execution_count": 13,
   "id": "0b1f3295",
   "metadata": {},
   "outputs": [
    {
     "name": "stderr",
     "output_type": "stream",
     "text": [
      "Command line: -t -db site.ycsb.db.MongoDbClient -s -P workloads\\workloada -p mongodb.url=mongodb://localhost:27017/ycsb\n",
      "YCSB Client 0.18.0-SNAPSHOT\n",
      "\n",
      "Loading workload...\n",
      "Starting test.\n",
      "2025-07-16 05:04:02:745 0 sec: 0 operations; est completion in 0 second \n",
      "2025-07-16 05:04:12:696 10 sec: 0 operations; est completion in 106751991167300 days 15 hours \n",
      "DBWrapper: report latency for each error is false and specific error codes to track for latency are: []\n",
      "2025-07-16 05:04:17:162 14 sec: 1000 operations; 223.91 current ops/sec; [READ: Count=491, Max=171519, Min=484, Avg=1765.03, 50=857, 90=1826, 99=21743, 99.9=171519, 99.99=171519] [CLEANUP: Count=1, Max=7707, Min=7704, Avg=7706, 50=7707, 90=7707, 99=7707, 99.9=7707, 99.99=7707] [UPDATE: Count=509, Max=1080319, Min=496, Avg=4281.27, 50=984, 90=2191, 99=60223, 99.9=1080319, 99.99=1080319] \n"
     ]
    }
   ],
   "source": [
    "# Run YCSB benchmark with MongoDB.\n",
    "!.\\bin\\ycsb.bat run mongodb -s -P workloads\\workloada -p mongodb.url=mongodb://localhost:27017/ycsb > mongodb_results.csv"
   ]
  },
  {
   "cell_type": "code",
   "execution_count": 14,
   "id": "1b895626",
   "metadata": {},
   "outputs": [
    {
     "data": {
      "text/plain": [
       "['bin',\n",
       " 'lib',\n",
       " 'LICENSE.txt',\n",
       " 'mongodb_results.csv',\n",
       " 'NOTICE.txt',\n",
       " 'README.md',\n",
       " 'workloads']"
      ]
     },
     "execution_count": 14,
     "metadata": {},
     "output_type": "execute_result"
    }
   ],
   "source": [
    "# Check if the csv is created\n",
    "os.listdir()"
   ]
  },
  {
   "cell_type": "markdown",
   "id": "792b9c78",
   "metadata": {},
   "source": [
    "### **Run on Postgresql**"
   ]
  },
  {
   "cell_type": "code",
   "execution_count": 15,
   "id": "eb267672",
   "metadata": {},
   "outputs": [
    {
     "name": "stdout",
     "output_type": "stream",
     "text": [
      "C:\\Users\\USER\\Desktop\\CCT2\\YCSB\n"
     ]
    }
   ],
   "source": [
    "import os\n",
    "os.chdir('C:/Users/USER/Desktop/CCT2/YCSB')\n",
    "print(os.getcwd())"
   ]
  },
  {
   "cell_type": "code",
   "execution_count": 16,
   "id": "1374f3b4",
   "metadata": {},
   "outputs": [
    {
     "name": "stdout",
     "output_type": "stream",
     "text": [
      "Adding shard node URL: jdbc:postgresql://localhost:5432/ycsb\n",
      "Using shards: 1, batchSize:-1, fetchSize: -1\n",
      "[OVERALL], RunTime(ms), 6342\n",
      "[OVERALL], Throughput(ops/sec), 0.0\n",
      "[TOTAL_GCS_PS_Scavenge], Count, 0\n",
      "[TOTAL_GC_TIME_PS_Scavenge], Time(ms), 0\n",
      "[TOTAL_GC_TIME_%_PS_Scavenge], Time(%), 0.0\n",
      "[TOTAL_GCS_PS_MarkSweep], Count, 0\n",
      "[TOTAL_GC_TIME_PS_MarkSweep], Time(ms), 0\n",
      "[TOTAL_GC_TIME_%_PS_MarkSweep], Time(%), 0.0\n",
      "[TOTAL_GCs], Count, 0\n",
      "[TOTAL_GC_TIME], Time(ms), 0\n",
      "[TOTAL_GC_TIME_%], Time(%), 0.0\n",
      "[CLEANUP], Operations, 1\n",
      "[CLEANUP], AverageLatency(us), 49200.0\n",
      "[CLEANUP], MinLatency(us), 49184\n",
      "[CLEANUP], MaxLatency(us), 49215\n",
      "[CLEANUP], 50thPercentileLatency(us), 49215\n",
      "[CLEANUP], 95thPercentileLatency(us), 49215\n",
      "[CLEANUP], 99thPercentileLatency(us), 49215\n",
      "[INSERT], Operations, 0\n",
      "[INSERT], AverageLatency(us), 0.0\n",
      "[INSERT], MinLatency(us), 0\n",
      "[INSERT], MaxLatency(us), 0\n",
      "[INSERT], 50thPercentileLatency(us), 0\n",
      "[INSERT], 95thPercentileLatency(us), 0\n",
      "[INSERT], 99thPercentileLatency(us), 0\n",
      "[INSERT], Return=ERROR, 1\n",
      "[INSERT-FAILED], Operations, 1\n",
      "[INSERT-FAILED], AverageLatency(us), 616704.0\n",
      "[INSERT-FAILED], MinLatency(us), 616448\n",
      "[INSERT-FAILED], MaxLatency(us), 616959\n",
      "[INSERT-FAILED], 50thPercentileLatency(us), 616959\n",
      "[INSERT-FAILED], 95thPercentileLatency(us), 616959\n",
      "[INSERT-FAILED], 99thPercentileLatency(us), 616959\n"
     ]
    },
    {
     "name": "stderr",
     "output_type": "stream",
     "text": [
      "Command line: -load -db site.ycsb.db.JdbcDBClient -P workloads\\workloada -p db.driver=org.postgresql.Driver -p db.url=jdbc:postgresql://localhost:5432/ycsb -p db.user=ycsbuser -p db.passwd=ycsbpass -p jdbc.autocommit=true -p table=ycsb -s\n",
      "YCSB Client 0.18.0-SNAPSHOT\n",
      "\n",
      "Loading workload...\n",
      "Starting test.\n",
      "2025-07-16 05:05:14:922 0 sec: 0 operations; est completion in 0 second \n",
      "DBWrapper: report latency for each error is false and specific error codes to track for latency are: []\n",
      "Error in processing insert to table: ycsborg.postgresql.util.PSQLException: ERROR: duplicate key value violates unique constraint \"ycsb_pkey\"\n",
      "  Detail: Key (ycsb_key)=(user6284781860667377211) already exists.\n",
      "Error inserting, not retrying any more. number of attempts: 1Insertion Retry Limit: 0\n",
      "2025-07-16 05:05:21:222 6 sec: 0 operations; est completion in 106751991167300 days 15 hours [CLEANUP: Count=1, Max=49215, Min=49184, Avg=49200, 50=49215, 90=49215, 99=49215, 99.9=49215, 99.99=49215] [INSERT: Count=0, Max=0, Min=0, Avg=0, 50=0, 90=0, 99=0, 99.9=0, 99.99=0] [INSERT-FAILED: Count=1, Max=616959, Min=616448, Avg=616704, 50=616959, 90=616959, 99=616959, 99.9=616959, 99.99=616959] \n"
     ]
    }
   ],
   "source": [
    "!java -cp \"lib\\postgresql-42.7.7.jar;lib\\htrace-core4-4.1.0-incubating.jar;jdbc\\target\\classes;core\\target\\classes;lib\\*\" site.ycsb.Client -load -db site.ycsb.db.JdbcDBClient -P workloads\\workloada -p db.driver=org.postgresql.Driver -p db.url=jdbc:postgresql://localhost:5432/ycsb -p db.user=ycsbuser -p db.passwd=ycsbpass -p jdbc.autocommit=true -p table=ycsb -s"
   ]
  },
  {
   "cell_type": "code",
   "execution_count": 17,
   "id": "a72e0695",
   "metadata": {},
   "outputs": [
    {
     "data": {
      "text/plain": [
       "['.editorconfig',\n",
       " '.git',\n",
       " '.gitignore',\n",
       " '.travis.yml',\n",
       " 'accumulo1.9',\n",
       " 'aerospike',\n",
       " 'arangodb',\n",
       " 'asynchbase',\n",
       " 'azurecosmos',\n",
       " 'azuretablestorage',\n",
       " 'bin',\n",
       " 'binding-parent',\n",
       " 'cassandra',\n",
       " 'checkstyle.xml',\n",
       " 'cloudspanner',\n",
       " 'CONTRIBUTING.md',\n",
       " 'core',\n",
       " 'couchbase',\n",
       " 'couchbase2',\n",
       " 'crail',\n",
       " 'distribution',\n",
       " 'doc',\n",
       " 'dynamodb',\n",
       " 'elasticsearch',\n",
       " 'elasticsearch5',\n",
       " 'foundationdb',\n",
       " 'geode',\n",
       " 'googlebigtable',\n",
       " 'googlebigtable2',\n",
       " 'googledatastore',\n",
       " 'griddb',\n",
       " 'hbase1',\n",
       " 'hbase2',\n",
       " 'ignite',\n",
       " 'infinispan',\n",
       " 'jdbc',\n",
       " 'kudu',\n",
       " 'lib',\n",
       " 'LICENSE.txt',\n",
       " 'maprdb',\n",
       " 'maprjsondb',\n",
       " 'memcached',\n",
       " 'mongodb',\n",
       " 'mongodb_results.csv',\n",
       " 'nosqldb',\n",
       " 'NOTICE.txt',\n",
       " 'orientdb',\n",
       " 'outputLoadMongoDB250000-R95I05.txt',\n",
       " 'pom.xml',\n",
       " 'postgrenosql',\n",
       " 'postgresql_results.csv',\n",
       " 'rados',\n",
       " 'README.md',\n",
       " 'redis',\n",
       " 'rest',\n",
       " 'riak',\n",
       " 'rocksdb',\n",
       " 's3',\n",
       " 'scylla',\n",
       " 'seaweedfs',\n",
       " 'solr7',\n",
       " 'tablestore',\n",
       " 'tarantool',\n",
       " 'target',\n",
       " 'voltdb',\n",
       " 'workloads',\n",
       " 'zookeeper']"
      ]
     },
     "execution_count": 17,
     "metadata": {},
     "output_type": "execute_result"
    }
   ],
   "source": [
    "os.listdir()"
   ]
  },
  {
   "cell_type": "markdown",
   "id": "fecfdded",
   "metadata": {},
   "source": [
    "### Database Selection Rationale\n",
    "\n",
    "**Leading NoSQL Document Store**: MongoDB is among the most popular NoSQL databases, known for its flexible schema and native JSON support which is ideal for handling semi-structured data.\n",
    "\n",
    "**Popular Enterprise-Grade SQL Database**: PostgreSQL was chosen because it one of the most widely used and trusted relational databases. Its full SQL support, strong performance, and ACID compliance make it a representative choice for SQL-based systems. Also, it is easily available to benchmark using YCBS"
   ]
  },
  {
   "cell_type": "markdown",
   "id": "552d71dd",
   "metadata": {},
   "source": [
    "### Technical Implementation\n",
    "\n",
    "**Setup Process**:\n",
    "\n",
    "1. **YCSB Repository**: I began by cloning the official YCSB GitHub repository. Then I used Maven to build the necessary MongoDB and JDBC bindings.\n",
    "2. **MongoDB**: I installed MongoDB Server locally and set it up to run as a Windows service, ensuring it starts automatically and remains consistently available during testing.\n",
    "3. **PostgreSQL**: PostgreSQL was installed via WSL (Windows Subsystem for Linux). Then I created a dedicated YCSB database and configured user permissions specifically for benchmarking.\n",
    "\n",
    "**Configuration**:\n",
    "\n",
    "* **MongoDB**: I connected to the local MongoDB instance on port `27017` using YCSB's native MongoDB driver.\n",
    "* **PostgreSQL**: The PostgreSQL instance was accessed through JDBC using the previously created YCSB database and credentials.\n",
    "\n",
    "**Maven Build**:\n",
    "To streamline the process, I used Maven’s selective module build command:\n",
    "`mvn -pl site.ycsb:mongodb-binding,site.ycsb:jdbc-binding -am`\n",
    "This approach ensured that only the relevant bindings were compiled, reducing build time and avoiding unnecessary dependencies."
   ]
  },
  {
   "cell_type": "markdown",
   "id": "fd7d09b5",
   "metadata": {},
   "source": [
    "<h2 style=\"background-color:#2c3e54;color:#ecf0f1;border-radius: 8px; padding:15px\">Load Metrics</h2>"
   ]
  },
  {
   "cell_type": "markdown",
   "id": "90441dde",
   "metadata": {},
   "source": [
    "### **Load Metrics**"
   ]
  },
  {
   "cell_type": "markdown",
   "id": "accbf5b6",
   "metadata": {},
   "source": [
    "#### Data Loading Justification\n",
    "\n",
    "I skipped the first few rows when loading the YCSB benchmark results because:  \n",
    "\n",
    "1. **For MongoDB (`skiprows=3`):**  \n",
    "   - The first 3 lines contain connection logs and GC metadata (e.g., `mongo client connection created...`, `[OVERALL]` runtime).  \n",
    "   - The actual benchmark metrics (e.g., `[READ]`, `[UPDATE]`) start from line 4.  \n",
    "\n",
    "2. **For PostgreSQL (`skiprows=2`):**  \n",
    "   - The first 2 lines include shard configuration details (e.g., `Adding shard node URL...`).  \n",
    "   - The performance data begins from line 3.  \n",
    "\n",
    "I manually assigned column names (`Operation`, `Metric`, `Value`) because:  \n",
    "   - The raw output lacks headers.  \n",
    "   - This ensures structured analysis across both datasets.  "
   ]
  },
  {
   "cell_type": "code",
   "execution_count": 31,
   "id": "13d1ce12",
   "metadata": {},
   "outputs": [],
   "source": [
    "import pandas as pd"
   ]
  },
  {
   "cell_type": "code",
   "execution_count": 41,
   "id": "bb02fa08",
   "metadata": {},
   "outputs": [],
   "source": [
    "mongodb_results_df = pd.read_csv(\n",
    "    \"mongodb/target/ycsb-mongodb-binding-0.18.0-SNAPSHOT/mongodb_results.csv\",\n",
    "    skiprows=3,\n",
    "    header=None,\n",
    "    names=['Operation', 'Metric', 'Value']\n",
    ")\n",
    "\n",
    "postgresql_results_df = pd.read_csv(\n",
    "    \"postgresql_results.csv\",\n",
    "    skiprows=2,\n",
    "    header=None,\n",
    "    names=['Operation', 'Metric', 'Value']\n",
    ")"
   ]
  },
  {
   "cell_type": "markdown",
   "id": "52f78f2a",
   "metadata": {},
   "source": [
    "### **Preview Data**"
   ]
  },
  {
   "cell_type": "code",
   "execution_count": 50,
   "id": "eff96169",
   "metadata": {
    "scrolled": false
   },
   "outputs": [
    {
     "data": {
      "text/html": [
       "<div>\n",
       "<style scoped>\n",
       "    .dataframe tbody tr th:only-of-type {\n",
       "        vertical-align: middle;\n",
       "    }\n",
       "\n",
       "    .dataframe tbody tr th {\n",
       "        vertical-align: top;\n",
       "    }\n",
       "\n",
       "    .dataframe thead th {\n",
       "        text-align: right;\n",
       "    }\n",
       "</style>\n",
       "<table border=\"1\" class=\"dataframe\">\n",
       "  <thead>\n",
       "    <tr style=\"text-align: right;\">\n",
       "      <th></th>\n",
       "      <th>Operation</th>\n",
       "      <th>Metric</th>\n",
       "      <th>Value</th>\n",
       "    </tr>\n",
       "  </thead>\n",
       "  <tbody>\n",
       "    <tr>\n",
       "      <th>0</th>\n",
       "      <td>[OVERALL]</td>\n",
       "      <td>RunTime(ms)</td>\n",
       "      <td>2160.000000</td>\n",
       "    </tr>\n",
       "    <tr>\n",
       "      <th>1</th>\n",
       "      <td>[OVERALL]</td>\n",
       "      <td>Throughput(ops/sec)</td>\n",
       "      <td>462.962963</td>\n",
       "    </tr>\n",
       "    <tr>\n",
       "      <th>2</th>\n",
       "      <td>[TOTAL_GCS_PS_Scavenge]</td>\n",
       "      <td>Count</td>\n",
       "      <td>1.000000</td>\n",
       "    </tr>\n",
       "    <tr>\n",
       "      <th>3</th>\n",
       "      <td>[TOTAL_GC_TIME_PS_Scavenge]</td>\n",
       "      <td>Time(ms)</td>\n",
       "      <td>7.000000</td>\n",
       "    </tr>\n",
       "    <tr>\n",
       "      <th>4</th>\n",
       "      <td>[TOTAL_GC_TIME_%_PS_Scavenge]</td>\n",
       "      <td>Time(%)</td>\n",
       "      <td>0.324074</td>\n",
       "    </tr>\n",
       "    <tr>\n",
       "      <th>5</th>\n",
       "      <td>[TOTAL_GCS_PS_MarkSweep]</td>\n",
       "      <td>Count</td>\n",
       "      <td>0.000000</td>\n",
       "    </tr>\n",
       "    <tr>\n",
       "      <th>6</th>\n",
       "      <td>[TOTAL_GC_TIME_PS_MarkSweep]</td>\n",
       "      <td>Time(ms)</td>\n",
       "      <td>0.000000</td>\n",
       "    </tr>\n",
       "    <tr>\n",
       "      <th>7</th>\n",
       "      <td>[TOTAL_GC_TIME_%_PS_MarkSweep]</td>\n",
       "      <td>Time(%)</td>\n",
       "      <td>0.000000</td>\n",
       "    </tr>\n",
       "    <tr>\n",
       "      <th>8</th>\n",
       "      <td>[TOTAL_GCs]</td>\n",
       "      <td>Count</td>\n",
       "      <td>1.000000</td>\n",
       "    </tr>\n",
       "    <tr>\n",
       "      <th>9</th>\n",
       "      <td>[TOTAL_GC_TIME]</td>\n",
       "      <td>Time(ms)</td>\n",
       "      <td>7.000000</td>\n",
       "    </tr>\n",
       "    <tr>\n",
       "      <th>10</th>\n",
       "      <td>[TOTAL_GC_TIME_%]</td>\n",
       "      <td>Time(%)</td>\n",
       "      <td>0.324074</td>\n",
       "    </tr>\n",
       "    <tr>\n",
       "      <th>11</th>\n",
       "      <td>[READ]</td>\n",
       "      <td>Operations</td>\n",
       "      <td>503.000000</td>\n",
       "    </tr>\n",
       "    <tr>\n",
       "      <th>12</th>\n",
       "      <td>[READ]</td>\n",
       "      <td>AverageLatency(us)</td>\n",
       "      <td>1217.596421</td>\n",
       "    </tr>\n",
       "    <tr>\n",
       "      <th>13</th>\n",
       "      <td>[READ]</td>\n",
       "      <td>MinLatency(us)</td>\n",
       "      <td>470.000000</td>\n",
       "    </tr>\n",
       "    <tr>\n",
       "      <th>14</th>\n",
       "      <td>[READ]</td>\n",
       "      <td>MaxLatency(us)</td>\n",
       "      <td>89343.000000</td>\n",
       "    </tr>\n",
       "    <tr>\n",
       "      <th>15</th>\n",
       "      <td>[READ]</td>\n",
       "      <td>50thPercentileLatency(us)</td>\n",
       "      <td>902.000000</td>\n",
       "    </tr>\n",
       "    <tr>\n",
       "      <th>16</th>\n",
       "      <td>[READ]</td>\n",
       "      <td>95thPercentileLatency(us)</td>\n",
       "      <td>1942.000000</td>\n",
       "    </tr>\n",
       "    <tr>\n",
       "      <th>17</th>\n",
       "      <td>[READ]</td>\n",
       "      <td>99thPercentileLatency(us)</td>\n",
       "      <td>2807.000000</td>\n",
       "    </tr>\n",
       "    <tr>\n",
       "      <th>18</th>\n",
       "      <td>[READ]</td>\n",
       "      <td>Return=OK</td>\n",
       "      <td>503.000000</td>\n",
       "    </tr>\n",
       "    <tr>\n",
       "      <th>19</th>\n",
       "      <td>[CLEANUP]</td>\n",
       "      <td>Operations</td>\n",
       "      <td>1.000000</td>\n",
       "    </tr>\n",
       "    <tr>\n",
       "      <th>20</th>\n",
       "      <td>[CLEANUP]</td>\n",
       "      <td>AverageLatency(us)</td>\n",
       "      <td>13684.000000</td>\n",
       "    </tr>\n",
       "    <tr>\n",
       "      <th>21</th>\n",
       "      <td>[CLEANUP]</td>\n",
       "      <td>MinLatency(us)</td>\n",
       "      <td>13680.000000</td>\n",
       "    </tr>\n",
       "    <tr>\n",
       "      <th>22</th>\n",
       "      <td>[CLEANUP]</td>\n",
       "      <td>MaxLatency(us)</td>\n",
       "      <td>13687.000000</td>\n",
       "    </tr>\n",
       "    <tr>\n",
       "      <th>23</th>\n",
       "      <td>[CLEANUP]</td>\n",
       "      <td>50thPercentileLatency(us)</td>\n",
       "      <td>13687.000000</td>\n",
       "    </tr>\n",
       "    <tr>\n",
       "      <th>24</th>\n",
       "      <td>[CLEANUP]</td>\n",
       "      <td>95thPercentileLatency(us)</td>\n",
       "      <td>13687.000000</td>\n",
       "    </tr>\n",
       "    <tr>\n",
       "      <th>25</th>\n",
       "      <td>[CLEANUP]</td>\n",
       "      <td>99thPercentileLatency(us)</td>\n",
       "      <td>13687.000000</td>\n",
       "    </tr>\n",
       "    <tr>\n",
       "      <th>26</th>\n",
       "      <td>[UPDATE]</td>\n",
       "      <td>Operations</td>\n",
       "      <td>497.000000</td>\n",
       "    </tr>\n",
       "    <tr>\n",
       "      <th>27</th>\n",
       "      <td>[UPDATE]</td>\n",
       "      <td>AverageLatency(us)</td>\n",
       "      <td>1243.410463</td>\n",
       "    </tr>\n",
       "    <tr>\n",
       "      <th>28</th>\n",
       "      <td>[UPDATE]</td>\n",
       "      <td>MinLatency(us)</td>\n",
       "      <td>541.000000</td>\n",
       "    </tr>\n",
       "    <tr>\n",
       "      <th>29</th>\n",
       "      <td>[UPDATE]</td>\n",
       "      <td>MaxLatency(us)</td>\n",
       "      <td>28127.000000</td>\n",
       "    </tr>\n",
       "    <tr>\n",
       "      <th>30</th>\n",
       "      <td>[UPDATE]</td>\n",
       "      <td>50thPercentileLatency(us)</td>\n",
       "      <td>1037.000000</td>\n",
       "    </tr>\n",
       "    <tr>\n",
       "      <th>31</th>\n",
       "      <td>[UPDATE]</td>\n",
       "      <td>95thPercentileLatency(us)</td>\n",
       "      <td>2083.000000</td>\n",
       "    </tr>\n",
       "    <tr>\n",
       "      <th>32</th>\n",
       "      <td>[UPDATE]</td>\n",
       "      <td>99thPercentileLatency(us)</td>\n",
       "      <td>3873.000000</td>\n",
       "    </tr>\n",
       "    <tr>\n",
       "      <th>33</th>\n",
       "      <td>[UPDATE]</td>\n",
       "      <td>Return=OK</td>\n",
       "      <td>497.000000</td>\n",
       "    </tr>\n",
       "  </tbody>\n",
       "</table>\n",
       "</div>"
      ],
      "text/plain": [
       "                         Operation                      Metric         Value\n",
       "0                        [OVERALL]                 RunTime(ms)   2160.000000\n",
       "1                        [OVERALL]         Throughput(ops/sec)    462.962963\n",
       "2          [TOTAL_GCS_PS_Scavenge]                       Count      1.000000\n",
       "3      [TOTAL_GC_TIME_PS_Scavenge]                    Time(ms)      7.000000\n",
       "4    [TOTAL_GC_TIME_%_PS_Scavenge]                     Time(%)      0.324074\n",
       "5         [TOTAL_GCS_PS_MarkSweep]                       Count      0.000000\n",
       "6     [TOTAL_GC_TIME_PS_MarkSweep]                    Time(ms)      0.000000\n",
       "7   [TOTAL_GC_TIME_%_PS_MarkSweep]                     Time(%)      0.000000\n",
       "8                      [TOTAL_GCs]                       Count      1.000000\n",
       "9                  [TOTAL_GC_TIME]                    Time(ms)      7.000000\n",
       "10               [TOTAL_GC_TIME_%]                     Time(%)      0.324074\n",
       "11                          [READ]                  Operations    503.000000\n",
       "12                          [READ]          AverageLatency(us)   1217.596421\n",
       "13                          [READ]              MinLatency(us)    470.000000\n",
       "14                          [READ]              MaxLatency(us)  89343.000000\n",
       "15                          [READ]   50thPercentileLatency(us)    902.000000\n",
       "16                          [READ]   95thPercentileLatency(us)   1942.000000\n",
       "17                          [READ]   99thPercentileLatency(us)   2807.000000\n",
       "18                          [READ]                   Return=OK    503.000000\n",
       "19                       [CLEANUP]                  Operations      1.000000\n",
       "20                       [CLEANUP]          AverageLatency(us)  13684.000000\n",
       "21                       [CLEANUP]              MinLatency(us)  13680.000000\n",
       "22                       [CLEANUP]              MaxLatency(us)  13687.000000\n",
       "23                       [CLEANUP]   50thPercentileLatency(us)  13687.000000\n",
       "24                       [CLEANUP]   95thPercentileLatency(us)  13687.000000\n",
       "25                       [CLEANUP]   99thPercentileLatency(us)  13687.000000\n",
       "26                        [UPDATE]                  Operations    497.000000\n",
       "27                        [UPDATE]          AverageLatency(us)   1243.410463\n",
       "28                        [UPDATE]              MinLatency(us)    541.000000\n",
       "29                        [UPDATE]              MaxLatency(us)  28127.000000\n",
       "30                        [UPDATE]   50thPercentileLatency(us)   1037.000000\n",
       "31                        [UPDATE]   95thPercentileLatency(us)   2083.000000\n",
       "32                        [UPDATE]   99thPercentileLatency(us)   3873.000000\n",
       "33                        [UPDATE]                   Return=OK    497.000000"
      ]
     },
     "execution_count": 50,
     "metadata": {},
     "output_type": "execute_result"
    }
   ],
   "source": [
    "mongodb_results_df"
   ]
  },
  {
   "cell_type": "code",
   "execution_count": 51,
   "id": "2a4003a3",
   "metadata": {},
   "outputs": [
    {
     "data": {
      "text/html": [
       "<div>\n",
       "<style scoped>\n",
       "    .dataframe tbody tr th:only-of-type {\n",
       "        vertical-align: middle;\n",
       "    }\n",
       "\n",
       "    .dataframe tbody tr th {\n",
       "        vertical-align: top;\n",
       "    }\n",
       "\n",
       "    .dataframe thead th {\n",
       "        text-align: right;\n",
       "    }\n",
       "</style>\n",
       "<table border=\"1\" class=\"dataframe\">\n",
       "  <thead>\n",
       "    <tr style=\"text-align: right;\">\n",
       "      <th></th>\n",
       "      <th>Operation</th>\n",
       "      <th>Metric</th>\n",
       "      <th>Value</th>\n",
       "    </tr>\n",
       "  </thead>\n",
       "  <tbody>\n",
       "    <tr>\n",
       "      <th>0</th>\n",
       "      <td>[OVERALL]</td>\n",
       "      <td>RunTime(ms)</td>\n",
       "      <td>48102.000000</td>\n",
       "    </tr>\n",
       "    <tr>\n",
       "      <th>1</th>\n",
       "      <td>[OVERALL]</td>\n",
       "      <td>Throughput(ops/sec)</td>\n",
       "      <td>20.789156</td>\n",
       "    </tr>\n",
       "    <tr>\n",
       "      <th>2</th>\n",
       "      <td>[TOTAL_GCS_PS_Scavenge]</td>\n",
       "      <td>Count</td>\n",
       "      <td>1.000000</td>\n",
       "    </tr>\n",
       "    <tr>\n",
       "      <th>3</th>\n",
       "      <td>[TOTAL_GC_TIME_PS_Scavenge]</td>\n",
       "      <td>Time(ms)</td>\n",
       "      <td>18.000000</td>\n",
       "    </tr>\n",
       "    <tr>\n",
       "      <th>4</th>\n",
       "      <td>[TOTAL_GC_TIME_%_PS_Scavenge]</td>\n",
       "      <td>Time(%)</td>\n",
       "      <td>0.037420</td>\n",
       "    </tr>\n",
       "    <tr>\n",
       "      <th>5</th>\n",
       "      <td>[TOTAL_GCS_PS_MarkSweep]</td>\n",
       "      <td>Count</td>\n",
       "      <td>0.000000</td>\n",
       "    </tr>\n",
       "    <tr>\n",
       "      <th>6</th>\n",
       "      <td>[TOTAL_GC_TIME_PS_MarkSweep]</td>\n",
       "      <td>Time(ms)</td>\n",
       "      <td>0.000000</td>\n",
       "    </tr>\n",
       "    <tr>\n",
       "      <th>7</th>\n",
       "      <td>[TOTAL_GC_TIME_%_PS_MarkSweep]</td>\n",
       "      <td>Time(%)</td>\n",
       "      <td>0.000000</td>\n",
       "    </tr>\n",
       "    <tr>\n",
       "      <th>8</th>\n",
       "      <td>[TOTAL_GCs]</td>\n",
       "      <td>Count</td>\n",
       "      <td>1.000000</td>\n",
       "    </tr>\n",
       "    <tr>\n",
       "      <th>9</th>\n",
       "      <td>[TOTAL_GC_TIME]</td>\n",
       "      <td>Time(ms)</td>\n",
       "      <td>18.000000</td>\n",
       "    </tr>\n",
       "    <tr>\n",
       "      <th>10</th>\n",
       "      <td>[TOTAL_GC_TIME_%]</td>\n",
       "      <td>Time(%)</td>\n",
       "      <td>0.037420</td>\n",
       "    </tr>\n",
       "    <tr>\n",
       "      <th>11</th>\n",
       "      <td>[CLEANUP]</td>\n",
       "      <td>Operations</td>\n",
       "      <td>1.000000</td>\n",
       "    </tr>\n",
       "    <tr>\n",
       "      <th>12</th>\n",
       "      <td>[CLEANUP]</td>\n",
       "      <td>AverageLatency(us)</td>\n",
       "      <td>5406.000000</td>\n",
       "    </tr>\n",
       "    <tr>\n",
       "      <th>13</th>\n",
       "      <td>[CLEANUP]</td>\n",
       "      <td>MinLatency(us)</td>\n",
       "      <td>5404.000000</td>\n",
       "    </tr>\n",
       "    <tr>\n",
       "      <th>14</th>\n",
       "      <td>[CLEANUP]</td>\n",
       "      <td>MaxLatency(us)</td>\n",
       "      <td>5407.000000</td>\n",
       "    </tr>\n",
       "    <tr>\n",
       "      <th>15</th>\n",
       "      <td>[CLEANUP]</td>\n",
       "      <td>50thPercentileLatency(us)</td>\n",
       "      <td>5407.000000</td>\n",
       "    </tr>\n",
       "    <tr>\n",
       "      <th>16</th>\n",
       "      <td>[CLEANUP]</td>\n",
       "      <td>95thPercentileLatency(us)</td>\n",
       "      <td>5407.000000</td>\n",
       "    </tr>\n",
       "    <tr>\n",
       "      <th>17</th>\n",
       "      <td>[CLEANUP]</td>\n",
       "      <td>99thPercentileLatency(us)</td>\n",
       "      <td>5407.000000</td>\n",
       "    </tr>\n",
       "    <tr>\n",
       "      <th>18</th>\n",
       "      <td>[INSERT]</td>\n",
       "      <td>Operations</td>\n",
       "      <td>1000.000000</td>\n",
       "    </tr>\n",
       "    <tr>\n",
       "      <th>19</th>\n",
       "      <td>[INSERT]</td>\n",
       "      <td>AverageLatency(us)</td>\n",
       "      <td>46670.960000</td>\n",
       "    </tr>\n",
       "    <tr>\n",
       "      <th>20</th>\n",
       "      <td>[INSERT]</td>\n",
       "      <td>MinLatency(us)</td>\n",
       "      <td>25872.000000</td>\n",
       "    </tr>\n",
       "    <tr>\n",
       "      <th>21</th>\n",
       "      <td>[INSERT]</td>\n",
       "      <td>MaxLatency(us)</td>\n",
       "      <td>174719.000000</td>\n",
       "    </tr>\n",
       "    <tr>\n",
       "      <th>22</th>\n",
       "      <td>[INSERT]</td>\n",
       "      <td>50thPercentileLatency(us)</td>\n",
       "      <td>43775.000000</td>\n",
       "    </tr>\n",
       "    <tr>\n",
       "      <th>23</th>\n",
       "      <td>[INSERT]</td>\n",
       "      <td>95thPercentileLatency(us)</td>\n",
       "      <td>89919.000000</td>\n",
       "    </tr>\n",
       "    <tr>\n",
       "      <th>24</th>\n",
       "      <td>[INSERT]</td>\n",
       "      <td>99thPercentileLatency(us)</td>\n",
       "      <td>124159.000000</td>\n",
       "    </tr>\n",
       "    <tr>\n",
       "      <th>25</th>\n",
       "      <td>[INSERT]</td>\n",
       "      <td>Return=OK</td>\n",
       "      <td>1000.000000</td>\n",
       "    </tr>\n",
       "  </tbody>\n",
       "</table>\n",
       "</div>"
      ],
      "text/plain": [
       "                         Operation                      Metric          Value\n",
       "0                        [OVERALL]                 RunTime(ms)   48102.000000\n",
       "1                        [OVERALL]         Throughput(ops/sec)      20.789156\n",
       "2          [TOTAL_GCS_PS_Scavenge]                       Count       1.000000\n",
       "3      [TOTAL_GC_TIME_PS_Scavenge]                    Time(ms)      18.000000\n",
       "4    [TOTAL_GC_TIME_%_PS_Scavenge]                     Time(%)       0.037420\n",
       "5         [TOTAL_GCS_PS_MarkSweep]                       Count       0.000000\n",
       "6     [TOTAL_GC_TIME_PS_MarkSweep]                    Time(ms)       0.000000\n",
       "7   [TOTAL_GC_TIME_%_PS_MarkSweep]                     Time(%)       0.000000\n",
       "8                      [TOTAL_GCs]                       Count       1.000000\n",
       "9                  [TOTAL_GC_TIME]                    Time(ms)      18.000000\n",
       "10               [TOTAL_GC_TIME_%]                     Time(%)       0.037420\n",
       "11                       [CLEANUP]                  Operations       1.000000\n",
       "12                       [CLEANUP]          AverageLatency(us)    5406.000000\n",
       "13                       [CLEANUP]              MinLatency(us)    5404.000000\n",
       "14                       [CLEANUP]              MaxLatency(us)    5407.000000\n",
       "15                       [CLEANUP]   50thPercentileLatency(us)    5407.000000\n",
       "16                       [CLEANUP]   95thPercentileLatency(us)    5407.000000\n",
       "17                       [CLEANUP]   99thPercentileLatency(us)    5407.000000\n",
       "18                        [INSERT]                  Operations    1000.000000\n",
       "19                        [INSERT]          AverageLatency(us)   46670.960000\n",
       "20                        [INSERT]              MinLatency(us)   25872.000000\n",
       "21                        [INSERT]              MaxLatency(us)  174719.000000\n",
       "22                        [INSERT]   50thPercentileLatency(us)   43775.000000\n",
       "23                        [INSERT]   95thPercentileLatency(us)   89919.000000\n",
       "24                        [INSERT]   99thPercentileLatency(us)  124159.000000\n",
       "25                        [INSERT]                   Return=OK    1000.000000"
      ]
     },
     "execution_count": 51,
     "metadata": {},
     "output_type": "execute_result"
    }
   ],
   "source": [
    "postgresql_results_df"
   ]
  },
  {
   "cell_type": "code",
   "execution_count": 48,
   "id": "63c60e3e",
   "metadata": {},
   "outputs": [
    {
     "data": {
      "text/plain": [
       "(34, 3)"
      ]
     },
     "execution_count": 48,
     "metadata": {},
     "output_type": "execute_result"
    }
   ],
   "source": [
    "mongodb_results_df.shape"
   ]
  },
  {
   "cell_type": "code",
   "execution_count": 49,
   "id": "f2a56547",
   "metadata": {},
   "outputs": [
    {
     "data": {
      "text/plain": [
       "(26, 3)"
      ]
     },
     "execution_count": 49,
     "metadata": {},
     "output_type": "execute_result"
    }
   ],
   "source": [
    "postgresql_results_df.shape"
   ]
  },
  {
   "cell_type": "markdown",
   "id": "82b1fd41",
   "metadata": {},
   "source": [
    "<h2 style=\"background-color:#2c3e54;color:#ecf0f1;border-radius: 8px; padding:15px\">Comparative Analysis</h2>"
   ]
  },
  {
   "cell_type": "code",
   "execution_count": 104,
   "id": "554438e5",
   "metadata": {},
   "outputs": [],
   "source": [
    "import seaborn as sns\n",
    "import matplotlib.pyplot as plt\n",
    "import pandas as pd\n",
    "\n",
    "sns.set(style=\"darkgrid\")\n",
    "sns.set(rc={\"lines.linewidth\": 0})"
   ]
  },
  {
   "cell_type": "markdown",
   "id": "0c45104e",
   "metadata": {},
   "source": [
    "### Throughput comparison"
   ]
  },
  {
   "cell_type": "code",
   "execution_count": 105,
   "id": "22204d80",
   "metadata": {},
   "outputs": [],
   "source": [
    "def plot_overall_performance(mongodb_df, postgresql_df):\n",
    "    fig, (ax1, ax2) = plt.subplots(1, 2, figsize=(14, 6))\n",
    "    \n",
    "    # Throughput comparison\n",
    "    mongodb_throughput = mongodb_df[mongodb_df['Metric'] == ' Throughput(ops/sec)']['Value'].iloc[0]\n",
    "    postgresql_throughput = postgresql_df[postgresql_df['Metric'] == ' Throughput(ops/sec)']['Value'].iloc[0]\n",
    "    \n",
    "    throughput_data = pd.DataFrame({\n",
    "        'Database': ['MongoDB', 'PostgreSQL'],\n",
    "        ' Throughput (ops/sec)': [mongodb_throughput, postgresql_throughput]\n",
    "    })\n",
    "    \n",
    "    throughput_plot = sns.barplot(data=throughput_data, x='Database', y=' Throughput (ops/sec)', ax=ax1, palette=['#47A992', '#2E86AB'])\n",
    "    ax1.set_title('Throughput Comparison', fontsize=14, fontweight='bold')\n",
    "    ax1.set_ylabel('Operations per Second')\n",
    "    \n",
    "    # Add values on top of bars for throughput\n",
    "    for p in throughput_plot.patches:\n",
    "        throughput_plot.annotate(format(p.get_height(), '.2f'), \n",
    "                              (p.get_x() + p.get_width() / 2., p.get_height()), \n",
    "                              ha = 'center', va = 'center', \n",
    "                              xytext = (0, 10), \n",
    "                              textcoords = 'offset points')\n",
    "    \n",
    "    # Runtime comparison\n",
    "    mongodb_runtime = mongodb_df[mongodb_df['Metric'] == ' RunTime(ms)']['Value'].iloc[0]\n",
    "    postgresql_runtime = postgresql_df[postgresql_df['Metric'] == ' RunTime(ms)']['Value'].iloc[0]\n",
    "    \n",
    "    runtime_data = pd.DataFrame({\n",
    "        'Database': ['MongoDB', 'PostgreSQL'],\n",
    "        ' Runtime (ms)': [mongodb_runtime, postgresql_runtime]\n",
    "    })\n",
    "    \n",
    "    runtime_plot = sns.barplot(data=runtime_data, x='Database', y=' Runtime (ms)', ax=ax2, palette=['#47A992', '#2E86AB'])\n",
    "    ax2.set_title('Runtime Comparison', fontsize=14, fontweight='bold')\n",
    "    ax2.set_ylabel('Runtime (milliseconds)')\n",
    "    \n",
    "    # Add values on top of bars for runtime\n",
    "    for p in runtime_plot.patches:\n",
    "        runtime_plot.annotate(format(p.get_height(), '.2f'), \n",
    "                           (p.get_x() + p.get_width() / 2., p.get_height()), \n",
    "                           ha = 'center', va = 'center', \n",
    "                           xytext = (0, 10), \n",
    "                           textcoords = 'offset points')\n",
    "    \n",
    "    plt.tight_layout()\n",
    "    plt.show()"
   ]
  },
  {
   "cell_type": "code",
   "execution_count": 106,
   "id": "b0f7542a",
   "metadata": {},
   "outputs": [
    {
     "data": {
      "image/png": "[encoded data removed]",
      "text/plain": [
       "<Figure size 1400x600 with 2 Axes>"
      ]
     },
     "metadata": {},
     "output_type": "display_data"
    }
   ],
   "source": [
    "plot_overall_performance(mongodb_results_df, postgresql_results_df)"
   ]
  },
  {
   "cell_type": "markdown",
   "id": "988a8fe3",
   "metadata": {},
   "source": [
    "### Latency Analysis"
   ]
  },
  {
   "cell_type": "code",
   "execution_count": 107,
   "id": "db36043d",
   "metadata": {},
   "outputs": [],
   "source": [
    "def plot_latency_comparison(mongodb_df, postgresql_df):\n",
    "    # Extract READ latency data for MongoDB\n",
    "    mongodb_read_latencies = {\n",
    "        'Average': mongodb_df[mongodb_df['Metric'] == ' AverageLatency(us)']['Value'].iloc[0],\n",
    "        '50th Percentile': mongodb_df[mongodb_df['Metric'] == ' 50thPercentileLatency(us)']['Value'].iloc[0],\n",
    "        '95th Percentile': mongodb_df[mongodb_df['Metric'] == ' 95thPercentileLatency(us)']['Value'].iloc[0],\n",
    "        '99th Percentile': mongodb_df[mongodb_df['Metric'] == ' 99thPercentileLatency(us)']['Value'].iloc[0]\n",
    "    }\n",
    "    \n",
    "    # Extract UPDATE latency data for MongoDB\n",
    "    mongodb_update_latencies = {\n",
    "        'Average': mongodb_df[mongodb_df['Metric'] == ' AverageLatency(us)']['Value'].iloc[1],\n",
    "        '50th Percentile': mongodb_df[mongodb_df['Metric'] == ' 50thPercentileLatency(us)']['Value'].iloc[1],\n",
    "        '95th Percentile': mongodb_df[mongodb_df['Metric'] == ' 95thPercentileLatency(us)']['Value'].iloc[1],\n",
    "        '99th Percentile': mongodb_df[mongodb_df['Metric'] == ' 99thPercentileLatency(us)']['Value'].iloc[1]\n",
    "    }\n",
    "    \n",
    "    # Extract INSERT latency data for PostgreSQL\n",
    "    postgresql_insert_latencies = {\n",
    "        'Average': postgresql_df[postgresql_df['Metric'] == ' AverageLatency(us)']['Value'].iloc[1],\n",
    "        '50th Percentile': postgresql_df[postgresql_df['Metric'] == ' 50thPercentileLatency(us)']['Value'].iloc[1],\n",
    "        '95th Percentile': postgresql_df[postgresql_df['Metric'] == ' 95thPercentileLatency(us)']['Value'].iloc[1],\n",
    "        '99th Percentile': postgresql_df[postgresql_df['Metric'] == ' 99thPercentileLatency(us)']['Value'].iloc[1]\n",
    "    }\n",
    "    \n",
    "    # Create combined dataframe\n",
    "    latency_data = []\n",
    "    for metric, value in mongodb_read_latencies.items():\n",
    "        latency_data.append(['MongoDB', 'READ', metric, value])\n",
    "    for metric, value in mongodb_update_latencies.items():\n",
    "        latency_data.append(['MongoDB', 'UPDATE', metric, value])\n",
    "    for metric, value in postgresql_insert_latencies.items():\n",
    "        latency_data.append(['PostgreSQL', 'INSERT', metric, value])\n",
    "    \n",
    "    latency_df = pd.DataFrame(latency_data, columns=['Database', 'Operation', 'Metric', 'Latency (μs)'])\n",
    "    \n",
    "    plt.figure(figsize=(12, 8))\n",
    "    latency_plot = sns.barplot(data=latency_df, x='Metric', y='Latency (μs)', hue='Database', palette=['#47A992', '#2E86AB'])\n",
    "    plt.title('Latency Comparison Across Operations', fontsize=16, fontweight='bold')\n",
    "    plt.xlabel('Latency Metrics')\n",
    "    plt.ylabel('Latency (microseconds)')\n",
    "    plt.legend(title='Database')\n",
    "    \n",
    "    # Add values on top of bars for latency\n",
    "    for p in latency_plot.patches:\n",
    "        latency_plot.annotate(format(p.get_height(), '.2f'), \n",
    "                          (p.get_x() + p.get_width() / 2., p.get_height()), \n",
    "                          ha = 'center', va = 'center', \n",
    "                          xytext = (0, 10), \n",
    "                          textcoords = 'offset points')\n",
    "    \n",
    "    plt.tight_layout()\n",
    "    plt.show()\n"
   ]
  },
  {
   "cell_type": "code",
   "execution_count": 108,
   "id": "1b1afb80",
   "metadata": {},
   "outputs": [
    {
     "data": {
      "image/png": "[encoded data removed]",
      "text/plain": [
       "<Figure size 1200x800 with 1 Axes>"
      ]
     },
     "metadata": {},
     "output_type": "display_data"
    }
   ],
   "source": [
    "plot_latency_comparison(mongodb_results_df, postgresql_results_df)"
   ]
  },
  {
   "cell_type": "markdown",
   "id": "268950f6",
   "metadata": {},
   "source": [
    "### Operations Performance Breakdown"
   ]
  },
  {
   "cell_type": "code",
   "execution_count": 92,
   "id": "ead30cc3",
   "metadata": {},
   "outputs": [],
   "source": [
    "def plot_operations_breakdown(mongodb_df, postgresql_df):\n",
    "    # MongoDB operations\n",
    "    mongodb_read_ops = mongodb_df[mongodb_df['Operation'] == '[READ]']['Value'].iloc[0]\n",
    "    mongodb_update_ops = mongodb_df[mongodb_df['Operation'] == '[UPDATE]']['Value'].iloc[0]\n",
    "    \n",
    "    # PostgreSQL operations\n",
    "    postgresql_insert_ops = postgresql_df[postgresql_df['Operation'] == '[INSERT]']['Value'].iloc[0]\n",
    "    \n",
    "    operations_data = pd.DataFrame({\n",
    "        'Database': ['MongoDB', 'MongoDB', 'PostgreSQL'],\n",
    "        'Operation': ['READ', 'UPDATE', 'INSERT'],\n",
    "        'Count': [mongodb_read_ops, mongodb_update_ops, postgresql_insert_ops]\n",
    "    })\n",
    "    \n",
    "    plt.figure(figsize=(10, 6))\n",
    "    ops_plot = sns.barplot(data=operations_data, x='Operation', y='Count', hue='Database', palette=['#47A992', '#2E86AB'])\n",
    "    plt.title('Operations Count by Database', fontsize=16, fontweight='bold')\n",
    "    plt.xlabel('Operation Type')\n",
    "    plt.ylabel('Number of Operations')\n",
    "    plt.legend(title='Database')\n",
    "    \n",
    "    # Add values on top of bars for operations count\n",
    "    for p in ops_plot.patches:\n",
    "        ops_plot.annotate(format(p.get_height(), '.2f'), \n",
    "                       (p.get_x() + p.get_width() / 2., p.get_height()), \n",
    "                       ha = 'center', va = 'center', \n",
    "                       xytext = (0, 10), \n",
    "                       textcoords = 'offset points')\n",
    "    \n",
    "    plt.tight_layout()\n",
    "    plt.show()"
   ]
  },
  {
   "cell_type": "code",
   "execution_count": 93,
   "id": "3cca81b3",
   "metadata": {},
   "outputs": [
    {
     "data": {
      "image/png": "[encoded data removed]",
      "text/plain": [
       "<Figure size 1000x600 with 1 Axes>"
      ]
     },
     "metadata": {},
     "output_type": "display_data"
    }
   ],
   "source": [
    "plot_operations_breakdown(mongodb_results_df, postgresql_results_df)"
   ]
  },
  {
   "cell_type": "markdown",
   "id": "000f121b",
   "metadata": {},
   "source": [
    "### Performance Summary Dashboard"
   ]
  },
  {
   "cell_type": "code",
   "execution_count": 102,
   "id": "1ccbe587",
   "metadata": {},
   "outputs": [],
   "source": [
    "def plot_performance_dashboard(mongodb_df, postgresql_df):\n",
    "    fig, axes = plt.subplots(2, 2, figsize=(16, 12))\n",
    "    \n",
    "    # Throughput\n",
    "    mongodb_throughput = mongodb_df[mongodb_df['Metric'] == ' Throughput(ops/sec)']['Value'].iloc[0]\n",
    "    postgresql_throughput = postgresql_df[postgresql_df['Metric'] == ' Throughput(ops/sec)']['Value'].iloc[0]\n",
    "    \n",
    "    throughput_data = pd.DataFrame({\n",
    "        'Database': ['MongoDB', 'PostgreSQL'],\n",
    "        'Throughput': [mongodb_throughput, postgresql_throughput]\n",
    "    })\n",
    "    \n",
    "    throughput_plot = sns.barplot(data=throughput_data, x='Database', y='Throughput', ax=axes[0,0], palette=['#47A992', '#2E86AB'])\n",
    "    axes[0,0].set_title(' Throughput (ops/sec)', fontweight='bold')\n",
    "    axes[0,0].set_ylabel('Operations per Second')\n",
    "    \n",
    "    # Add values on top of bars for throughput\n",
    "    for p in throughput_plot.patches:\n",
    "        throughput_plot.annotate(format(p.get_height(), '.2f'), \n",
    "                              (p.get_x() + p.get_width() / 2., p.get_height()), \n",
    "                              ha = 'center', va = 'center', \n",
    "                              xytext = (0, 10), \n",
    "                              textcoords = 'offset points')\n",
    "    \n",
    "    # Runtime\n",
    "    mongodb_runtime = mongodb_df[mongodb_df['Metric'] == ' RunTime(ms)']['Value'].iloc[0]\n",
    "    postgresql_runtime = postgresql_df[postgresql_df['Metric'] == ' RunTime(ms)']['Value'].iloc[0]\n",
    "    \n",
    "    runtime_data = pd.DataFrame({\n",
    "        'Database': ['MongoDB', 'PostgreSQL'],\n",
    "        'Runtime': [mongodb_runtime, postgresql_runtime]\n",
    "    })\n",
    "    \n",
    "    runtime_plot = sns.barplot(data=runtime_data, x='Database', y='Runtime', ax=axes[0,1], palette=['#47A992', '#2E86AB'])\n",
    "    axes[0,1].set_title('Runtime (ms)', fontweight='bold')\n",
    "    axes[0,1].set_ylabel('Milliseconds')\n",
    "    \n",
    "    # Add values on top of bars for runtime\n",
    "    for p in runtime_plot.patches:\n",
    "        runtime_plot.annotate(format(p.get_height(), '.2f'), \n",
    "                           (p.get_x() + p.get_width() / 2., p.get_height()), \n",
    "                           ha = 'center', va = 'center', \n",
    "                           xytext = (0, 10), \n",
    "                           textcoords = 'offset points')\n",
    "    \n",
    "    # Average Latency\n",
    "    mongodb_avg_latency = mongodb_df[mongodb_df['Metric'] == ' AverageLatency(us)']['Value'].iloc[0]\n",
    "    postgresql_avg_latency = postgresql_df[postgresql_df['Metric'] == ' AverageLatency(us)']['Value'].iloc[1]\n",
    "    \n",
    "    avg_latency_data = pd.DataFrame({\n",
    "        'Database': ['MongoDB (READ)', 'PostgreSQL (INSERT)'],\n",
    "        ' Average Latency': [mongodb_avg_latency, postgresql_avg_latency]\n",
    "    })\n",
    "    \n",
    "    avg_latency_plot = sns.barplot(data=avg_latency_data, x='Database', y=' Average Latency', ax=axes[1,0], palette=['#47A992', '#2E86AB'])\n",
    "    axes[1,0].set_title('Average Latency (μs)', fontweight='bold')\n",
    "    axes[1,0].set_ylabel('Microseconds')\n",
    "    axes[1,0].tick_params(axis='x')\n",
    "    \n",
    "    # Add values on top of bars for average latency\n",
    "    for p in avg_latency_plot.patches:\n",
    "        avg_latency_plot.annotate(format(p.get_height(), '.2f'), \n",
    "                               (p.get_x() + p.get_width() / 2., p.get_height()), \n",
    "                               ha = 'center', va = 'center', \n",
    "                               xytext = (0, 10), \n",
    "                               textcoords = 'offset points')\n",
    "    \n",
    "    # 95th Percentile Latency\n",
    "    mongodb_95th_latency = mongodb_df[mongodb_df['Metric'] == ' 95thPercentileLatency(us)']['Value'].iloc[0]\n",
    "    postgresql_95th_latency = postgresql_df[postgresql_df['Metric'] == ' 95thPercentileLatency(us)']['Value'].iloc[1]\n",
    "    \n",
    "    percentile_data = pd.DataFrame({\n",
    "        'Database': ['MongoDB (READ)', 'PostgreSQL (INSERT)'],\n",
    "        '95th Percentile': [mongodb_95th_latency, postgresql_95th_latency]\n",
    "    })\n",
    "    \n",
    "    percentile_plot = sns.barplot(data=percentile_data, x='Database', y='95th Percentile', ax=axes[1,1], palette=['#47A992', '#2E86AB'])\n",
    "    axes[1,1].set_title('95th Percentile Latency (μs)', fontweight='bold')\n",
    "    axes[1,1].set_ylabel('Microseconds')\n",
    "    axes[1,1].tick_params(axis='x')\n",
    "    \n",
    "    # Add values on top of bars for 95th percentile\n",
    "    for p in percentile_plot.patches:\n",
    "        percentile_plot.annotate(format(p.get_height(), '.2f'), \n",
    "                              (p.get_x() + p.get_width() / 2., p.get_height()), \n",
    "                              ha = 'center', va = 'center', \n",
    "                              xytext = (0, 10), \n",
    "                              textcoords = 'offset points')\n",
    "    \n",
    "    plt.suptitle('YCSB Performance Comparison: MongoDB vs PostgreSQL', fontsize=18, fontweight='bold', y=0.98)\n",
    "    plt.tight_layout()\n",
    "    plt.show()"
   ]
  },
  {
   "cell_type": "code",
   "execution_count": 103,
   "id": "7b3ed436",
   "metadata": {},
   "outputs": [
    {
     "data": {
      "image/png": "[encoded data removed]",
      "text/plain": [
       "<Figure size 1600x1200 with 4 Axes>"
      ]
     },
     "metadata": {},
     "output_type": "display_data"
    }
   ],
   "source": [
    "plot_performance_dashboard(mongodb_results_df, postgresql_results_df)"
   ]
  },
  {
   "cell_type": "markdown",
   "id": "fc8eef05",
   "metadata": {},
   "source": [
    "### **Comparative Analysis of SQL (PostgreSQL) and NoSQL (MongoDB) Database Performance**\n",
    "\n",
    "The latency comparison between **MongoDB (NoSQL)** and **PostgreSQL (SQL)** reveals significant differences in performance across different operations (READ, UPDATE, and INSERT). Below is a structured analysis of my findings:\n",
    "\n",
    "### **1. Throughput and Runtime Efficiency**\n",
    "- **MongoDB** demonstrated superior throughput (**462.96 ops/sec**) compared to PostgreSQL (**20.79 ops/sec**), completing its operations in **2.16 seconds**, while PostgreSQL took **48.1 seconds**.\n",
    "- This stark difference suggests that **MongoDB is optimized for high-speed read/write operations**, whereas PostgreSQL, being ACID-compliant, incurs higher overhead for transactional integrity.\n",
    "\n",
    "### **2. Read Operation Performance**\n",
    "| Metric               | MongoDB (µs) | PostgreSQL (µs) |\n",
    "|----------------------|-------------|----------------|\n",
    "| **Average Latency**  | 1,217.60    | N/A (No read benchmark) |\n",
    "| **50th Percentile**  | 902         | N/A |\n",
    "| **95th Percentile**  | 1,942       | N/A |\n",
    "| **99th Percentile**  | 2,807       | N/A |\n",
    "\n",
    "- MongoDB's **READ** operations were highly efficient, with:\n",
    "  - **Sub-millisecond median latency (902µs)**.\n",
    "  - **95th percentile under 2ms**, indicating consistent performance.\n",
    "- PostgreSQL was not benchmarked for reads, but given its **INSERT** latency (discussed next), we can infer that **MongoDB is better suited for low-latency read-heavy workloads**.\n",
    "\n",
    "### **3. Write Operation Performance**\n",
    "#### **MongoDB (UPDATE) vs. PostgreSQL (INSERT)**\n",
    "| Metric               | MongoDB UPDATE (µs) | PostgreSQL INSERT (µs) |\n",
    "|----------------------|--------------------|-----------------------|\n",
    "| **Average Latency**  | 1,243.41           | 46,670.96             |\n",
    "| **50th Percentile**  | 1,037              | 43,775                |\n",
    "| **95th Percentile**  | 2,083              | 89,919                |\n",
    "| **99th Percentile**  | 3,873              | 124,159               |\n",
    "\n",
    "- **MongoDB's UPDATE latency was orders of magnitude lower** than PostgreSQL's INSERT latency.\n",
    "  - **MongoDB's 99th percentile (3,873µs) was ~32x faster** than PostgreSQL's (124,159µs).\n",
    "  - Even at the **median (50th percentile)**, MongoDB was **42x faster** (1,037µs vs. 43,775µs).\n",
    "- This suggests that **MongoDB's document-based, schema-flexible model allows for faster writes**, whereas PostgreSQL's **ACID compliance and indexing mechanisms introduce higher latency**.\n",
    "\n",
    "### **4. Garbage Collection (GC) Impact**\n",
    "- Both databases had minimal GC overhead:\n",
    "  - **MongoDB**: 0.32% GC time (7ms total).\n",
    "  - **PostgreSQL**: 0.037% GC time (18ms total).\n",
    "- This indicates that **neither database was bottlenecked by memory management**, and the performance differences stem from **architectural design choices**.\n",
    "\n",
    "\n",
    "## **Arguements**\n",
    "\n",
    "### **When to Choose MongoDB (NoSQL)?**\n",
    "✅ **Best for:**\n",
    "- **High-throughput applications** (e.g., real-time analytics, IoT data ingestion).\n",
    "- **Low-latency read/write workloads** (e.g., user sessions, caching).\n",
    "- **Flexible schema requirements** (e.g., evolving data models).\n",
    "\n",
    "❌ **Not ideal for:**\n",
    "- **Complex transactions requiring strict ACID guarantees**.\n",
    "- **Applications needing advanced joins and relational integrity**.\n",
    "\n",
    "### **When to Choose PostgreSQL (SQL)?**\n",
    "✅ **Best for:**\n",
    "- **Transactional systems** (e.g., banking, e-commerce).\n",
    "- **Complex queries with joins** (e.g., reporting, analytics).\n",
    "- **Strict data consistency requirements**.\n",
    "\n",
    "❌ **Not ideal for:**\n",
    "- **Ultra-low-latency write-heavy workloads**.\n",
    "- **Unstructured or rapidly changing data models**.\n",
    "\n",
    "## **Final Recommendations**\n",
    "1. **For real-time applications** (e.g., gaming leaderboards, live dashboards), **MongoDB is the clear winner** due to its **low-latency writes and high throughput**.\n",
    "2. **For transactional systems** (e.g., order processing, financial records), **PostgreSQL remains superior** due to **ACID compliance**.\n",
    "\n",
    "This analysis confirms that **database selection should align with workload requirements**. **NoSQL for speed and scalability, SQL for consistency and complex queries**."
   ]
  },
  {
   "cell_type": "code",
   "execution_count": null,
   "id": "f4485fd8",
   "metadata": {},
   "outputs": [],
   "source": []
  }
 ],
 "metadata": {
  "kernelspec": {
   "display_name": "Python 3 (ipykernel)",
   "language": "python",
   "name": "python3"
  },
  "language_info": {
   "codemirror_mode": {
    "name": "ipython",
    "version": 3
   },
   "file_extension": ".py",
   "mimetype": "text/x-python",
   "name": "python",
   "nbconvert_exporter": "python",
   "pygments_lexer": "ipython3",
   "version": "3.9.5"
  }
 },
 "nbformat": 4,
 "nbformat_minor": 5
}
